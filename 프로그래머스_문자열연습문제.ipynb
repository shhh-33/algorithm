{
  "nbformat": 4,
  "nbformat_minor": 0,
  "metadata": {
    "colab": {
      "name": "프로그래머스_문자열연습문제.ipynb",
      "provenance": [],
      "authorship_tag": "ABX9TyN83MRkHhEvDRvaHBRc0G+M",
      "include_colab_link": true
    },
    "kernelspec": {
      "name": "python3",
      "display_name": "Python 3"
    },
    "language_info": {
      "name": "python"
    }
  },
  "cells": [
    {
      "cell_type": "markdown",
      "metadata": {
        "id": "view-in-github",
        "colab_type": "text"
      },
      "source": [
        "<a href=\"https://colab.research.google.com/github/shhh-33/algorithm/blob/shhh/%ED%94%84%EB%A1%9C%EA%B7%B8%EB%9E%98%EB%A8%B8%EC%8A%A4_%EB%AC%B8%EC%9E%90%EC%97%B4%EC%97%B0%EC%8A%B5%EB%AC%B8%EC%A0%9C.ipynb\" target=\"_parent\"><img src=\"https://colab.research.google.com/assets/colab-badge.svg\" alt=\"Open In Colab\"/></a>"
      ]
    },
    {
      "cell_type": "markdown",
      "source": [
        "##문자열 다루기 기본\n",
        "문자열 s의 길이가 4 혹은 6이고, 숫자로만 구성돼있는지 확인해주는 함수,\n",
        "solution을 완성하세요.\n",
        "\n",
        "\n",
        "예를 들어 s가 \"a234\"이면 False를 리턴하고 \"1234\"라면 True를 리턴하면 됩니다.\n"
      ],
      "metadata": {
        "id": "LKsDhpbYZAO7"
      }
    },
    {
      "cell_type": "code",
      "execution_count": null,
      "metadata": {
        "colab": {
          "base_uri": "https://localhost:8080/"
        },
        "id": "sv_f8yu4Y_xK",
        "outputId": "a494d2ab-ff17-477b-81f1-53fbe309aa52"
      },
      "outputs": [
        {
          "output_type": "stream",
          "name": "stdout",
          "text": [
            "False\n"
          ]
        }
      ],
      "source": [
        "def solution(s):\n",
        "    if(len(s)==4 or len(s)==6):\n",
        "        if s.isdigit():\n",
        "            return True\n",
        "        else:\n",
        "            return False\n",
        "    else:\n",
        "        return False\n",
        "\n",
        "print(solution(\"a234\"))"
      ]
    },
    {
      "cell_type": "code",
      "source": [
        "def solution(s):\n",
        "\n",
        "    return s.isdigit() and (len(s) == 4 or len(s) == 6)\n",
        "    \n",
        "print(solution(\"a234\"))"
      ],
      "metadata": {
        "colab": {
          "base_uri": "https://localhost:8080/"
        },
        "id": "S0i4s_chZpPr",
        "outputId": "f28632e6-990d-47df-a2de-3c4c8e16489d"
      },
      "execution_count": null,
      "outputs": [
        {
          "output_type": "stream",
          "name": "stdout",
          "text": [
            "False\n"
          ]
        }
      ]
    },
    {
      "cell_type": "markdown",
      "source": [
        "##문자열 내 p와 y의 개수\n",
        "대문자와 소문자가 섞여있는 문자열 s가 주어집니다.\n",
        "s에 'p'의 개수와 'y'의 개수를 비교해 같으면 True, \n",
        "다르면 False를 return \n",
        "\n",
        "('p', 'y' 모두 하나도 없는 경우는 항상 True를 리턴) \n",
        "\n",
        "단, 개수를 비교할 때 대문자와 소문자는 구별하지 않습니다.\n",
        "\n",
        "예를 들어 s가 \"pPoooyY\"면 true를 return하고 \"Pyy\"라면 false를 return합니다."
      ],
      "metadata": {
        "id": "KIyfTZlsZBLM"
      }
    },
    {
      "cell_type": "code",
      "source": [
        "def solution(s):\n",
        "    answer = True\n",
        "    p=0\n",
        "    y=0\n",
        "    s =s.upper()\n",
        "    \n",
        "    for i in range(len(s)):  \n",
        "        if(s[i]=='P'):\n",
        "            p +=1\n",
        "        elif(s[i]=='Y'):\n",
        "            y +=1\n",
        "            \n",
        "    if(p==y):\n",
        "        return True\n",
        "    else:\n",
        "        return False\n",
        "        \n",
        "    return answer\n",
        "\n",
        "\n",
        "print(solution(\"pPoooyY34\"))"
      ],
      "metadata": {
        "colab": {
          "base_uri": "https://localhost:8080/"
        },
        "id": "Uj64uxsCZBRv",
        "outputId": "c8453db4-cf13-4168-c778-b55167d19431"
      },
      "execution_count": null,
      "outputs": [
        {
          "output_type": "stream",
          "name": "stdout",
          "text": [
            "True\n"
          ]
        }
      ]
    },
    {
      "cell_type": "code",
      "source": [
        "def numPY(s):\n",
        "    # 함수를 완성하세요\n",
        "    return s.lower().count('p') == s.lower().count('y')\n",
        "\n",
        "# 아래는 테스트로 출력해 보기 위한 코드입니다.\n",
        "print( numPY(\"pPoooyY\") )\n",
        "print( numPY(\"Pyy\") )"
      ],
      "metadata": {
        "id": "8XvEjHD-ZwVI",
        "outputId": "5b2861bd-5247-473d-bf6e-ade3418ce17d",
        "colab": {
          "base_uri": "https://localhost:8080/"
        }
      },
      "execution_count": null,
      "outputs": [
        {
          "output_type": "stream",
          "name": "stdout",
          "text": [
            "True\n",
            "False\n"
          ]
        }
      ]
    },
    {
      "cell_type": "code",
      "source": [
        "def numPY(s):\n",
        "   \n",
        "    s = s.lower()\n",
        "    num_p = s.count('p')\n",
        "    num_y = s.count('y')\n",
        "    \n",
        "    if num_p == num_y: \n",
        "        return True\n",
        "    else: \n",
        "        return False\n",
        "\n",
        "print( numPY(\"pPoooyY\") )\n",
        "print( numPY(\"Pyy\") )"
      ],
      "metadata": {
        "id": "X-fM7ekBZx4n",
        "outputId": "8ec033e0-5bff-47f5-9486-609dc0c8e988",
        "colab": {
          "base_uri": "https://localhost:8080/"
        }
      },
      "execution_count": null,
      "outputs": [
        {
          "output_type": "stream",
          "name": "stdout",
          "text": [
            "True\n",
            "False\n"
          ]
        }
      ]
    },
    {
      "cell_type": "markdown",
      "source": [
        "##가운데 글자 가져오기\n",
        "단어 s의 가운데 글자를 반환하는 함수, solution을 만들어 보세요.\n",
        "\n",
        "\n",
        "단어의 길이가 짝수라면 가운데 두글자를 반환하면 됩니다."
      ],
      "metadata": {
        "id": "lx5pJnGtZBWq"
      }
    },
    {
      "cell_type": "code",
      "source": [
        "def solution(s):\n",
        "    \n",
        "    if(len(s) %2 ==0):\n",
        "        return s[(len(s)//2-1) : (len(s)//2+1)]\n",
        "    else:\n",
        "        return s[len(s)//2]\n",
        "\n",
        "print(solution(\"power\"))\n",
        "        "
      ],
      "metadata": {
        "colab": {
          "base_uri": "https://localhost:8080/"
        },
        "id": "Em5CTTw9ZBd7",
        "outputId": "c2861843-2f18-407f-f31a-41407638cb1c"
      },
      "execution_count": null,
      "outputs": [
        {
          "output_type": "stream",
          "name": "stdout",
          "text": [
            "w\n"
          ]
        }
      ]
    },
    {
      "cell_type": "markdown",
      "source": [
        "##이상한 문자 만들기\n",
        "문자열 s는 한 개 이상의 단어로 구성되어 있습니다.\n",
        "\n",
        " 각 단어는 하나 이상의 공백문자로 구분되어 있습니다. \n",
        " \n",
        " 각 단어의 짝수번째 알파벳은 대문자로, 홀수번째 알파벳은 소문자로 바꾼 문자열을 리턴하는 함수, solution을 완성하세요."
      ],
      "metadata": {
        "id": "vn2KU1ZAyTcV"
      }
    },
    {
      "cell_type": "code",
      "source": [
        "def solution(s):\n",
        "    result = []\n",
        "    for s in s.split(' '):  #띄어쓰기를 기준으로 문자를 분리해준다.\n",
        "        st = ''\n",
        "        for i in range(len(s)):  #index를 생성해주기 위해 for문을 만들어준다.\n",
        "            if i % 2 == 0:  #짝수번째라면 대문자, 홀수번째라면 소문자\n",
        "                st += s[i].upper()  #그 결과는 st라는 새로운 공간에 붙여준다.\n",
        "            else :\n",
        "                st += s[i].lower()\n",
        "        result.append(st)  #변형시킨 st들을 result에 리스트로 붙여준다.\n",
        "    return ' '.join(result)  #띄어쓰기를 기준으로 다시 문자를 붙여준다. 완성!"
      ],
      "metadata": {
        "id": "2jidG1D31u9D"
      },
      "execution_count": null,
      "outputs": []
    },
    {
      "cell_type": "markdown",
      "source": [
        "##문자열을 정수로 바꾸기\n",
        "문자열 s를 숫자로 변환한 결과를 반환하는 함수, solution을 완성하세요.\n",
        "\n",
        "###제한 조건\n",
        "s의 길이는 1 이상 5이하입니다.\n",
        "s의 맨앞에는 부호(+, -)가 올 수 있습니다.\n",
        "\n",
        "\n",
        "s는 부호와 숫자로만 이루어져있습니다.\n",
        "s는 \"0\"으로 시작하지 않습니다."
      ],
      "metadata": {
        "id": "Va_XF6iV4wLZ"
      }
    },
    {
      "cell_type": "code",
      "source": [
        "def solution(s):\n",
        "    if(len(s)>0 and len(s)<6):\n",
        "        return int(s)\n",
        "\n",
        "print(solution(\"1234\"))"
      ],
      "metadata": {
        "colab": {
          "base_uri": "https://localhost:8080/"
        },
        "id": "XQ69B9Me4wBO",
        "outputId": "934b7e57-468f-419f-f536-1ff26e12cf02"
      },
      "execution_count": null,
      "outputs": [
        {
          "output_type": "stream",
          "name": "stdout",
          "text": [
            "1234\n"
          ]
        }
      ]
    },
    {
      "cell_type": "code",
      "source": [
        "strToInt = int\n",
        "\n",
        "\n",
        "print(strToInt(\"-1234\"));\n"
      ],
      "metadata": {
        "colab": {
          "base_uri": "https://localhost:8080/"
        },
        "id": "osyiIWP47qWV",
        "outputId": "b36ea18f-e0f9-4041-d1ff-7692a9b2bec1"
      },
      "execution_count": null,
      "outputs": [
        {
          "output_type": "stream",
          "name": "stdout",
          "text": [
            "-1234\n"
          ]
        }
      ]
    },
    {
      "cell_type": "markdown",
      "source": [
        "##수박수박수박수박수박수?\n",
        "길이가 n이고, \"수박수박수박수....\"와 같은 패턴을 유지하는 문자열을 리턴하는 함수 완성하세요.\n",
        "\n",
        "예를들어 n이 4이면 \"수박수박\"을 리턴하고 3이라면 \"수박수\"를 리턴"
      ],
      "metadata": {
        "id": "WLbdReyF8jJ5"
      }
    },
    {
      "cell_type": "code",
      "source": [
        "def solution(n):\n",
        "    answer = ''\n",
        "    \n",
        "    for i in range(n): #4까지 반복\n",
        "        if(i%2==1): #인덱스 홀수면 \n",
        "            answer+='박'\n",
        "        else:\n",
        "            answer+='수'\n",
        "        \n",
        "    return answer\n",
        "\n",
        "print(solution(4))"
      ],
      "metadata": {
        "colab": {
          "base_uri": "https://localhost:8080/"
        },
        "id": "lFWy_kzF8jaQ",
        "outputId": "0265d069-15cd-4d43-83c3-57424a265f07"
      },
      "execution_count": null,
      "outputs": [
        {
          "output_type": "stream",
          "name": "stdout",
          "text": [
            "수박수박\n"
          ]
        }
      ]
    },
    {
      "cell_type": "code",
      "source": [
        "def water_melon(n):\n",
        "    s = \"수박\" * n\n",
        "    return s[:n]\n",
        "\n",
        "\n",
        "# 실행을 위한 테스트코드입니다.\n",
        "print(\"n이 3인 경우: \" + water_melon(3));"
      ],
      "metadata": {
        "colab": {
          "base_uri": "https://localhost:8080/"
        },
        "id": "jDKI0pyPDuNb",
        "outputId": "1fe14146-5d65-451e-d0c8-7da517d29d76"
      },
      "execution_count": null,
      "outputs": [
        {
          "output_type": "stream",
          "name": "stdout",
          "text": [
            "n이 3인 경우: 수박수\n"
          ]
        }
      ]
    },
    {
      "cell_type": "code",
      "source": [
        ""
      ],
      "metadata": {
        "id": "ETCFT28fUsA9"
      },
      "execution_count": null,
      "outputs": []
    },
    {
      "cell_type": "markdown",
      "source": [
        "##서울에서 김서방 찾기\n",
        "\n",
        "String형 배열 seoul의 element중 \"Kim\"의 위치 x를 찾아, \"김서방은 x에 있다\"는 String을 반환하는 함수, solution을 완성하세요.\n",
        "\n",
        " seoul에 \"Kim\"은 오직 한 번만 나타나며 잘못된 값이 입력되는 경우는 없습니다."
      ],
      "metadata": {
        "id": "LpYh8bcOK4ih"
      }
    },
    {
      "cell_type": "code",
      "source": [
        "def solution(seoul):\n",
        "    answer = ''\n",
        "    \n",
        "    x = seoul.index('Kim')  \n",
        "    answer = '김서방은 '+str(x)+'에 있다'\n",
        "    \n",
        "    return answer"
      ],
      "metadata": {
        "id": "5GEmVj7dK7O4"
      },
      "execution_count": 1,
      "outputs": []
    },
    {
      "cell_type": "code",
      "source": [
        "def findKim(seoul):\n",
        "    return \"김서방은 {}에 있다\".format(seoul.index('Kim'))\n",
        "\n",
        "\n",
        "# 실행을 위한 테스트코드입니다.\n",
        "print(findKim([\"Queen\", \"Tod\", \"Kim\"]))"
      ],
      "metadata": {
        "colab": {
          "base_uri": "https://localhost:8080/"
        },
        "id": "UNFLWRusUImX",
        "outputId": "2f4307bb-fda7-41bd-9253-8be32392b9f1"
      },
      "execution_count": 2,
      "outputs": [
        {
          "output_type": "stream",
          "name": "stdout",
          "text": [
            "김서방은 2에 있다\n"
          ]
        }
      ]
    },
    {
      "cell_type": "code",
      "source": [
        "def findKim(seoul):\n",
        "    \n",
        "    for i in range(len(seoul)):\n",
        "        if seoul[i]==\"Kim\":\n",
        "            return \"김서방은 {}에 있다\".format(i)\n",
        "\n",
        "\n",
        "print(findKim([\"Queen\", \"Tod\", \"Kim\"]))"
      ],
      "metadata": {
        "colab": {
          "base_uri": "https://localhost:8080/"
        },
        "id": "weil7dUyUUiu",
        "outputId": "1242652e-198b-46f3-8b58-dc5450f965c8"
      },
      "execution_count": 6,
      "outputs": [
        {
          "output_type": "stream",
          "name": "stdout",
          "text": [
            "김서방은 2에 있다\n"
          ]
        }
      ]
    },
    {
      "cell_type": "markdown",
      "source": [
        "##문자열 내림차순으로 배치하기\n",
        "\n",
        "문자열 s에 나타나는 문자를 큰것부터 작은 순으로 정렬해 새로운 문자열을 리턴하는 함수, solution을 완성해주세요.\n",
        "\n",
        "\n",
        "s는 영문 대소문자로만 구성되어 있으며, 대문자는 소문자보다 작은 것으로 간주합니다."
      ],
      "metadata": {
        "id": "SzlnbTHeUsuO"
      }
    },
    {
      "cell_type": "code",
      "source": [
        "def solution(s):\n",
        "  return(\"\".join(sorted(s)[::-1]))\n",
        "\n",
        "print(solution(\"aaREdg\"))"
      ],
      "metadata": {
        "colab": {
          "base_uri": "https://localhost:8080/"
        },
        "id": "uiocytJCUxbN",
        "outputId": "202e7b03-88cc-4973-b16f-b7f65d797345"
      },
      "execution_count": 8,
      "outputs": [
        {
          "output_type": "stream",
          "name": "stdout",
          "text": [
            "gdaaRE\n"
          ]
        }
      ]
    },
    {
      "cell_type": "code",
      "source": [
        "def solution(s):\n",
        "    return ''.join(sorted(s, reverse=True))"
      ],
      "metadata": {
        "id": "vzqWyhuTVrvf"
      },
      "execution_count": 10,
      "outputs": []
    },
    {
      "cell_type": "markdown",
      "source": [
        "##문자열 내 마음대로 정렬하기\n",
        "문자열로 구성된 리스트 strings와, 정수 n이 주어졌을 때, 각 문자열의 인덱스 n번째 글자를 기준으로 오름차순 정렬하려 합니다. 예를 들어 strings가 [\"sun\", \"bed\", \"car\"]이고 n이 1이면 각 단어의 인덱스 1의 문자 \"u\", \"e\", \"a\"로 strings를 정렬합니다."
      ],
      "metadata": {
        "id": "T4by1RZiXg43"
      }
    },
    {
      "cell_type": "code",
      "source": [
        "def solution(strings, n):\n",
        "    new = []\n",
        "    for i in strings:\n",
        "        new.append(i[n]+i)\n",
        "    new.sort()\n",
        "\n",
        "    return new\n",
        "\n",
        "print(solution([\"sun\", \"bed\", \"car\"], 1))\n"
      ],
      "metadata": {
        "colab": {
          "base_uri": "https://localhost:8080/"
        },
        "id": "xRl8EW8uXl7H",
        "outputId": "dc5b73bc-160a-4cd4-b436-7d5dbb6b5a36"
      },
      "execution_count": 16,
      "outputs": [
        {
          "output_type": "stream",
          "name": "stdout",
          "text": [
            "['acar', 'ebed', 'usun']\n"
          ]
        }
      ]
    },
    {
      "cell_type": "code",
      "source": [
        "def solution(strings, n):\n",
        "\n",
        "  #n인덱스로 정렬 먼저한다음(['acar', 'ebed', 'usun'])\n",
        "    new = []\n",
        "    for i in strings:\n",
        "        new.append(i[n]+i)\n",
        "    new.sort()\n",
        "\n",
        "  #1부터 차례로 출력\n",
        "    answer =[]\n",
        "    for i in new:\n",
        "        answer.append(i[1:])\n",
        "    return answer\n",
        "    \n",
        "print(solution([\"sun\", \"bed\", \"car\"], 1))"
      ],
      "metadata": {
        "colab": {
          "base_uri": "https://localhost:8080/"
        },
        "id": "pYJBnVeueHRg",
        "outputId": "4b5d80bc-7351-4aa5-cf8d-46d7cec0d5fa"
      },
      "execution_count": 17,
      "outputs": [
        {
          "output_type": "stream",
          "name": "stdout",
          "text": [
            "['car', 'bed', 'sun']\n"
          ]
        }
      ]
    },
    {
      "cell_type": "code",
      "source": [
        "def strange_sort(strings, n):\n",
        "    '''strings의 문자열들을 n번째 글자를 기준으로 정렬해서 return하세요'''\n",
        "    return sorted(strings, key=lambda x: x[n])\n",
        "\n",
        "strings = [\"sun\", \"bed\", \"car\"] \n",
        "print(strange_sort(strings, 1))"
      ],
      "metadata": {
        "colab": {
          "base_uri": "https://localhost:8080/"
        },
        "id": "dB4IOAn6b86p",
        "outputId": "cb232b75-37dc-4332-c538-0f718d6ee88b"
      },
      "execution_count": 13,
      "outputs": [
        {
          "output_type": "stream",
          "name": "stdout",
          "text": [
            "['car', 'bed', 'sun']\n"
          ]
        }
      ]
    },
    {
      "cell_type": "markdown",
      "source": [
        "##핸드폰 번호 가리기\n",
        "프로그래머스 모바일은 개인정보 보호를 위해 고지서를 보낼 때 고객들의 전화번호의 일부를 가립니다.\n",
        "\n",
        "\n",
        "전화번호가 문자열 phone_number로 주어졌을 때,  **전화번호의 뒷 4자리를 제외한 나머지 숫자를 전부 *으로 가린** 문자열을 리턴하는 함수, solution을 완성해주세요."
      ],
      "metadata": {
        "id": "cqwSEXvHm7_T"
      }
    },
    {
      "cell_type": "code",
      "source": [
        "def solution(phone_number):\n",
        "    answer = ''\n",
        "    \n",
        "    #4개를 *로 만들고\n",
        "    for i in range(len(phone_number)-4):\n",
        "        answer+='*'\n",
        "    #answer +=phone_number[-4:]\n",
        "    return answer\n",
        "\n",
        "print(solution(\"21212000\"))"
      ],
      "metadata": {
        "colab": {
          "base_uri": "https://localhost:8080/"
        },
        "id": "Bsq_acGGm8cn",
        "outputId": "2f7bf4f6-5700-4ae0-e019-ff32d709fc64"
      },
      "execution_count": 19,
      "outputs": [
        {
          "output_type": "stream",
          "name": "stdout",
          "text": [
            "****\n"
          ]
        }
      ]
    },
    {
      "cell_type": "code",
      "source": [
        "def solution(phone_number):\n",
        "    answer = ''\n",
        "    \n",
        "    #4개를 *로 만들고\n",
        "    for i in range(len(phone_number)-4):\n",
        "        answer+='*'\n",
        "    answer +=phone_number[-4:] #뒤에서 4개 뺀거 answer에 더하기 \n",
        "    return answer\n",
        "\n",
        "print(solution(\"21212000\"))"
      ],
      "metadata": {
        "colab": {
          "base_uri": "https://localhost:8080/"
        },
        "id": "j-jevl5hph08",
        "outputId": "fb2ec0aa-a8c1-4413-a409-39af90fa3d29"
      },
      "execution_count": 20,
      "outputs": [
        {
          "output_type": "stream",
          "name": "stdout",
          "text": [
            "****2000\n"
          ]
        }
      ]
    }
  ]
}