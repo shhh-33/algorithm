{
  "nbformat": 4,
  "nbformat_minor": 0,
  "metadata": {
    "colab": {
      "name": "프로그래머스연습문제.ipynb",
      "provenance": [],
      "authorship_tag": "ABX9TyMWC7mDS0TOSOxxOKUBmyVg",
      "include_colab_link": true
    },
    "kernelspec": {
      "name": "python3",
      "display_name": "Python 3"
    },
    "language_info": {
      "name": "python"
    }
  },
  "cells": [
    {
      "cell_type": "markdown",
      "metadata": {
        "id": "view-in-github",
        "colab_type": "text"
      },
      "source": [
        "<a href=\"https://colab.research.google.com/github/shhh-33/algorithm/blob/shhh/%ED%94%84%EB%A1%9C%EA%B7%B8%EB%9E%98%EB%A8%B8%EC%8A%A4%EC%97%B0%EC%8A%B5%EB%AC%B8%EC%A0%9C.ipynb\" target=\"_parent\"><img src=\"https://colab.research.google.com/assets/colab-badge.svg\" alt=\"Open In Colab\"/></a>"
      ]
    },
    {
      "cell_type": "markdown",
      "source": [
        "##평균구하기\n",
        "정수를 담고 있는 배열 arr의 평균값을 return하는 함수, solution을 완성해보세요."
      ],
      "metadata": {
        "id": "O--IN4htjyCx"
      }
    },
    {
      "cell_type": "code",
      "execution_count": 1,
      "metadata": {
        "colab": {
          "base_uri": "https://localhost:8080/"
        },
        "id": "9v_djulejxWV",
        "outputId": "aa2729d9-aaed-4daf-c458-eb1ec204186c"
      },
      "outputs": [
        {
          "output_type": "stream",
          "name": "stdout",
          "text": [
            "2.0\n"
          ]
        }
      ],
      "source": [
        "def solution(arr):\n",
        "   return sum(arr)/len(arr)\n",
        "\n",
        "print(solution([1,2,3]))"
      ]
    },
    {
      "cell_type": "markdown",
      "source": [
        "##짝수와 홀수\n",
        "정수 num이 짝수일 경우 \"Even\"을 반환하고 홀수인 경우 \"Odd\"를 반환하는 함수"
      ],
      "metadata": {
        "id": "McYTqUqtlFMo"
      }
    },
    {
      "cell_type": "code",
      "source": [
        "def solution(num):\n",
        "    if(num %2==0):\n",
        "      return \"Even\"\n",
        "    else:\n",
        "      return \"Odd\"\n",
        "\n",
        "print(solution(5))"
      ],
      "metadata": {
        "colab": {
          "base_uri": "https://localhost:8080/"
        },
        "id": "zWUye8OilF0u",
        "outputId": "2203aeff-5444-4ac1-d293-9d037e51dc5e"
      },
      "execution_count": null,
      "outputs": [
        {
          "output_type": "stream",
          "name": "stdout",
          "text": [
            "Odd\n"
          ]
        }
      ]
    },
    {
      "cell_type": "markdown",
      "source": [
        "##별"
      ],
      "metadata": {
        "id": "3e98_aoNpQIi"
      }
    },
    {
      "cell_type": "code",
      "source": [
        "#a, b = map(int, input().strip().split(' '))\n",
        "a, b = map(int,input().split())\n",
        "\n",
        "for i in range(a):            #바깥쪽 루프는 세로 방향\n",
        "    for j in range(b):        #  안쪽 루프는 가로 방향\n",
        "        print('*', end='')    \n",
        "    print('')\n"
      ],
      "metadata": {
        "colab": {
          "base_uri": "https://localhost:8080/"
        },
        "id": "sbFJxU5qnu0f",
        "outputId": "69b1243b-e978-46d9-e337-c39b99321de5"
      },
      "execution_count": 4,
      "outputs": [
        {
          "output_type": "stream",
          "name": "stdout",
          "text": [
            "5 3\n",
            "***\n",
            "***\n",
            "***\n",
            "***\n",
            "***\n"
          ]
        }
      ]
    },
    {
      "cell_type": "markdown",
      "source": [
        "##최대공약수와 최소공배수\n",
        "두 수를 입력받아 두 수의 최대공약수와 최소공배수를 반환하는 함수, solution을 완성해 보세요. \n",
        "\n",
        "배열의 맨 앞에 최대공약수, 그다음 최소공배수를 넣어 반환하면 됩니다. \n",
        "\n",
        "예를 들어 두 수 3, 12의 최대공약수는 3, 최소공배수는 12이므로 solution(3, 12)는 [3, 12]를 반환해야 합니다.\n",
        "\n",
        "- 최소공배수 : 숫자1 x 숫자2 / 최대공약수\n",
        "- 최소공배수 x 최대공약수 : 숫자1 x 숫자2"
      ],
      "metadata": {
        "id": "0CBabeUMpSWB"
      }
    },
    {
      "cell_type": "code",
      "source": [
        "from math import gcd\n",
        "# python 3.9 부터는 math.lcm 사용 가능\n",
        "\n",
        "def solution(n, m):\n",
        "    return [gcd(n, m) , n * m // gcd(n, m)] #gcd:최대공약수, 최소공배수\n",
        "\n",
        "print(solution(3,12))"
      ],
      "metadata": {
        "id": "2s7nPX0Xpc3d",
        "colab": {
          "base_uri": "https://localhost:8080/"
        },
        "outputId": "90c3721c-975c-4ed9-e5df-819412a4483a"
      },
      "execution_count": null,
      "outputs": [
        {
          "output_type": "stream",
          "name": "stdout",
          "text": [
            "[3, 12]\n"
          ]
        }
      ]
    },
    {
      "cell_type": "code",
      "source": [
        "def gcdlcm(a, b):\n",
        "    c, d = max(a, b), min(a, b)\n",
        "    t = 1\n",
        "    while t > 0:\n",
        "        t = c % d\n",
        "        c, d = d, t\n",
        "    answer = [c, int(a*b/c)]    #최대공약수, 최소공배수\n",
        "\n",
        "    return answer\n",
        "\n",
        "# 아래는 테스트로 출력해 보기 위한 코드입니다.\n",
        "print(gcdlcm(3,12))\n"
      ],
      "metadata": {
        "id": "Ud0SIfGZqTkZ",
        "colab": {
          "base_uri": "https://localhost:8080/"
        },
        "outputId": "efa914e1-79c0-4107-e690-513bb7c5d849"
      },
      "execution_count": null,
      "outputs": [
        {
          "output_type": "stream",
          "name": "stdout",
          "text": [
            "[3, 12]\n"
          ]
        }
      ]
    },
    {
      "cell_type": "markdown",
      "source": [
        "##x만큼 간격이 있는 n개의 숫자\n",
        "함수 solution은 정수 x와 자연수 n을 입력 받아, x부터 시작해 x씩 증가하는 숫자를 n개 지니는 리스트를 리턴해야 합니다.\n",
        "\n",
        "\n",
        "x\tn\tanswer\n",
        "\n",
        "\n",
        "2\t5\t[2,4,6,8,10]"
      ],
      "metadata": {
        "id": "5UuBKKjuxGvM"
      }
    },
    {
      "cell_type": "code",
      "source": [
        "def solution(x, n):\n",
        "    answer = []\n",
        "    tmp = 0\n",
        "    for i in range(n):\n",
        "        tmp += x\n",
        "        answer.append(tmp)\n",
        "        \n",
        "    return answer\n",
        "\n",
        "print(solution(2,5))"
      ],
      "metadata": {
        "colab": {
          "base_uri": "https://localhost:8080/"
        },
        "id": "CfsQPW1fxSCe",
        "outputId": "b34423b1-1ca5-4d2d-b8b9-b7c089788825"
      },
      "execution_count": null,
      "outputs": [
        {
          "output_type": "stream",
          "name": "stdout",
          "text": [
            "[2, 4, 6, 8, 10]\n"
          ]
        }
      ]
    },
    {
      "cell_type": "markdown",
      "source": [
        "##정수 내림차순으로 배치하기\n",
        "함수 solution은 정수 n을 매개변수로 입력받습니다. n의 각 자릿수를 큰것부터 작은 순으로 정렬한 새로운 정수를 리턴해주세요. 예를들어 n이 118372면 873211을 리턴하면 됩니다."
      ],
      "metadata": {
        "id": "5U-XjD-d0Tn8"
      }
    },
    {
      "cell_type": "markdown",
      "source": [
        "정수 n을 str로 변환 -> list 형식으로 변환 \n",
        "\n",
        "\n",
        "list n을 내림차순으로 정렬 sort()\n",
        "\n",
        "\n",
        "list -> string으로\"\".join() 변환해준 뒤 int로 바꿔서 return \n"
      ],
      "metadata": {
        "id": "znNDdsTn2LjS"
      }
    },
    {
      "cell_type": "code",
      "source": [
        "def solution(n):\n",
        "    n = list(str(n))\n",
        "    n.sort(reverse=True)    \n",
        "    \n",
        "    return int(\"\".join(n))\n",
        "\n",
        "print(solution(111434))"
      ],
      "metadata": {
        "colab": {
          "base_uri": "https://localhost:8080/"
        },
        "id": "zENQAmba2Ksg",
        "outputId": "237aeb0e-7fe3-4a33-c6de-5d00fb0a2840"
      },
      "execution_count": null,
      "outputs": [
        {
          "output_type": "stream",
          "name": "stdout",
          "text": [
            "443111\n"
          ]
        }
      ]
    },
    {
      "cell_type": "markdown",
      "source": [
        "###sort, sorted 차이\n",
        "sort()의 경우 기존 a의 값을 기본 오름차순으로 정렬  +원본 리스트를 정렬하되 반환 값은 None 입니다.\n",
        "\n",
        "sorted()의 경우는 기존 b의 값들은 내비두고 새롭게 정렬된 리스트로 반환시킨다. + 모든 iterable에 동작합니다. (list, tuple, dict, 문자열 등)"
      ],
      "metadata": {
        "id": "GjTTUtblLN_s"
      }
    },
    {
      "cell_type": "markdown",
      "source": [
        "- <list>.sort()를 사용하면 원본 리스트 순서를 변화시킬 수 있습니다.\n",
        "\n",
        "- sorted(<list>)를 사용하면 정렬된 새로운 리스트를 반환 받을 수 있습니다.\n",
        "\n",
        "- <list>.sort()는 새로운 복사본을 만들지 않기 때문에 sorted(<list>) 함수보다 빠릅니다."
      ],
      "metadata": {
        "id": "YtZ9SydQLyYu"
      }
    },
    {
      "cell_type": "markdown",
      "source": [
        "![image.png](data:image/png;base64,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)"
      ],
      "metadata": {
        "id": "rCuPtJpvLiqu"
      }
    },
    {
      "cell_type": "code",
      "source": [
        "a = [1,3,2,5,4]\n",
        " \n",
        "a.sort()\n",
        "print(a)"
      ],
      "metadata": {
        "colab": {
          "base_uri": "https://localhost:8080/"
        },
        "id": "A4KU0O3_LTVB",
        "outputId": "6eb88103-4755-4522-84ed-bc954775838f"
      },
      "execution_count": 5,
      "outputs": [
        {
          "output_type": "stream",
          "name": "stdout",
          "text": [
            "[1, 2, 3, 4, 5]\n"
          ]
        }
      ]
    },
    {
      "cell_type": "code",
      "source": [
        "b = [1,3,2,5,4]\n",
        "result = sorted(b)\n",
        " \n",
        "print(result)\n",
        "print(b)"
      ],
      "metadata": {
        "colab": {
          "base_uri": "https://localhost:8080/"
        },
        "id": "ZmSlNtpuLTXC",
        "outputId": "95ac836e-744c-4848-e086-cee01a5a640c"
      },
      "execution_count": 6,
      "outputs": [
        {
          "output_type": "stream",
          "name": "stdout",
          "text": [
            "[1, 2, 3, 4, 5]\n",
            "[1, 3, 2, 5, 4]\n"
          ]
        }
      ]
    },
    {
      "cell_type": "markdown",
      "source": [
        "##약수의 합\n",
        "정수 n을 입력받아 n의 약수를 모두 더한 값을 리턴하는 함수"
      ],
      "metadata": {
        "id": "lPs0tWva-SLS"
      }
    },
    {
      "cell_type": "code",
      "source": [
        "def solution(n):\n",
        "    sum = 0\n",
        "    \n",
        "    for i in range(1, n+1):\n",
        "        if n % i == 0:\n",
        "            sum += i\n",
        "    return sum\n",
        "        \n",
        "print(solution(12))"
      ],
      "metadata": {
        "colab": {
          "base_uri": "https://localhost:8080/"
        },
        "id": "IS8KnJkQ-STJ",
        "outputId": "0ba92359-2fe5-4b26-9e74-7202558241ce"
      },
      "execution_count": 7,
      "outputs": [
        {
          "output_type": "stream",
          "name": "stdout",
          "text": [
            "28\n"
          ]
        }
      ]
    },
    {
      "cell_type": "markdown",
      "source": [
        "##두 정수 사이의 합\n",
        "두 정수 a, b가 주어졌을 때 a와 b 사이에 속한 모든 정수의 합을 리턴하는 함수, solution을 완성하세요.\n",
        "- 예를 들어 a = 3, b = 5인 경우, 3 + 4 + 5 = 12이므로 12를 리턴합니다."
      ],
      "metadata": {
        "id": "4pIsBXwR--YF"
      }
    },
    {
      "cell_type": "code",
      "source": [
        "def solution(a, b):\n",
        "    return sum(range(min(a, b), max(a, b) + 1))\n",
        "\n",
        "print(solution(3,5))"
      ],
      "metadata": {
        "colab": {
          "base_uri": "https://localhost:8080/"
        },
        "id": "vNPPswhb--i1",
        "outputId": "11ad8788-f81d-479e-8a71-885f57cdd5f2"
      },
      "execution_count": null,
      "outputs": [
        {
          "output_type": "stream",
          "name": "stdout",
          "text": [
            "12\n"
          ]
        }
      ]
    },
    {
      "cell_type": "markdown",
      "source": [
        "##자릿수 더하기\n",
        "자연수 N이 주어지면, N의 각 자릿수의 합을 구해서 return 하는 solution 함수를 만들어 주세요.\n",
        "- 예를들어 N = 123이면 1 + 2 + 3 = 6을 return 하면 됩니다."
      ],
      "metadata": {
        "id": "cLD8hy9IBSXC"
      }
    },
    {
      "cell_type": "code",
      "source": [
        "def solution(n):\n",
        "    a=list(map(int,str(n)))\n",
        "    return sum(a)\n",
        "\n",
        "print(solution(12))"
      ],
      "metadata": {
        "colab": {
          "base_uri": "https://localhost:8080/"
        },
        "id": "whzTenuJSK-m",
        "outputId": "cd2c7cf6-c8ca-4de9-a35a-a4b580ce9f12"
      },
      "execution_count": 13,
      "outputs": [
        {
          "output_type": "stream",
          "name": "stdout",
          "text": [
            "3\n"
          ]
        }
      ]
    },
    {
      "cell_type": "code",
      "source": [
        "def solution(n):\n",
        "    N=[int(i) for i in str(n)]\n",
        "\n",
        "    return sum(N)\n",
        "    \n",
        "print(solution(344))"
      ],
      "metadata": {
        "colab": {
          "base_uri": "https://localhost:8080/"
        },
        "id": "noV1KvSfCdd9",
        "outputId": "25624e5b-aade-48b0-f018-7845af72b690"
      },
      "execution_count": null,
      "outputs": [
        {
          "output_type": "stream",
          "name": "stdout",
          "text": [
            "11\n"
          ]
        }
      ]
    },
    {
      "cell_type": "code",
      "source": [
        "def solution(number):\n",
        "    '''number의 각 자릿수를 더해서 return하세요'''\n",
        "    return sum(map(int,str(number)))\n",
        "\n",
        "\n",
        "print(\"결과 : {}\".format(solution(123)));"
      ],
      "metadata": {
        "colab": {
          "base_uri": "https://localhost:8080/"
        },
        "id": "VIeeyjl5D4eI",
        "outputId": "63a82b80-16ea-4e15-d415-303459841b75"
      },
      "execution_count": null,
      "outputs": [
        {
          "output_type": "stream",
          "name": "stdout",
          "text": [
            "결과 : 6\n"
          ]
        }
      ]
    },
    {
      "cell_type": "markdown",
      "source": [
        "##행렬의 덧셈"
      ],
      "metadata": {
        "id": "48BnXdnTEaga"
      }
    },
    {
      "cell_type": "code",
      "source": [
        "def sumMatrix(A,B):\n",
        "    answer = []\n",
        " \n",
        "    for i in range(len(A)):\n",
        "        tmp=[]\n",
        "        for j in range(len(A[i])):\n",
        "            tmp.append(A[i][j]+B[i][j])\n",
        "        \n",
        "        answer.append(tmp)\n",
        "     \n",
        "    return answer\n",
        "  \n",
        "# 아래는 테스트로 출력해 보기 위한 코드입니다.\n",
        "print(sumMatrix([[1,2], [2,3]], [[3,4],[5,6]]))\n"
      ],
      "metadata": {
        "colab": {
          "base_uri": "https://localhost:8080/"
        },
        "id": "HUb4-cQFG7kJ",
        "outputId": "95100dd0-e8a8-4a3c-a254-7c9e4c0ce220"
      },
      "execution_count": null,
      "outputs": [
        {
          "output_type": "stream",
          "name": "stdout",
          "text": [
            "[[4, 6], [7, 9]]\n"
          ]
        }
      ]
    },
    {
      "cell_type": "code",
      "source": [
        "list1 = [1,2,3,4]\n",
        "a = np.array(list1)\n",
        "print(a)"
      ],
      "metadata": {
        "colab": {
          "base_uri": "https://localhost:8080/"
        },
        "id": "Vlb--pcsGxFf",
        "outputId": "70bc0626-9f45-4779-83b4-8d30efbd27f1"
      },
      "execution_count": null,
      "outputs": [
        {
          "output_type": "stream",
          "name": "stdout",
          "text": [
            "[1 2 3 4]\n"
          ]
        }
      ]
    },
    {
      "cell_type": "code",
      "source": [
        "import numpy as np\n",
        "def sumMatrix(A,B):\n",
        "    A=np.array(A)\n",
        "    B=np.array(B)\n",
        "    answer=A+B\n",
        "    return answer.tolist()\n",
        "\n",
        "# 아래는 테스트로 출력해 보기 위한 코드입니다.\n",
        "print(sumMatrix([[1,2], [2,3]], [[3,4],[5,6]]))\n"
      ],
      "metadata": {
        "colab": {
          "base_uri": "https://localhost:8080/"
        },
        "id": "spFsrNqkGk_A",
        "outputId": "4811a00d-f187-439c-d235-5ddbf759e9b3"
      },
      "execution_count": null,
      "outputs": [
        {
          "output_type": "stream",
          "name": "stdout",
          "text": [
            "[[4, 6], [7, 9]]\n"
          ]
        }
      ]
    },
    {
      "cell_type": "markdown",
      "source": [
        "##소수 찾기\n",
        "1부터 입력받은 숫자 n 사이에 있는 소수의 개수를 반환하는 함수, solution을 만들어 보세요.\n",
        "\n",
        "소수는 1과 자기 자신으로만 나누어지는 수를 의미합니다.\n",
        "(1은 소수가 아닙니다.)"
      ],
      "metadata": {
        "id": "TN7xnuWlIyPR"
      }
    },
    {
      "cell_type": "markdown",
      "source": [
        "<에라토스테네스의 체>\n",
        "\n",
        "\n",
        "1. 배열을 생성하여 초기화한다.\n",
        "2. 2부터 시작해서 특정 수의 배수에 해당하는 수를 모두 지운다.\n",
        "\n",
        "(지울 때 자기자신은 지우지 않고, 이미 지워진 수는 건너뛴다.)\n",
        "3. 2부터 시작하여 남아있는 수를 모두 출력한다."
      ],
      "metadata": {
        "id": "GzRCAPOMlwYo"
      }
    },
    {
      "cell_type": "code",
      "source": [
        "def solution(n):\n",
        "    num=set(range(2,n+1)) #지울라고 set\n",
        "\n",
        "    for i in range(2,n+1): #2부터 시작\n",
        "        if i in num:\n",
        "            num-=set(range(2*i,n+1,i))\n",
        "    return len(num)\n",
        "\n",
        "print(solution(10))"
      ],
      "metadata": {
        "colab": {
          "base_uri": "https://localhost:8080/"
        },
        "id": "q8sh6VElLaLp",
        "outputId": "ee87584d-4ad1-4a8d-e290-2f3ac2822b1b"
      },
      "execution_count": null,
      "outputs": [
        {
          "output_type": "stream",
          "name": "stdout",
          "text": [
            "4\n"
          ]
        }
      ]
    },
    {
      "cell_type": "markdown",
      "source": [
        "##소수찾기--완전탐색 다시....\n",
        "각 종이 조각에 적힌 숫자가 적힌 문자열 numbers가 주어졌을 때, 종이 조각으로 만들 수 있는 소수가 몇 개인지 return"
      ],
      "metadata": {
        "id": "iejedaLzntYv"
      }
    },
    {
      "cell_type": "markdown",
      "source": [
        "예제 #1\n",
        "[1, 7]으로는 소수 [7, 17, 71]를 만들 수 있습니다.\n",
        "\n",
        "예제 #2\n",
        "[0, 1, 1]으로는 소수 [11, 101]를 만들 수 있습니다."
      ],
      "metadata": {
        "id": "wZYv3RW0rf0Q"
      }
    },
    {
      "cell_type": "code",
      "source": [
        "from itertools import permutations\n",
        "def solution(n):\n",
        "    a = set()\n",
        "    for i in range(len(n)):\n",
        "        a |= set(map(int, map(\"\".join, permutations(list(n), i + 1))))\n",
        "    a -= set(range(0, 2))\n",
        "    for i in range(2, int(max(a) ** 0.5) + 1):\n",
        "        a -= set(range(i * 2, max(a) + 1, i))\n",
        "    return len(a)"
      ],
      "metadata": {
        "id": "_Cn18mAcpr5G"
      },
      "execution_count": null,
      "outputs": []
    },
    {
      "cell_type": "markdown",
      "source": [
        "##2016년\n",
        "2016년 1월 1일은 금요일입니다. 2016년 a월 b일은 무슨 요일일까요? \n",
        "\n",
        "두 수 a ,b를 입력받아 2016년 a월 b일이 무슨 요일인지 리턴하는 함수, solution을 완성하세요. \n",
        "\n",
        "요일의 이름은 일요일부터 토요일까지 각각 SUN,MON,TUE,WED,THU,FRI,SAT\n",
        "\n",
        "입니다. 예를 들어 a=5, b=24라면 5월 24일은 화요일이므로 문자열 \"TUE\"를 반환하세요."
      ],
      "metadata": {
        "id": "ThKz_um24TtB"
      }
    },
    {
      "cell_type": "code",
      "source": [
        "def solution(a, b): #월,일\n",
        "    answer = 0\n",
        "    days = ['FRI','SAT','SUN','MON','TUE','WED','THU']\n",
        "    months = [31, 29, 31, 30, 31, 30,31, 31, 30, 31, 30, 31]\n",
        "    \n",
        "    for i in range(a-1):\n",
        "      answer += months[i]\n",
        "\n",
        "    answer += b-1\n",
        "    return answer\n",
        "\n",
        "print(solution(5,24))"
      ],
      "metadata": {
        "colab": {
          "base_uri": "https://localhost:8080/"
        },
        "id": "0xW6Q4fW8jfh",
        "outputId": "dfa09f63-c93c-4fe1-c171-f79a68bc2fcc"
      },
      "execution_count": null,
      "outputs": [
        {
          "output_type": "stream",
          "name": "stdout",
          "text": [
            "144\n"
          ]
        }
      ]
    },
    {
      "cell_type": "code",
      "source": [
        "144%7"
      ],
      "metadata": {
        "colab": {
          "base_uri": "https://localhost:8080/"
        },
        "id": "eduXSHKupruu",
        "outputId": "674c403a-8448-43fb-c325-28339d1aaf6c"
      },
      "execution_count": 2,
      "outputs": [
        {
          "output_type": "execute_result",
          "data": {
            "text/plain": [
              "4"
            ]
          },
          "metadata": {},
          "execution_count": 2
        }
      ]
    },
    {
      "cell_type": "code",
      "source": [
        "def solution(a, b): #월,일\n",
        "    answer = 0\n",
        "    days = ['FRI','SAT','SUN','MON','TUE','WED','THU']\n",
        "    months = [31, 29, 31, 30, 31, 30,31, 31, 30, 31, 30, 31]\n",
        "    \n",
        "    for i in range(a-1):\n",
        "      answer += months[i] #1월부터 12월의 총 일수를 다 넣어준다.\n",
        "    \n",
        "    answer += b-1 #지난 일수를 다 더한뒤 \n",
        "    answer = answer%7\n",
        "    \n",
        "    return days[answer]\n",
        "print(solution(5,24))"
      ],
      "metadata": {
        "id": "RvB_wL-74eQH",
        "colab": {
          "base_uri": "https://localhost:8080/"
        },
        "outputId": "96b536f1-ac8c-4591-a682-6c38f601de0e"
      },
      "execution_count": 1,
      "outputs": [
        {
          "output_type": "stream",
          "name": "stdout",
          "text": [
            "TUE\n"
          ]
        }
      ]
    },
    {
      "cell_type": "markdown",
      "source": [
        "- 1월1일이 금요일부터 시작이므로 days에 금요일부터 차례대로 넣어준다.\n",
        "- 1월부터 12월의 총 일수를 다 넣어준다.\n",
        "- 그리고 지난 일수를 다 더한뒤 7로 나눈 나머지를 days에서 출력해주면 된다.\n"
      ],
      "metadata": {
        "id": "MoA6ahnj6NID"
      }
    },
    {
      "cell_type": "code",
      "source": [
        "import datetime\n",
        "\n",
        "def getDayName(a,b):\n",
        "    t = 'MON TUE WED THU FRI SAT SUN'.split()\n",
        "    return t[datetime.datetime(2016, a, b).weekday()]"
      ],
      "metadata": {
        "id": "23uQhXu_6Vw5"
      },
      "execution_count": null,
      "outputs": []
    },
    {
      "cell_type": "markdown",
      "source": [
        "- datetime.datetime(YEAR, MONTH, DAY)\n",
        "-weekday() : 정수로 요일을 반환합니다. 월요일은 0 ~ 일요일은 6입니다.\n"
      ],
      "metadata": {
        "id": "JD0bCIxG6mNO"
      }
    },
    {
      "cell_type": "markdown",
      "source": [
        "##같은 숫자는 싫어\n",
        "배열 arr에서 연속적으로 나타나는 숫자는 제거하고 남은 수들을 return 하는 solution 함수"
      ],
      "metadata": {
        "id": "dZNW3V9E-6bR"
      }
    },
    {
      "cell_type": "code",
      "source": [
        "def solution(arr):\n",
        "    answer = []\n",
        "    \n",
        "    for i in range(len(arr)):\n",
        "        if i == 0:\n",
        "            answer.append(arr[i]) #첫값은 넣음\n",
        "        elif arr[i] != arr[i-1]: # 현재 list의 값이 그 전의 값과 다르다면 answer list에 추가, 같다면 추가하지 않음\n",
        "            answer.append(arr[i])   \n",
        "    \n",
        "    return answer\n",
        "\n",
        "print(solution([1,1,1,2,3,4,44,4]))\n"
      ],
      "metadata": {
        "colab": {
          "base_uri": "https://localhost:8080/"
        },
        "id": "zvG493wm_DIT",
        "outputId": "79745cd7-4699-45d8-c060-39b043552d2e"
      },
      "execution_count": null,
      "outputs": [
        {
          "output_type": "stream",
          "name": "stdout",
          "text": [
            "[1, 2, 3, 4, 44, 4]\n"
          ]
        }
      ]
    },
    {
      "cell_type": "code",
      "source": [
        "list_a = [1,3,2,3,5,3,4,4,5]\n",
        "list_b = list(set(list_a)) #set으로 중복제거 \n",
        "print(list_b)"
      ],
      "metadata": {
        "colab": {
          "base_uri": "https://localhost:8080/"
        },
        "id": "3Yq-4i5aCKri",
        "outputId": "6eaa6ff3-1d1c-48ea-d2ed-3f01ee80db3b"
      },
      "execution_count": null,
      "outputs": [
        {
          "output_type": "stream",
          "name": "stdout",
          "text": [
            "[1, 2, 3, 4, 5]\n"
          ]
        }
      ]
    },
    {
      "cell_type": "code",
      "source": [
        "a='323,4,4'\n",
        "b=[1,3,4]\n",
        "print(a)\n",
        "print(b)"
      ],
      "metadata": {
        "colab": {
          "base_uri": "https://localhost:8080/"
        },
        "id": "OdNcDRXvC7QV",
        "outputId": "24063899-c46d-4a3f-d316-5eb2c5dd6260"
      },
      "execution_count": null,
      "outputs": [
        {
          "output_type": "stream",
          "name": "stdout",
          "text": [
            "323,4,4\n",
            "[1, 3, 4]\n"
          ]
        }
      ]
    },
    {
      "cell_type": "markdown",
      "source": [
        "##나누어 떨어지는 숫자 배열\n",
        "array의 각 element 중 divisor로 나누어 떨어지는 값을 오름차순으로 정렬한 배열을 반환하는 함수, solution을 작성해주세요.\n",
        "\n",
        "\n",
        "divisor로 나누어 떨어지는 element가 하나도 없다면 배열에 -1을 담아 반환하세요."
      ],
      "metadata": {
        "id": "jQntp9teD2Mw"
      }
    },
    {
      "cell_type": "code",
      "source": [
        "def solution(arr, divisor):\n",
        "    answer = []\n",
        "\n",
        "    for i in range(len(arr)) :\n",
        "        if arr[i] % divisor == 0 :\n",
        "            answer.append(arr[i]) #나누어떨어지면 리스트에 추가\n",
        "\n",
        "    if len(answer) == 0 : #하나도 없으면 -1리턴 ,,,,if not answer: 가능\n",
        "        answer.append(-1)\n",
        "    else :\n",
        "        answer.sort #sorted(answer)는 안돼...원본리스트를 리턴중이라\n",
        "    return answer\n",
        "\n",
        "print(solution([1,2,3],2)) #배열, 나누어떨어지는 값"
      ],
      "metadata": {
        "colab": {
          "base_uri": "https://localhost:8080/"
        },
        "id": "cyWiXIhVLjFS",
        "outputId": "d842aa48-2817-4d2e-cb32-57a404b578e2"
      },
      "execution_count": 4,
      "outputs": [
        {
          "output_type": "stream",
          "name": "stdout",
          "text": [
            "[2]\n"
          ]
        }
      ]
    },
    {
      "cell_type": "markdown",
      "source": [
        "###리스트 수만큼 반복"
      ],
      "metadata": {
        "id": "4HH-FgDZQT_t"
      }
    },
    {
      "cell_type": "code",
      "source": [
        "names = ['철수', '영희', '바둑이', '귀도', '비단뱀']\n",
        "\n",
        "for i in range(len(names)):\n",
        "    name = names[i]\n",
        "    print('{}번 : {}'.format(i + 1, name))"
      ],
      "metadata": {
        "colab": {
          "base_uri": "https://localhost:8080/"
        },
        "id": "Vok-EiovD9g6",
        "outputId": "e1b84044-2b45-4244-d0f6-022ba3ebd887"
      },
      "execution_count": null,
      "outputs": [
        {
          "output_type": "stream",
          "name": "stdout",
          "text": [
            "1번 : 철수\n",
            "2번 : 영희\n",
            "3번 : 바둑이\n",
            "4번 : 귀도\n",
            "5번 : 비단뱀\n"
          ]
        }
      ]
    },
    {
      "cell_type": "markdown",
      "source": [
        "##자연수 뒤집어 배열로 만들기\n",
        "자연수 n을 뒤집어 각 자리 숫자를 원소로 가지는 배열 형태로 리턴해주세요. \n",
        "\n",
        "- 예를들어 n이 12345이면 [5,4,3,2,1]을 리턴"
      ],
      "metadata": {
        "id": "rMZ_-BqPSNtW"
      }
    },
    {
      "cell_type": "code",
      "source": [
        "def solution(n):\n",
        "    a = []\n",
        "    s = reversed(str(n))\n",
        "    for i in s:\n",
        "        a.append(int(i))\n",
        "    return a\n",
        "\n",
        "print(solution(12345))"
      ],
      "metadata": {
        "colab": {
          "base_uri": "https://localhost:8080/"
        },
        "id": "MxcZzgofSoY4",
        "outputId": "992bbdd4-9bb2-473b-b58c-02fd6bd578b5"
      },
      "execution_count": null,
      "outputs": [
        {
          "output_type": "stream",
          "name": "stdout",
          "text": [
            "[5, 4, 3, 2, 1]\n"
          ]
        }
      ]
    },
    {
      "cell_type": "markdown",
      "source": [
        "##list의 모든 문자열을 int 값으로 변경하기 \n",
        "리스트 컴프리헨션\n",
        "\n",
        "\n",
        "int_list = [int(i) for i in str_list]\n",
        "]"
      ],
      "metadata": {
        "id": "rk0uTcJiV5gp"
      }
    },
    {
      "cell_type": "code",
      "source": [
        "def solution(n):\n",
        "\treturn [int(i) for i in str(n)][::-1]\n",
        "\n",
        "print(solution(12345))"
      ],
      "metadata": {
        "id": "yu4flZpXUi0f",
        "colab": {
          "base_uri": "https://localhost:8080/"
        },
        "outputId": "8df506ec-197b-4884-b1e5-7f6a9e4de818"
      },
      "execution_count": 5,
      "outputs": [
        {
          "output_type": "stream",
          "name": "stdout",
          "text": [
            "[5, 4, 3, 2, 1]\n"
          ]
        }
      ]
    },
    {
      "cell_type": "code",
      "source": [
        "def solution(n):\n",
        "\treturn list(map(int, reversed(str(n))))\n",
        " \n",
        "print(solution(12345))"
      ],
      "metadata": {
        "id": "sFMbaNAoVkfV",
        "colab": {
          "base_uri": "https://localhost:8080/"
        },
        "outputId": "a826db05-74d8-4f73-abf7-96061ee81918"
      },
      "execution_count": 6,
      "outputs": [
        {
          "output_type": "stream",
          "name": "stdout",
          "text": [
            "[5, 4, 3, 2, 1]\n"
          ]
        }
      ]
    },
    {
      "cell_type": "markdown",
      "source": [
        "##하샤드 수\n",
        "양의 정수 x가 하샤드 수이려면 x의 자릿수의 합으로 x가 나누어져야 합니다.\n",
        "\n",
        " 예를 들어 18의 자릿수 합은 1+8=9이고, 18은 9로 나누어 떨어지므로 18은 하샤드 수입니다.\n",
        " \n",
        "  자연수 x를 입력받아 x가 하샤드 수인지 아닌지 검사하는 함수, solution을 완성해주세요."
      ],
      "metadata": {
        "id": "l34wi3mAny0o"
      }
    },
    {
      "cell_type": "code",
      "source": [
        "def solution(x):\n",
        "    arr = list(str(x)) #숫자를 배열로 나눠서(문자열 형태로 만들어서) 더하기\n",
        "    sum = 0\n",
        "    \n",
        "    for i in range(len(arr)):\n",
        "        sum += int(arr[i])\n",
        "        if x % sum == 0:\n",
        "            answer = True\n",
        "        else:\n",
        "            answer = False    \n",
        "    \n",
        "    return answer\n",
        "\n",
        "print(solution(18))"
      ],
      "metadata": {
        "colab": {
          "base_uri": "https://localhost:8080/"
        },
        "id": "kdPnnv79ny85",
        "outputId": "d92ff660-bfa9-4b30-a1f5-a2d1808254c7"
      },
      "execution_count": null,
      "outputs": [
        {
          "output_type": "stream",
          "name": "stdout",
          "text": [
            "True\n"
          ]
        }
      ]
    },
    {
      "cell_type": "code",
      "source": [
        "def Harshad(n):\n",
        "    # n은 하샤드 수 인가요?\n",
        "    return n % sum([int(c) for c in str(n)]) == 0\n",
        "\n",
        "print(solution(18))"
      ],
      "metadata": {
        "colab": {
          "base_uri": "https://localhost:8080/"
        },
        "id": "z0hUU0zFvhAe",
        "outputId": "4e0d4565-6b39-46b3-c9e1-3218a2dd7fde"
      },
      "execution_count": null,
      "outputs": [
        {
          "output_type": "stream",
          "name": "stdout",
          "text": [
            "True\n"
          ]
        }
      ]
    },
    {
      "cell_type": "markdown",
      "source": [
        "##콜라츠 추측\n",
        "주어진 수가 1이 될 때까지 다음 작업을 반복하면, 모든 수를 1로 만들 수 있다는 추측입니다. 작업은 다음과 같습니다.\n",
        "\n",
        "1-1. 입력된 수가 짝수라면 2로 나눕니다. \n",
        "\n",
        "\n",
        "1-2. 입력된 수가 홀수라면 3을 곱하고 1을 더합니다. \n",
        "\n",
        "2. 결과로 나온 수에 같은 작업을 1이 될 때까지 반복합니다. \n",
        "\n",
        "\n",
        "예를 들어, 주어진 수가 6이라면 6 → 3 → 10 → 5 → 16 → 8 → 4 → 2 → 1 이 되어 총 8번 만에 1이 됩니다. \n",
        "\n",
        "위 작업을 몇 번이나 반복해야 하는지 반환하는 함수, solution을 완성해 주세요. \n",
        "\n",
        "\n",
        "<br>\n",
        "단, 주어진 수가 1인 경우에는 0을, 작업을 500번 반복할 때까지 1이 되지 않는다면 –1을 반환해 주세요."
      ],
      "metadata": {
        "id": "s-yn6EPUpCpG"
      }
    },
    {
      "cell_type": "code",
      "source": [
        "def solution(num):\n",
        "    answer = 0\n",
        "    \n",
        "    for i in range(500):\n",
        "        if num % 2 == 0: #짝수라면\n",
        "            num = num/2\n",
        "            answer += 1\n",
        "        if num == 1:\n",
        "            break\n",
        "\n",
        "        if num % 2 != 0:  #홀수라면\n",
        "            num = (num*3)+1\n",
        "            answer += 1\n",
        "        if num == 1:\n",
        "            break\n",
        "\n",
        "        if answer > 500 and num != 1: #단\n",
        "            answer = -1\n",
        "            break\n",
        "    \n",
        "    return answer\n",
        "\n",
        "print(solution(6))"
      ],
      "metadata": {
        "colab": {
          "base_uri": "https://localhost:8080/"
        },
        "id": "Ylt2zHu9pC1l",
        "outputId": "fa782414-ac72-4d5a-fcb4-28f0f3572512"
      },
      "execution_count": null,
      "outputs": [
        {
          "output_type": "stream",
          "name": "stdout",
          "text": [
            "8\n"
          ]
        }
      ]
    },
    {
      "cell_type": "code",
      "source": [
        "def collatz(num):\n",
        "    answer = 0\n",
        "    while answer < 500: #단\n",
        "        answer += 1\n",
        "\n",
        "        if num % 2 == 0:\n",
        "            num = num / 2\n",
        "        else:\n",
        "            num = (num * 3) + 1\n",
        "\n",
        "        if num == 1: #1되면 끝\n",
        "            break\n",
        "\n",
        "            \n",
        "    if answer == 500:\n",
        "        answer = -1\n",
        "\n",
        "    return answer\n",
        "\n",
        "# 아래는 테스트로 출력해 보기 위한 코드입니다.\n",
        "print(collatz(1126015))"
      ],
      "metadata": {
        "colab": {
          "base_uri": "https://localhost:8080/"
        },
        "id": "UdC6g1wB9BIW",
        "outputId": "a888fc85-3028-4c3f-949e-cb7db8fb9ff1"
      },
      "execution_count": null,
      "outputs": [
        {
          "output_type": "stream",
          "name": "stdout",
          "text": [
            "-1\n"
          ]
        }
      ]
    },
    {
      "cell_type": "markdown",
      "source": [
        "##제일 작은 수 제거하기\n",
        "\n",
        "정수를 저장한 배열, arr 에서 가장 작은 수를 제거한 배열을 리턴하는 함수, solution을 완성해주세요. 단, 리턴하려는 배열이 빈 배열인 경우엔 배열에 -1을 채워 리턴하세요. \n",
        "\n",
        "예를들어 arr이 [4,3,2,1]인 경우는 [4,3,2]를 리턴 하고, [10]면 [-1]을 리턴 합니다."
      ],
      "metadata": {
        "id": "y1qtzBfapSpH"
      }
    },
    {
      "cell_type": "code",
      "source": [
        "def solution(arr): #뭔가이상한코드\n",
        "    answer = []\n",
        "    \n",
        "    minVal = min(arr)\n",
        "    arr.remove(minVal) #작은수 제거\n",
        "    \n",
        "    if not arr:\n",
        "        arr.insert(0,-1) #0번째 위치에 b삽입\n",
        "    \n",
        "    return arr\n",
        "\n",
        "print(solution([1,2,3,4]))"
      ],
      "metadata": {
        "colab": {
          "base_uri": "https://localhost:8080/"
        },
        "id": "XpTdOMxlpvo4",
        "outputId": "fb1fff66-e14e-4356-d975-e2394afb5e8b"
      },
      "execution_count": 14,
      "outputs": [
        {
          "output_type": "stream",
          "name": "stdout",
          "text": [
            "[2, 3, 4]\n"
          ]
        }
      ]
    },
    {
      "cell_type": "code",
      "source": [
        "def solution(arr):\n",
        "    if len(arr) > 1:\n",
        "        arr.remove(min(arr))\n",
        "        return arr\n",
        "    else:\n",
        "        return [-1]\n",
        "\n",
        "print(solution([]))"
      ],
      "metadata": {
        "colab": {
          "base_uri": "https://localhost:8080/"
        },
        "id": "RNSqGpHg1t8U",
        "outputId": "19c082b9-20e5-49e0-db5e-67f485c56aaf"
      },
      "execution_count": 10,
      "outputs": [
        {
          "output_type": "stream",
          "name": "stdout",
          "text": [
            "[-1]\n"
          ]
        }
      ]
    },
    {
      "cell_type": "code",
      "source": [
        "def solution(arr):\n",
        "    arr.remove(min(arr))\n",
        "    return arr\n",
        "\n",
        "print(solution([10]))"
      ],
      "metadata": {
        "colab": {
          "base_uri": "https://localhost:8080/"
        },
        "id": "fj1Ne7Up4AB_",
        "outputId": "5f9bcc87-548f-420a-9b0d-d78cf5c29839"
      },
      "execution_count": 13,
      "outputs": [
        {
          "output_type": "stream",
          "name": "stdout",
          "text": [
            "[]\n"
          ]
        }
      ]
    },
    {
      "cell_type": "markdown",
      "source": [
        "##정수 제곱근 판별\n",
        "임의의 양의 정수 n에 대해, n이 어떤 양의 정수 x의 제곱인지 아닌지 판단하려 합니다.\n",
        "\n",
        "\n",
        "n이 양의 정수 x의 제곱이라면 x+1의 제곱을 리턴하고, n이 양의 정수 x의 제곱이 아니라면 -1을 리턴하는 함수를 완성하세요."
      ],
      "metadata": {
        "id": "dFWe7gY4pDA5"
      }
    },
    {
      "cell_type": "code",
      "source": [
        "import math\n",
        "\n",
        "a= math.sqrt(9) #제곱근\n",
        "b= math.pow(2, 4) # 2의 4 제곱\n",
        "print(a)\n",
        "print(b)\n"
      ],
      "metadata": {
        "colab": {
          "base_uri": "https://localhost:8080/"
        },
        "id": "5ZMEaj1BA-Qu",
        "outputId": "ef11976f-5214-4501-ac9a-85a84a5eceb4"
      },
      "execution_count": 18,
      "outputs": [
        {
          "output_type": "stream",
          "name": "stdout",
          "text": [
            "3.0\n",
            "16.0\n"
          ]
        }
      ]
    },
    {
      "cell_type": "code",
      "source": [
        "import math\n",
        " \n",
        "def solution(n):\n",
        "    if int(math.sqrt(n)) == math.sqrt(n):\n",
        "        answer = pow(math.sqrt(n)+1, 2)\n",
        "    else:\n",
        "        answer = -1\n",
        "    return answer\n",
        "\n",
        "print(solution(4))"
      ],
      "metadata": {
        "colab": {
          "base_uri": "https://localhost:8080/"
        },
        "id": "4381vOwGpDHn",
        "outputId": "5e2fac2d-f98f-49d0-a9a4-7e25f4f47393"
      },
      "execution_count": null,
      "outputs": [
        {
          "output_type": "stream",
          "name": "stdout",
          "text": [
            "9.0\n"
          ]
        }
      ]
    },
    {
      "cell_type": "code",
      "source": [
        "import math\n",
        "\n",
        "def solution(n):    \n",
        "    a=math.sqrt(n)\n",
        "    if int(a)==a:\n",
        "        return (a+1)**2\n",
        "    else:\n",
        "        return -1\n",
        "        \n",
        "print(solution(4))"
      ],
      "metadata": {
        "colab": {
          "base_uri": "https://localhost:8080/"
        },
        "id": "h6PK8A0a58HA",
        "outputId": "c42239c0-41f6-4481-9247-f34a6953634d"
      },
      "execution_count": null,
      "outputs": [
        {
          "output_type": "stream",
          "name": "stdout",
          "text": [
            "9.0\n"
          ]
        }
      ]
    },
    {
      "cell_type": "code",
      "source": [
        "import math\n",
        "\n",
        "def solution(n):\n",
        "    if n % math.sqrt(n) == 0:\n",
        "        return math.pow(math.sqrt(n)+1,2)\n",
        "    return -1\n",
        "\n",
        "print(solution(4))"
      ],
      "metadata": {
        "colab": {
          "base_uri": "https://localhost:8080/"
        },
        "id": "Qhni3XbCCkan",
        "outputId": "888c981a-38bd-460a-9867-a764203b33f3"
      },
      "execution_count": 20,
      "outputs": [
        {
          "output_type": "stream",
          "name": "stdout",
          "text": [
            "9.0\n"
          ]
        }
      ]
    },
    {
      "cell_type": "markdown",
      "source": [
        "##시저 암호\n",
        "어떤 문장의 각 알파벳을 일정한 거리만큼 밀어서 다른 알파벳으로 바꾸는 암호화 방식을 시저 암호라고 합니다. 예를 들어 \"AB\"는 1만큼 밀면 \"BC\"가 되고, 3만큼 밀면 \"DE\"가 됩니다. \"z\"는 1만큼 밀면 \"a\"가 됩니다. 문자열 s와 거리 n을 입력받아 s를 n만큼 민 암호문을 만드는 함수, solution을 완성해 보세요."
      ],
      "metadata": {
        "id": "EL5uXhhmsvjF"
      }
    },
    {
      "cell_type": "code",
      "source": [
        "def solution(s, n):\n",
        "    s = list(s)\n",
        "    \n",
        "    for i in range(len(s)):\n",
        "        if s[i].isupper():\n",
        "            s[i]=chr((ord(s[i])-ord('A')+ n)%26+ord('A')) #입력받은문자의 아스키코드값 구하고 -65 +n(거리) %26(알파벳개수)+65\n",
        "        elif s[i].islower(): #소문자의 경우도 마찬가지로 진행 ,공백 존재할수있으므로 elif\n",
        "            s[i]=chr((ord(s[i])-ord('a')+ n)%26+ord('a'))\n",
        "\n",
        "    return \"\".join(s)\n",
        "\n",
        "print(solution('avf',2))"
      ],
      "metadata": {
        "colab": {
          "base_uri": "https://localhost:8080/"
        },
        "id": "K6MPd_Vlsvtc",
        "outputId": "0e70f1de-8588-49b3-9d74-a26a79cdf465"
      },
      "execution_count": null,
      "outputs": [
        {
          "output_type": "stream",
          "name": "stdout",
          "text": [
            "cxh\n"
          ]
        }
      ]
    }
  ]
}