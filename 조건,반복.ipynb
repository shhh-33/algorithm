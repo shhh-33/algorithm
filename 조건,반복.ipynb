{
  "nbformat": 4,
  "nbformat_minor": 0,
  "metadata": {
    "colab": {
      "name": "조건,반복.ipynb",
      "provenance": [],
      "authorship_tag": "ABX9TyO0bA72on2UduoW837GP5Oq",
      "include_colab_link": true
    },
    "kernelspec": {
      "name": "python3",
      "display_name": "Python 3"
    },
    "language_info": {
      "name": "python"
    }
  },
  "cells": [
    {
      "cell_type": "markdown",
      "metadata": {
        "id": "view-in-github",
        "colab_type": "text"
      },
      "source": [
        "<a href=\"https://colab.research.google.com/github/shhh-33/coding_test/blob/shhh/%EC%A1%B0%EA%B1%B4%2C%EB%B0%98%EB%B3%B5.ipynb\" target=\"_parent\"><img src=\"https://colab.research.google.com/assets/colab-badge.svg\" alt=\"Open In Colab\"/></a>"
      ]
    },
    {
      "cell_type": "markdown",
      "source": [
        "3개의 정수(a, b, c)가 입력되었을 때, 짝수만 줄을 바꿔 출력"
      ],
      "metadata": {
        "id": "sJmrRHiHQcgM"
      }
    },
    {
      "cell_type": "code",
      "source": [
        "a,b,c=map(int,input().split())\n",
        "if a%2==0:\n",
        "    print(a)\n",
        "if b%2==0:\n",
        "    print(b)\n",
        "if c%2==0:\n",
        "    print(c)"
      ],
      "metadata": {
        "colab": {
          "base_uri": "https://localhost:8080/"
        },
        "id": "NcVNUMRyQcls",
        "outputId": "3fc6da88-2bc3-44c6-e208-ca14193cd68a"
      },
      "execution_count": null,
      "outputs": [
        {
          "output_type": "stream",
          "name": "stdout",
          "text": [
            "1 2 3\n",
            "2\n"
          ]
        }
      ]
    },
    {
      "cell_type": "code",
      "source": [
        "data = input().split()\n",
        "for i in data:\n",
        "    if(int(i) % 2 == 0):\n",
        "        print(int(i))"
      ],
      "metadata": {
        "colab": {
          "base_uri": "https://localhost:8080/"
        },
        "id": "hZrstBN3Q0MA",
        "outputId": "0298286b-eb0b-48c3-a41e-a2f513fe2eca"
      },
      "execution_count": null,
      "outputs": [
        {
          "output_type": "stream",
          "name": "stdout",
          "text": [
            "2 3 4\n",
            "2\n",
            "4\n"
          ]
        }
      ]
    },
    {
      "cell_type": "markdown",
      "source": [
        "정수 3개 입력받아 짝/홀 출력하기"
      ],
      "metadata": {
        "id": "WH2Tk_B2Qcrr"
      }
    },
    {
      "cell_type": "code",
      "source": [
        "a,b,c = map(int,input().split())\n",
        "if a%2==0:\n",
        "    print('even')\n",
        "else : print('odd')\n",
        "if b%2==0:\n",
        "    print('even')\n",
        "else : print('odd')\n",
        "if c%2==0:\n",
        "    print('even')\n",
        "else : print('odd')"
      ],
      "metadata": {
        "colab": {
          "base_uri": "https://localhost:8080/"
        },
        "id": "8pnCgfaLQcwU",
        "outputId": "2b5ef911-94b0-48a1-96af-bc62f668c9b0"
      },
      "execution_count": null,
      "outputs": [
        {
          "output_type": "stream",
          "name": "stdout",
          "text": [
            "1 2 3\n",
            "odd\n",
            "even\n",
            "odd\n"
          ]
        }
      ]
    },
    {
      "cell_type": "code",
      "source": [
        "data = input().split()\n",
        "for i in data:\n",
        "    if(int(i) % 2 == 0):\n",
        "        print('even')\n",
        "    else:\n",
        "        print('odd')"
      ],
      "metadata": {
        "colab": {
          "base_uri": "https://localhost:8080/"
        },
        "id": "gkZqeha4VBnN",
        "outputId": "0cfc4946-f1a7-4180-bd50-5e78918a2b20"
      },
      "execution_count": null,
      "outputs": [
        {
          "output_type": "stream",
          "name": "stdout",
          "text": [
            "1 2 3\n",
            "odd\n",
            "even\n",
            "odd\n"
          ]
        }
      ]
    },
    {
      "cell_type": "markdown",
      "source": [
        "0이 아닌 정수 1개가 입력되었을 때, \n",
        "\n",
        "음(-)/양(+)과 짝(even)/홀(odd)을 구분해 분류해보자.\n",
        "\n",
        "\n",
        "음수이면서 짝수이면, A\n",
        "음수이면서 홀수이면, B\n",
        "양수이면서 짝수이면, C\n",
        "양수이면서 홀수이면, D"
      ],
      "metadata": {
        "id": "xflZq_ryQc17"
      }
    },
    {
      "cell_type": "code",
      "source": [
        "a = int(input())\n",
        "if a<0:\n",
        "    if a%2==0:\n",
        "        print('A')\n",
        "    else : print('B')\n",
        "else:\n",
        "    if a%2==0:\n",
        "        print('C')\n",
        "    else : print('D')"
      ],
      "metadata": {
        "colab": {
          "base_uri": "https://localhost:8080/"
        },
        "id": "xMtVSppnlfXT",
        "outputId": "68fc0f2f-376c-4f93-d09c-165f91d106c5"
      },
      "execution_count": 1,
      "outputs": [
        {
          "output_type": "stream",
          "name": "stdout",
          "text": [
            "4\n",
            "C\n"
          ]
        }
      ]
    },
    {
      "cell_type": "markdown",
      "source": [
        "점수(정수, 0 ~ 100)를 입력받아 평가를 출력"
      ],
      "metadata": {
        "id": "Z3HOcCd5Qc_0"
      }
    },
    {
      "cell_type": "code",
      "source": [
        "a= int(input())\n",
        "if a<=100 and a>=90:\n",
        "    print('A')\n",
        "elif a<90 and a>=70:\n",
        "    print('B')\n",
        "elif a<70 and a>=40:\n",
        "    print('C')\n",
        "else : print('D')"
      ],
      "metadata": {
        "id": "zILBIniyQdFk"
      },
      "execution_count": null,
      "outputs": []
    },
    {
      "cell_type": "markdown",
      "source": [
        "월이 입력될 때 계절 이름이 출력되도록 해보자.\n",
        "\n",
        "\n",
        "12, 1, 2 : winter\n",
        "  3, 4, 5 : spring\n",
        "  6, 7, 8 : summer\n",
        "  9, 10, 11 : fall"
      ],
      "metadata": {
        "id": "bYHAabW0mCip"
      }
    },
    {
      "cell_type": "code",
      "source": [
        "a=int(input())\n",
        "if a//3==1:\n",
        "    print(\"spring\")\n",
        "elif a//3==2:\n",
        "    print(\"summer\")\n",
        "elif a//3==3:\n",
        "    print(\"fall\")\n",
        "else:\n",
        "    print(\"winter\")"
      ],
      "metadata": {
        "colab": {
          "base_uri": "https://localhost:8080/"
        },
        "id": "pxPtB-2hl1Zk",
        "outputId": "a7d558a6-f246-4938-c1cc-cabe17088557"
      },
      "execution_count": 2,
      "outputs": [
        {
          "output_type": "stream",
          "name": "stdout",
          "text": [
            "12\n",
            "winter\n"
          ]
        }
      ]
    },
    {
      "cell_type": "code",
      "source": [
        "month = int(input())\n",
        "season = ''\n",
        "if(month in [12, 1, 2]):\n",
        "    season = 'winter'\n",
        "elif(month in [3, 4, 5]):\n",
        "    season = 'spring'\n",
        "elif(month in [6, 7, 8]):\n",
        "    season = 'summer'\n",
        "else:\n",
        "    season = 'fall'\n",
        "print(season)"
      ],
      "metadata": {
        "colab": {
          "base_uri": "https://localhost:8080/"
        },
        "id": "nmtuQoDgmczb",
        "outputId": "10fc7cae-c576-4521-9b72-b4bdd8b48989"
      },
      "execution_count": 3,
      "outputs": [
        {
          "output_type": "stream",
          "name": "stdout",
          "text": [
            "4\n",
            "spring\n"
          ]
        }
      ]
    },
    {
      "cell_type": "markdown",
      "source": [
        "임의의 정수가 줄을 바꿔 계속 입력된다.\n",
        "-2147483648 ~ +2147483647, 단 개수는 알 수 없다.\n",
        "\n",
        "0이 아니면 입력된 정수를 출력하고, 0이 입력되면 출력을 중단해보자.\n"
      ],
      "metadata": {
        "id": "_bZTNywEl1eo"
      }
    },
    {
      "cell_type": "code",
      "source": [
        "n=int(input())\n",
        "\n",
        "while n!=0:\n",
        "    print(n)\n",
        "    n=int(input())\n",
        "    "
      ],
      "metadata": {
        "colab": {
          "base_uri": "https://localhost:8080/"
        },
        "id": "c91sT6mpl1ls",
        "outputId": "f751f8e8-0244-4244-94fa-947dc6c77e38"
      },
      "execution_count": 4,
      "outputs": [
        {
          "name": "stdout",
          "output_type": "stream",
          "text": [
            "1\n",
            "1\n",
            "52\n",
            "52\n",
            "0\n"
          ]
        }
      ]
    },
    {
      "cell_type": "code",
      "source": [
        "i = True\n",
        "while(i):\n",
        "    num = int(input())\n",
        "    if(num == 0):\n",
        "        i = False\n",
        "    else:\n",
        "        print(num)"
      ],
      "metadata": {
        "colab": {
          "base_uri": "https://localhost:8080/"
        },
        "id": "aAWtyBkzmyHl",
        "outputId": "b1815c6e-4c54-42f2-8c0a-3f027958d665"
      },
      "execution_count": 5,
      "outputs": [
        {
          "name": "stdout",
          "output_type": "stream",
          "text": [
            "1\n",
            "1\n",
            "5\n",
            "5\n",
            "0\n"
          ]
        }
      ]
    },
    {
      "cell_type": "markdown",
      "source": [
        "정수(1 ~ 100) 1개가 입력되었을 때 카운트다운을 출력해보자."
      ],
      "metadata": {
        "id": "Nt9wqcSAl1r0"
      }
    },
    {
      "cell_type": "code",
      "source": [
        "num = int(input())\n",
        "while(num > 0): #num!=0\n",
        "    print(num)\n",
        "    num -= 1"
      ],
      "metadata": {
        "colab": {
          "base_uri": "https://localhost:8080/"
        },
        "id": "J6hI1K2sl1zm",
        "outputId": "4eecd580-68e8-4f4d-efe1-51e077e218a4"
      },
      "execution_count": 6,
      "outputs": [
        {
          "output_type": "stream",
          "name": "stdout",
          "text": [
            "4\n",
            "4\n",
            "3\n",
            "2\n",
            "1\n"
          ]
        }
      ]
    },
    {
      "cell_type": "markdown",
      "source": [
        "0까지 카운트다운"
      ],
      "metadata": {
        "id": "Q-qwIhVIl15c"
      }
    },
    {
      "cell_type": "code",
      "source": [
        "num = int(input())\n",
        "while(num > 0):\n",
        "    num -= 1\n",
        "    print(num)"
      ],
      "metadata": {
        "colab": {
          "base_uri": "https://localhost:8080/"
        },
        "id": "SztAgUjGl1-U",
        "outputId": "5ee6bb83-3561-45f7-cd42-1e5d64ea97b4"
      },
      "execution_count": 8,
      "outputs": [
        {
          "output_type": "stream",
          "name": "stdout",
          "text": [
            "3\n",
            "2\n",
            "1\n",
            "0\n"
          ]
        }
      ]
    },
    {
      "cell_type": "markdown",
      "source": [
        "영문 소문자(a ~ z) 1개가 입력되었을 때,\n",
        "a부터 그 문자까지의 알파벳을 순서대로 출력해보자."
      ],
      "metadata": {
        "id": "IXsIaxvkn_1P"
      }
    },
    {
      "cell_type": "markdown",
      "source": [
        "2-1) ord(문자)\n",
        "하나의 문자를 인자로 받고 해당 문자에 해당하는 유니코드 정수를 반환합니다.\n",
        "ord('a')를 넣으면 정수 97을 반환합니다.\n",
        " \n",
        "2-2) chr(정수)\n",
        "하나의 정수를 인자로 받고 해당 정수에 해당하는 유니코드 문자를 반환합니다.\n",
        "인자(정수)의 유효 범위는 0 ~ 1,114,111 (16진수 0x10 FFFF)까지 입니다.\n",
        "chr(97)을 하면 문자 'a'를 반환합니다.\n",
        "\n",
        "\n"
      ],
      "metadata": {
        "id": "j_royGEaoRW7"
      }
    },
    {
      "cell_type": "code",
      "source": [
        "a = input()\n",
        "count = 0\n",
        "while(count <= ord(a)-97):\n",
        "    print(chr(97+count), end=' ')\n",
        "    count += 1"
      ],
      "metadata": {
        "colab": {
          "base_uri": "https://localhost:8080/"
        },
        "id": "H-TbC3LHn_KQ",
        "outputId": "34bfcf4d-ebc8-4ded-bf88-b20289c5ac37"
      },
      "execution_count": 11,
      "outputs": [
        {
          "output_type": "stream",
          "name": "stdout",
          "text": [
            "e\n",
            "a b c d e "
          ]
        }
      ]
    },
    {
      "cell_type": "markdown",
      "source": [
        "정수(0 ~ 100) 1개를 입력받아 0부터 그 수까지 순서대로 출력"
      ],
      "metadata": {
        "id": "Vk3xLjo7oARX"
      }
    },
    {
      "cell_type": "code",
      "source": [
        "n = int(input())\n",
        "a=n #4\n",
        "while n>=0:\n",
        "    print(a-n) #4-4=0 출력하고\n",
        "    n-=1 #n=3"
      ],
      "metadata": {
        "colab": {
          "base_uri": "https://localhost:8080/"
        },
        "id": "ijQCJA_-oAaB",
        "outputId": "351fe58e-74f6-409f-fb6f-615573cd1259"
      },
      "execution_count": 12,
      "outputs": [
        {
          "output_type": "stream",
          "name": "stdout",
          "text": [
            "4\n",
            "0\n",
            "1\n",
            "2\n",
            "3\n",
            "4\n"
          ]
        }
      ]
    },
    {
      "cell_type": "code",
      "source": [
        "n = int(input())\n",
        "a=n\n",
        "while n>=0:\n",
        "    print(a-n)\n",
        "    n-=1"
      ],
      "metadata": {
        "colab": {
          "base_uri": "https://localhost:8080/"
        },
        "id": "2SvZpbQOpETk",
        "outputId": "db960f01-051c-40b3-c699-2d2eda52e860"
      },
      "execution_count": 13,
      "outputs": [
        {
          "output_type": "stream",
          "name": "stdout",
          "text": [
            "4\n",
            "0\n",
            "1\n",
            "2\n",
            "3\n",
            "4\n"
          ]
        }
      ]
    },
    {
      "cell_type": "markdown",
      "source": [
        ""
      ],
      "metadata": {
        "id": "pJXg1-1PoAgB"
      }
    },
    {
      "cell_type": "code",
      "source": [
        ""
      ],
      "metadata": {
        "id": "8mdkQosUoAln"
      },
      "execution_count": null,
      "outputs": []
    }
  ]
}