{
  "nbformat": 4,
  "nbformat_minor": 0,
  "metadata": {
    "colab": {
      "name": "기초-종합.ipynb",
      "provenance": [],
      "authorship_tag": "ABX9TyMs72ZE2uz4NlvuSBLUWmUk",
      "include_colab_link": true
    },
    "kernelspec": {
      "name": "python3",
      "display_name": "Python 3"
    },
    "language_info": {
      "name": "python"
    }
  },
  "cells": [
    {
      "cell_type": "markdown",
      "metadata": {
        "id": "view-in-github",
        "colab_type": "text"
      },
      "source": [
        "<a href=\"https://colab.research.google.com/github/shhh-33/coding_test/blob/shhh/%EA%B8%B0%EC%B4%88_%EC%A2%85%ED%95%A9.ipynb\" target=\"_parent\"><img src=\"https://colab.research.google.com/assets/colab-badge.svg\" alt=\"Open In Colab\"/></a>"
      ]
    },
    {
      "cell_type": "markdown",
      "source": [
        "정수(1 ~ 100) 1개를 입력받아 1부터 그 수까지 짝수의 합을 구해보자."
      ],
      "metadata": {
        "id": "Ys088DJsr_7T"
      }
    },
    {
      "cell_type": "code",
      "source": [
        "n = int(input())\n",
        "s = 0\n",
        "for i in range(1, n+1) :\n",
        "  if i%2==0 :\n",
        "    s += i\n",
        "\n",
        "print(s)"
      ],
      "metadata": {
        "colab": {
          "base_uri": "https://localhost:8080/"
        },
        "id": "aiGE6fhusAAj",
        "outputId": "803d3db0-fa6a-43e7-c45c-884eabd65011"
      },
      "execution_count": 1,
      "outputs": [
        {
          "output_type": "stream",
          "name": "stdout",
          "text": [
            "4\n",
            "6\n"
          ]
        }
      ]
    },
    {
      "cell_type": "markdown",
      "source": [
        "영문 소문자 'q'가 입력될 때까지\n",
        "입력한 문자를 계속 출력하는 프로그램을 작성"
      ],
      "metadata": {
        "id": "F5Q1ifxusAFC"
      }
    },
    {
      "cell_type": "code",
      "source": [
        "while True:\n",
        "     x=input()\n",
        "     print(x)\n",
        "     if x=='q':\n",
        "          break"
      ],
      "metadata": {
        "colab": {
          "base_uri": "https://localhost:8080/"
        },
        "id": "s6hx5MtTsAKC",
        "outputId": "c28ad828-a79b-49ce-fa47-3342f025f713"
      },
      "execution_count": 2,
      "outputs": [
        {
          "output_type": "stream",
          "name": "stdout",
          "text": [
            "a\n",
            "a\n",
            "ertwwerq\n",
            "ertwwerq\n",
            "q\n",
            "q\n"
          ]
        }
      ]
    },
    {
      "cell_type": "markdown",
      "source": [
        "10 입력시 55출력되게 \n",
        "\n",
        "1부터 n까지 정수를 계속 더해 나간다때"
      ],
      "metadata": {
        "id": "QaP4cV6zsAOT"
      }
    },
    {
      "cell_type": "code",
      "source": [
        "sum=0\n",
        "i=0\n",
        "n = int(input())\n",
        "while True:\n",
        "    i+=1\n",
        "    sum+=i\n",
        "    if(sum>=n):\n",
        "        print(i)\n",
        "        break"
      ],
      "metadata": {
        "id": "GoRt-Q11sASa"
      },
      "execution_count": null,
      "outputs": []
    },
    {
      "cell_type": "code",
      "source": [
        "n = int(input()) #3\n",
        "i = 0\n",
        "s = 0\n",
        "while(s < n): #0<3, 1<3\n",
        "\ti += 1 #1, 2\n",
        "\ts += i #1, 3\n",
        "print(i) #2출력"
      ],
      "metadata": {
        "colab": {
          "base_uri": "https://localhost:8080/"
        },
        "id": "BPW7WAtSuMEW",
        "outputId": "8bdc8e73-16c4-45e7-802c-261f9f4834eb"
      },
      "execution_count": 3,
      "outputs": [
        {
          "output_type": "stream",
          "name": "stdout",
          "text": [
            "3\n",
            "2\n"
          ]
        }
      ]
    },
    {
      "cell_type": "markdown",
      "source": [
        "1부터 n까지, 1부터 m까지 숫자가 적힌 서로 다른 주사위 2개를 던졌을 때,\n",
        "나올 수 있는 모든 경우를 출력해보자.\n",
        "\n",
        "\n",
        "range(1, 11)은 1, 2, 3, 4, 5, 6, 7, 8, 9, 10 숫자를 생성\n",
        "\n",
        "range(20, 0, -2)\n",
        "\n",
        "20, 18, 16, 14, 12, 10, 8, 6, 4, 2"
      ],
      "metadata": {
        "id": "75Y9psDIsAWy"
      }
    },
    {
      "cell_type": "code",
      "source": [
        "n,m = map(int,input().split())\n",
        "for i in range(1,n+1):\n",
        "    for j in range(1,m+1):\n",
        "        print(i, j)"
      ],
      "metadata": {
        "colab": {
          "base_uri": "https://localhost:8080/"
        },
        "id": "AnsQPS4VsAbK",
        "outputId": "e6057883-d90d-4e41-a824-be896dec1f7c"
      },
      "execution_count": 4,
      "outputs": [
        {
          "output_type": "stream",
          "name": "stdout",
          "text": [
            "1 3\n",
            "1 1\n",
            "1 2\n",
            "1 3\n"
          ]
        }
      ]
    },
    {
      "cell_type": "markdown",
      "source": [
        "1 부터 그 수까지 순서대로 공백을 두고 수를 출력하는데,\n",
        "\n",
        "\n",
        "3 또는 6 또는 9가 포함 되어있는 수인 경우, 그 수 대신 영문 대문자 X 를 출력한다.\n"
      ],
      "metadata": {
        "id": "0ktYZfklsAfr"
      }
    },
    {
      "cell_type": "code",
      "source": [
        "a = int(input())\n",
        "\n",
        "for i in range(1,a+1):\n",
        "    \n",
        "    if (i%10==3 or i%10==6 or i%10==9):\n",
        "        print('X',end=' ')\n",
        "        continue\n",
        "    \n",
        "    print(i,end=' ')"
      ],
      "metadata": {
        "colab": {
          "base_uri": "https://localhost:8080/"
        },
        "id": "uEWmdjpJsAjq",
        "outputId": "348a0cbd-36e6-4d42-e321-80850eb476ed"
      },
      "execution_count": 5,
      "outputs": [
        {
          "output_type": "stream",
          "name": "stdout",
          "text": [
            "10\n",
            "1 2 X 4 5 X 7 8 X 10 "
          ]
        }
      ]
    },
    {
      "cell_type": "markdown",
      "source": [
        "\n",
        "6083.빨강(r), 초록(g), 파랑(b) 각 빛의 가짓수가 주어질 때,\n",
        "주어진 rgb 빛들을 섞어 만들 수 있는 모든 경우의 조합(r g b)과 만들 수 있는 색의 가짓 수를 계산해보자.  "
      ],
      "metadata": {
        "id": "-U_Sy1TAyC_x"
      }
    },
    {
      "cell_type": "code",
      "source": [
        "r,g,b = map(int,input().split())\n",
        "count=0;\n",
        "for i in range(r):\n",
        "    for j in range(g):\n",
        "        for k in range(b):\n",
        "            print('%d %d %d' %(i,j,k))\n",
        "            count+=1\n",
        "print(count)"
      ],
      "metadata": {
        "id": "0ntTr7WVyDHB"
      },
      "execution_count": null,
      "outputs": []
    }
  ]
}