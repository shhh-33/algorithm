{
  "nbformat": 4,
  "nbformat_minor": 0,
  "metadata": {
    "colab": {
      "name": "백준브론즈.ipynb",
      "provenance": [],
      "authorship_tag": "ABX9TyO26ebw2qxoiqaswBllY7PF",
      "include_colab_link": true
    },
    "kernelspec": {
      "name": "python3",
      "display_name": "Python 3"
    },
    "language_info": {
      "name": "python"
    }
  },
  "cells": [
    {
      "cell_type": "markdown",
      "metadata": {
        "id": "view-in-github",
        "colab_type": "text"
      },
      "source": [
        "<a href=\"https://colab.research.google.com/github/shhh-33/algorithm/blob/shhh/%EB%B0%B1%EC%A4%80%EB%B8%8C%EB%A1%A0%EC%A6%88.ipynb\" target=\"_parent\"><img src=\"https://colab.research.google.com/assets/colab-badge.svg\" alt=\"Open In Colab\"/></a>"
      ]
    },
    {
      "cell_type": "markdown",
      "source": [
        "#<수학>"
      ],
      "metadata": {
        "id": "xTFbNDXwu8az"
      }
    },
    {
      "cell_type": "markdown",
      "source": [
        "##공약수\n",
        "자연수 n개가 주어진다. 이 자연수의 공약수를 모두 구하는 프로그램\n",
        "- 첫째 줄에 n이 주어진다. n은 2 또는 3이다. \n",
        "- 둘째 줄에는 공약수를 구해야 하는 자연수 n개가 주어진다."
      ],
      "metadata": {
        "id": "5ZQkN4WDdC4d"
      }
    },
    {
      "cell_type": "code",
      "execution_count": null,
      "metadata": {
        "colab": {
          "base_uri": "https://localhost:8080/"
        },
        "id": "BZpwhdzecYvh",
        "outputId": "d7dc16a6-e65c-4044-fe20-ff0ca869e8a5"
      },
      "outputs": [
        {
          "output_type": "stream",
          "name": "stdout",
          "text": [
            "2\n",
            "75 125\n",
            "1\n",
            "5\n",
            "25\n"
          ]
        }
      ],
      "source": [
        "n=int(input()) #2 입력\n",
        "mlist=list(map(int, input().split())) #75,125 입력\n",
        "res=[]\n",
        "\n",
        "for i in range (1,min(mlist)+1): #(1,76) \n",
        "    if n==2:\n",
        "        if mlist[0]%i==0 and mlist[1]%i==0:\n",
        "            res.append(i)\n",
        "    elif n==3:\n",
        "        if mlist[0]%i==0 and mlist[1]%i==0 and mlist[2]%i==0:\n",
        "            res.append(i)\n",
        "            \n",
        "\n",
        "for i in res:\n",
        "    print(i) "
      ]
    },
    {
      "cell_type": "markdown",
      "source": [
        "#<구현>"
      ],
      "metadata": {
        "id": "Gpp59iYTu_ba"
      }
    },
    {
      "cell_type": "markdown",
      "source": [
        "##윤년\n",
        "연도가 주어졌을 때, 윤년이면 1, 아니면 0을 출력하는 프로그램을 작성하시오.\n",
        "\n",
        "-윤년은 연도가 4의 배수**이면서**,  100의 배수가 아닐 때 **또는** 400의 배수일 때이다.\n",
        "\n",
        "- 예를 들어, 2012년은 4의 배수이면서 100의 배수가 아니라서 윤년이다. \n",
        "-  1900년은 100의 배수이고 400의 배수는 아니기 때문에 윤년이 아니다.\n",
        "- 하지만, 2000년은 400의 배수이기 때문에 윤년이다."
      ],
      "metadata": {
        "id": "0961N-h6vAvR"
      }
    },
    {
      "cell_type": "code",
      "source": [
        "year = int(input())\n",
        " \n",
        "if(year%4==0 and year%100!=0 or year%400==0):\n",
        "        print(\"1\");\n",
        "else:\n",
        "        print(\"0\");"
      ],
      "metadata": {
        "id": "SFPqmz91xHE3"
      },
      "execution_count": null,
      "outputs": []
    },
    {
      "cell_type": "markdown",
      "source": [
        "##진법 변환\n",
        "B진법 수 N이 주어진다. 이 수를 10진법으로 바꿔 출력하는 프로그램"
      ],
      "metadata": {
        "id": "MljoMAhnuMzL"
      }
    },
    {
      "cell_type": "code",
      "source": [
        "a, b = input().rstrip().split()\n",
        "print(int(a, int(b)))"
      ],
      "metadata": {
        "id": "H85CnR9tumx9"
      },
      "execution_count": null,
      "outputs": []
    },
    {
      "cell_type": "markdown",
      "source": [
        "##8진수 2진수\n",
        "8진수가 주어졌을 때, 2진수로 변환하는 프로그램을 작성\n"
      ],
      "metadata": {
        "id": "rddjNw4TyG88"
      }
    },
    {
      "cell_type": "code",
      "source": [
        "n=input()\n",
        "n = int(n, 8)\n",
        "print(bin(n)[2:])"
      ],
      "metadata": {
        "colab": {
          "base_uri": "https://localhost:8080/"
        },
        "id": "4xnLTML2ypM0",
        "outputId": "b31e7232-092b-4684-9653-3453ed0f35b8"
      },
      "execution_count": null,
      "outputs": [
        {
          "output_type": "stream",
          "name": "stdout",
          "text": [
            "314\n",
            "11001100\n"
          ]
        }
      ]
    },
    {
      "cell_type": "code",
      "source": [
        "#2->8\n",
        "\n",
        "print(oct(int(input(),2))[2:])"
      ],
      "metadata": {
        "colab": {
          "base_uri": "https://localhost:8080/"
        },
        "id": "Vz8_xDw2yHGa",
        "outputId": "472ff796-0eec-48c0-ec56-7d252fdecf12"
      },
      "execution_count": null,
      "outputs": [
        {
          "output_type": "stream",
          "name": "stdout",
          "text": [
            "0101\n",
            "5\n"
          ]
        }
      ]
    },
    {
      "cell_type": "markdown",
      "source": [
        "##최소, 최대2\n",
        "N개의 정수가 주어진다. 이때, 최솟값과 최댓값을 구하는 프로그램"
      ],
      "metadata": {
        "id": "oMqQIdK56fYu"
      }
    },
    {
      "cell_type": "code",
      "source": [
        "for _ in range(int(input())):\n",
        "    #N = int(input())\n",
        "    li = sorted(map(int, input().split()))\n",
        "    print(li[0], li[-1])"
      ],
      "metadata": {
        "id": "vZNQRJka6fke",
        "colab": {
          "base_uri": "https://localhost:8080/"
        },
        "outputId": "59f33bcf-1962-4313-d683-f90fe7f978d1"
      },
      "execution_count": 2,
      "outputs": [
        {
          "output_type": "stream",
          "name": "stdout",
          "text": [
            "1\n",
            "9 5 6 4 2\n",
            "2 9\n"
          ]
        }
      ]
    },
    {
      "cell_type": "code",
      "source": [
        "t = int(input()) #1번 실행할거\n",
        "\n",
        "for i in range(t):\n",
        "    n = int(input()) #5개입력받을거다\n",
        "    arr = list(map(int, input().split())) #20 28 22 25 21\n",
        "    print(min(arr),max(arr))"
      ],
      "metadata": {
        "colab": {
          "base_uri": "https://localhost:8080/"
        },
        "id": "u7HBfotC7AAy",
        "outputId": "6ee6bbd1-29c6-4584-ccce-d21c9988a5af"
      },
      "execution_count": null,
      "outputs": [
        {
          "output_type": "stream",
          "name": "stdout",
          "text": [
            "1\n",
            "5\n",
            "20 28 22 25 21\n",
            "20 28\n"
          ]
        }
      ]
    },
    {
      "cell_type": "markdown",
      "source": [
        "##과제 안 내신 분?\n",
        "- 교실엔 학생이 30명이 있는데, 학생 명부엔 각 학생별로 1번부터 30번까지 출석번호가 붙어 있다.\n",
        "\n",
        "- 교수님이 내준 특별과제를 28명이 제출했는데, 그 중에서 제출 안 한 학생 2명의 출석번호를 구하는 프로그램\n",
        "\n",
        "<br>\n",
        " \n",
        "\n",
        "미리 리스트를 만들어둔 뒤, 입력받은 대로 리스트에서 제거한다.\n",
        "그리고 배열에 남은 숫자를 출력하면 된다."
      ],
      "metadata": {
        "id": "ihUEEhYq8l63"
      }
    },
    {
      "cell_type": "code",
      "source": [
        "students = [i for i in range(1,7)] #학생들의 출석번호들을 모두 리스트에 담는다 1~6번\n",
        "\n",
        "for _ in range(4): \n",
        "    applied = int(input()) #1,2,3,4 입력하면\n",
        "    students.remove(applied) #저것들 소거\n",
        "\n",
        "print(min(students)) #남은것들 출력\n",
        "print(max(students))"
      ],
      "metadata": {
        "colab": {
          "base_uri": "https://localhost:8080/"
        },
        "id": "d1U9ImAI9Fd_",
        "outputId": "8badf4af-dda3-4dd0-afac-a5d8b28c0669"
      },
      "execution_count": 4,
      "outputs": [
        {
          "output_type": "stream",
          "name": "stdout",
          "text": [
            "1\n",
            "2\n",
            "3\n",
            "4\n",
            "5\n",
            "6\n"
          ]
        }
      ]
    },
    {
      "cell_type": "code",
      "source": [
        "s = [i for i in range(1,7)]\n",
        "\n",
        "for _ in range(4):\n",
        "    s.remove(int(input()))\n",
        "    \n",
        "print(s,sep=\"\\n\")\n",
        "print(*s,sep=\"\\n\")"
      ],
      "metadata": {
        "colab": {
          "base_uri": "https://localhost:8080/"
        },
        "id": "Lga0Doty9OE6",
        "outputId": "0b13bd71-a7b2-4748-8507-6307ef616443"
      },
      "execution_count": null,
      "outputs": [
        {
          "output_type": "stream",
          "name": "stdout",
          "text": [
            "1\n",
            "2\n",
            "6\n",
            "5\n",
            "[3, 4]\n",
            "3\n",
            "4\n"
          ]
        }
      ]
    },
    {
      "cell_type": "markdown",
      "source": [
        "리스트 컴프리헨션"
      ],
      "metadata": {
        "id": "6n5rLBhw-TSP"
      }
    },
    {
      "cell_type": "code",
      "source": [
        "[i for i in range(5)]"
      ],
      "metadata": {
        "colab": {
          "base_uri": "https://localhost:8080/"
        },
        "id": "OtNKGjVW-Tcx",
        "outputId": "2b992b46-8c0b-4c55-a748-c0f182cdf41a"
      },
      "execution_count": null,
      "outputs": [
        {
          "output_type": "execute_result",
          "data": {
            "text/plain": [
              "[0, 1, 2, 3, 4]"
            ]
          },
          "metadata": {},
          "execution_count": 15
        }
      ]
    },
    {
      "cell_type": "code",
      "source": [
        "[str(i) for i in range(5)]"
      ],
      "metadata": {
        "colab": {
          "base_uri": "https://localhost:8080/"
        },
        "id": "vRqIWMoZ-V-W",
        "outputId": "2ad73ef3-13da-4b4f-9b51-f2c628c07601"
      },
      "execution_count": null,
      "outputs": [
        {
          "output_type": "execute_result",
          "data": {
            "text/plain": [
              "['0', '1', '2', '3', '4']"
            ]
          },
          "metadata": {},
          "execution_count": 16
        }
      ]
    },
    {
      "cell_type": "markdown",
      "source": [
        "##전구\n",
        "\n",
        "- 다시보기.."
      ],
      "metadata": {
        "id": "dw5kgb_xCiyp"
      }
    },
    {
      "cell_type": "code",
      "source": [
        "n,m=map(int,input().split()) #전구의 개수, 입력되는 명령어의 개수\n",
        "bulbs=list(map(int, input().split())) #현재 어떤 상태 인지 주어진다. (0은 꺼져있는 상태, 1은 켜져있는 상태)\n",
        "\n",
        "for i in range(m):\n",
        "    a,b,c=map(int, input().split())\n",
        "    if a==1: bulbs[b-1]=c\n",
        "    elif a==2 :\n",
        "        for j in range(b-1,c):\n",
        "            if bulbs[j]==1:bulbs[j]=0\n",
        "            else : bulbs[j]=1\n",
        "    elif a==3:\n",
        "        for j in range(b-1, c):\n",
        "            bulbs[j]=0\n",
        "    elif a==4:\n",
        "        for j in range(b-1, c):\n",
        "            bulbs[j]=1\n",
        "print(*bulbs)"
      ],
      "metadata": {
        "id": "P7IbSAByCjKC"
      },
      "execution_count": null,
      "outputs": []
    },
    {
      "cell_type": "markdown",
      "source": [
        "#<완전탐색>"
      ],
      "metadata": {
        "id": "9Irw7HlKD0X2"
      }
    },
    {
      "cell_type": "markdown",
      "source": [
        "##피로도"
      ],
      "metadata": {
        "id": "vs1c1XiBD3-R"
      }
    },
    {
      "cell_type": "markdown",
      "source": [
        "하루에 한 시간 단위로 일을 하거나 일을 쉬어도 된다. \n",
        "- 하루에 한 시간 일하면 피로도는 A 만큼 쌓이고\n",
        "- 일은 B 만큼 처리할 수 있다.\n",
        "\n",
        "- 만약에 한 시간을 쉰다면 피로도는 C 만큼 줄어든다.\n",
        "\n",
        " 단, 피로도가 음수로 내려가면 0으로 바뀐다. 당연히 일을 하지 않고 쉬었기 때문에 처리한 일은 없다.\n",
        "\n",
        "- 피로도를 최대한 M 을 넘지 않게 일을 하려고 한다.\n",
        "\n",
        " M 를 넘기면 일하는데 번아웃이 와서 이미 했던 일들도 다 던져버리고 일을 그만두게 된다.\n",
        "\n",
        "번아웃이 되지 않도록 일을 할때 하루에 최대 얼마나 일을 할 수 있는지 구해보자. 하루는 24시간이다."
      ],
      "metadata": {
        "id": "2eE5LXMOUAi3"
      }
    },
    {
      "cell_type": "code",
      "source": [
        "a, b, c, m = map(int, input().split()) \n",
        "\"\"\"\n",
        "a = 일하면 쌓임\n",
        "b = 일 처리\n",
        "c = 쉬면 줄어듬\n",
        "m : 피로도경계\n",
        "\n",
        "\"\"\"\n",
        "\n",
        "day = 0 \n",
        "\n",
        "result = 0 #처리한 일 \n",
        "count = 0 #피로도\n",
        "\n",
        "if a > m : #일함 > 피로도 ==일못함 0출력\n",
        "  print(0)\n",
        "else : #그렇지 않을경우 24시간 동안 수행 \n",
        "  while day != 24 :\n",
        "    day += 1\n",
        "\n",
        "    if count + a <= m : #일하기\n",
        "      result += b\n",
        "      count += a\n",
        "    else : #쉬기\n",
        "      if count - c >= 0 :\n",
        "        count -= c\n",
        "      else : #!!피로도는 0보다 작아질 수 없음!!\n",
        "        count = 0\n",
        "\n",
        "  print(result)"
      ],
      "metadata": {
        "colab": {
          "base_uri": "https://localhost:8080/"
        },
        "id": "nc38_xBZUMBF",
        "outputId": "c68ba1e9-caa8-4add-b31f-29ffbb4dc95d"
      },
      "execution_count": null,
      "outputs": [
        {
          "output_type": "stream",
          "name": "stdout",
          "text": [
            "5 3 2 10\n",
            "24\n"
          ]
        }
      ]
    },
    {
      "cell_type": "code",
      "source": [
        "# 피로도는 0보다 작아질 수 없다. (1시간일하면 A만큼 피로도 쌓이고 B만큼 처리가능) 1시간 쉬면 C만큼 피로도 줄어듬 처리한 일은 0\n",
        "# 피로도 M넘으면 번아웃\n",
        "\n",
        "A,B,C,M = map(int, input().split()) #입력받는 값 (A: 추가되는 피로도, B: 작업량, C:감소되는 피로도, M:피로도 한계치)\n",
        "\n",
        "T = 0  #피로도\n",
        "DW = 0   #최대 작업량\n",
        "\n",
        "for i in range(24):   #하루는 24시간이므로 24번 반복\n",
        "  if T > M: #피로도가 M을 넘어갈 경우, 번아웃으로 작업량은 0\n",
        "    print(0)\n",
        "  else:\n",
        "    if T + A <= M:#일을 할 수 있는 경우\n",
        "      T += A #A만큼 피로도를 더하고 B만큼 작업량 추가\n",
        "      DW += B\n",
        "    else: #일을 할 수 없는 경우\n",
        "      if T - C >=0: #쉬어서 피로도가 C만큼 감소되었을 때 그 값이 0이상인 경우, 피로도를 C만큼 감소 \n",
        "        T -= C \n",
        "      else: #쉬어서 피로도가 음수인 경우, 피로도는 0\n",
        "        T = 0\n",
        "print(DW) #최대 작업량 출력"
      ],
      "metadata": {
        "id": "qn4lkIfdgdyv"
      },
      "execution_count": null,
      "outputs": []
    },
    {
      "cell_type": "markdown",
      "source": [
        "##블랙잭\n",
        "규칙 \n",
        "- 첫째 줄에 M을 넘지 않으면서 M에 최대한 가까운 카드 3장의 합을 출력한다.\n",
        "- 각 카드에는 양의 정수가 쓰여 있다.\n",
        "-  그 다음, 딜러는 N장의 카드를 모두 숫자가 보이도록 바닥에 놓는다. \n",
        "- 그런 후에 딜러는 숫자 M을 크게 외친다.\n",
        "\n",
        "- 이제 플레이어는 제한된 시간 안에 N장의 카드 중에서 3장의 카드를 골라야 한다.\n",
        "-  블랙잭 변형 게임이기 때문에, 플레이어가 고른 카드의 합은 M을 넘지 않으면서 M과 최대한 가깝게 만들어야 한다.\n",
        "\n",
        "N장의 카드에 써져 있는 숫자가 주어졌을 때, M을 넘지 않으면서 M에 최대한 가까운 카드 3장의 합을 구해 출력하시오."
      ],
      "metadata": {
        "id": "o66lQHNdhyBv"
      }
    },
    {
      "cell_type": "code",
      "source": [
        "N, M = map(int, input().split()) #n장의 카드 , M을 넘지않음\n",
        "arr = list(map(int, input().split())) #카드에 쓰여져 있는 정수\n",
        "result = 0\n",
        "\n",
        "#3장의 카드 골라야해서 3중 for\n",
        "for i in range(N):\n",
        "   for j in range(i+1, N):\n",
        "       for k in range(j+1, N):\n",
        "           if arr[i] + arr[j] + arr[k] > M:\n",
        "               continue\n",
        "           else:\n",
        "               result = max(result, arr[i]+arr[j]+arr[k])\n",
        "print(result)"
      ],
      "metadata": {
        "colab": {
          "base_uri": "https://localhost:8080/"
        },
        "id": "aCO4LYwhjqCS",
        "outputId": "c09ce879-6e2a-428f-e5d1-1a177b29a615"
      },
      "execution_count": null,
      "outputs": [
        {
          "output_type": "stream",
          "name": "stdout",
          "text": [
            "5 21\n",
            "5 6 7 8 9\n",
            "21\n"
          ]
        }
      ]
    },
    {
      "cell_type": "markdown",
      "source": [
        "##분해합\n",
        "- 어떤 자연수 N이 있을 때, 그 자연수 N의 분해합은 N과 N을 이루는 각 자리수의 합을 의미한다. \n",
        "- 어떤 자연수 M의 분해합이 N인 경우, M을 N의 생성자라 한다.\n",
        "-  예를 들어, 245의 분해합은 256(=245+2+4+5)이 된다. \n",
        "- 따라서 245는 256의 생성자가 된다. 물론, 어떤 자연수의 경우에는 생성자가 없을 수도 있다. 반대로, 생성자가 여러 개인 자연수도 있을 수 있다.\n",
        "\n",
        "자연수 N이 주어졌을 때, N의 가장 작은 생성자를 구해내는 프로그램을 작성하시오."
      ],
      "metadata": {
        "id": "vHzs1nFKlbpw"
      }
    },
    {
      "cell_type": "code",
      "source": [
        "n = int(input())\n",
        "result = 0\n",
        "\n",
        "for i in range(1, n+1): #1부터 216까지 모든 수를 계산해보며 분해합을 구한다.\n",
        "    nums = list(map(int, str(i))) # 숫자의 각 자리수를 리스트 형태로 저장 2,5,6\n",
        "    print(i)\n",
        "    print(nums)\n",
        "    result = sum(nums) + i # 18+198 =216\n",
        "\n",
        "    if result == n:  # 만약 분해합이 n과 같다면\n",
        "        print(i) #198 출력하고 종료\n",
        "        break\n",
        "    if i == n:\n",
        "       print(0)\n",
        "  "
      ],
      "metadata": {
        "colab": {
          "base_uri": "https://localhost:8080/"
        },
        "id": "GRnp_5wQqeBM",
        "outputId": "e50cf05b-3b89-46a1-b561-0b3fdfd7f6dd"
      },
      "execution_count": 9,
      "outputs": [
        {
          "output_type": "stream",
          "name": "stdout",
          "text": [
            "216\n",
            "1\n",
            "[1]\n",
            "2\n",
            "[2]\n",
            "3\n",
            "[3]\n",
            "4\n",
            "[4]\n",
            "5\n",
            "[5]\n",
            "6\n",
            "[6]\n",
            "7\n",
            "[7]\n",
            "8\n",
            "[8]\n",
            "9\n",
            "[9]\n",
            "10\n",
            "[1, 0]\n",
            "11\n",
            "[1, 1]\n",
            "12\n",
            "[1, 2]\n",
            "13\n",
            "[1, 3]\n",
            "14\n",
            "[1, 4]\n",
            "15\n",
            "[1, 5]\n",
            "16\n",
            "[1, 6]\n",
            "17\n",
            "[1, 7]\n",
            "18\n",
            "[1, 8]\n",
            "19\n",
            "[1, 9]\n",
            "20\n",
            "[2, 0]\n",
            "21\n",
            "[2, 1]\n",
            "22\n",
            "[2, 2]\n",
            "23\n",
            "[2, 3]\n",
            "24\n",
            "[2, 4]\n",
            "25\n",
            "[2, 5]\n",
            "26\n",
            "[2, 6]\n",
            "27\n",
            "[2, 7]\n",
            "28\n",
            "[2, 8]\n",
            "29\n",
            "[2, 9]\n",
            "30\n",
            "[3, 0]\n",
            "31\n",
            "[3, 1]\n",
            "32\n",
            "[3, 2]\n",
            "33\n",
            "[3, 3]\n",
            "34\n",
            "[3, 4]\n",
            "35\n",
            "[3, 5]\n",
            "36\n",
            "[3, 6]\n",
            "37\n",
            "[3, 7]\n",
            "38\n",
            "[3, 8]\n",
            "39\n",
            "[3, 9]\n",
            "40\n",
            "[4, 0]\n",
            "41\n",
            "[4, 1]\n",
            "42\n",
            "[4, 2]\n",
            "43\n",
            "[4, 3]\n",
            "44\n",
            "[4, 4]\n",
            "45\n",
            "[4, 5]\n",
            "46\n",
            "[4, 6]\n",
            "47\n",
            "[4, 7]\n",
            "48\n",
            "[4, 8]\n",
            "49\n",
            "[4, 9]\n",
            "50\n",
            "[5, 0]\n",
            "51\n",
            "[5, 1]\n",
            "52\n",
            "[5, 2]\n",
            "53\n",
            "[5, 3]\n",
            "54\n",
            "[5, 4]\n",
            "55\n",
            "[5, 5]\n",
            "56\n",
            "[5, 6]\n",
            "57\n",
            "[5, 7]\n",
            "58\n",
            "[5, 8]\n",
            "59\n",
            "[5, 9]\n",
            "60\n",
            "[6, 0]\n",
            "61\n",
            "[6, 1]\n",
            "62\n",
            "[6, 2]\n",
            "63\n",
            "[6, 3]\n",
            "64\n",
            "[6, 4]\n",
            "65\n",
            "[6, 5]\n",
            "66\n",
            "[6, 6]\n",
            "67\n",
            "[6, 7]\n",
            "68\n",
            "[6, 8]\n",
            "69\n",
            "[6, 9]\n",
            "70\n",
            "[7, 0]\n",
            "71\n",
            "[7, 1]\n",
            "72\n",
            "[7, 2]\n",
            "73\n",
            "[7, 3]\n",
            "74\n",
            "[7, 4]\n",
            "75\n",
            "[7, 5]\n",
            "76\n",
            "[7, 6]\n",
            "77\n",
            "[7, 7]\n",
            "78\n",
            "[7, 8]\n",
            "79\n",
            "[7, 9]\n",
            "80\n",
            "[8, 0]\n",
            "81\n",
            "[8, 1]\n",
            "82\n",
            "[8, 2]\n",
            "83\n",
            "[8, 3]\n",
            "84\n",
            "[8, 4]\n",
            "85\n",
            "[8, 5]\n",
            "86\n",
            "[8, 6]\n",
            "87\n",
            "[8, 7]\n",
            "88\n",
            "[8, 8]\n",
            "89\n",
            "[8, 9]\n",
            "90\n",
            "[9, 0]\n",
            "91\n",
            "[9, 1]\n",
            "92\n",
            "[9, 2]\n",
            "93\n",
            "[9, 3]\n",
            "94\n",
            "[9, 4]\n",
            "95\n",
            "[9, 5]\n",
            "96\n",
            "[9, 6]\n",
            "97\n",
            "[9, 7]\n",
            "98\n",
            "[9, 8]\n",
            "99\n",
            "[9, 9]\n",
            "100\n",
            "[1, 0, 0]\n",
            "101\n",
            "[1, 0, 1]\n",
            "102\n",
            "[1, 0, 2]\n",
            "103\n",
            "[1, 0, 3]\n",
            "104\n",
            "[1, 0, 4]\n",
            "105\n",
            "[1, 0, 5]\n",
            "106\n",
            "[1, 0, 6]\n",
            "107\n",
            "[1, 0, 7]\n",
            "108\n",
            "[1, 0, 8]\n",
            "109\n",
            "[1, 0, 9]\n",
            "110\n",
            "[1, 1, 0]\n",
            "111\n",
            "[1, 1, 1]\n",
            "112\n",
            "[1, 1, 2]\n",
            "113\n",
            "[1, 1, 3]\n",
            "114\n",
            "[1, 1, 4]\n",
            "115\n",
            "[1, 1, 5]\n",
            "116\n",
            "[1, 1, 6]\n",
            "117\n",
            "[1, 1, 7]\n",
            "118\n",
            "[1, 1, 8]\n",
            "119\n",
            "[1, 1, 9]\n",
            "120\n",
            "[1, 2, 0]\n",
            "121\n",
            "[1, 2, 1]\n",
            "122\n",
            "[1, 2, 2]\n",
            "123\n",
            "[1, 2, 3]\n",
            "124\n",
            "[1, 2, 4]\n",
            "125\n",
            "[1, 2, 5]\n",
            "126\n",
            "[1, 2, 6]\n",
            "127\n",
            "[1, 2, 7]\n",
            "128\n",
            "[1, 2, 8]\n",
            "129\n",
            "[1, 2, 9]\n",
            "130\n",
            "[1, 3, 0]\n",
            "131\n",
            "[1, 3, 1]\n",
            "132\n",
            "[1, 3, 2]\n",
            "133\n",
            "[1, 3, 3]\n",
            "134\n",
            "[1, 3, 4]\n",
            "135\n",
            "[1, 3, 5]\n",
            "136\n",
            "[1, 3, 6]\n",
            "137\n",
            "[1, 3, 7]\n",
            "138\n",
            "[1, 3, 8]\n",
            "139\n",
            "[1, 3, 9]\n",
            "140\n",
            "[1, 4, 0]\n",
            "141\n",
            "[1, 4, 1]\n",
            "142\n",
            "[1, 4, 2]\n",
            "143\n",
            "[1, 4, 3]\n",
            "144\n",
            "[1, 4, 4]\n",
            "145\n",
            "[1, 4, 5]\n",
            "146\n",
            "[1, 4, 6]\n",
            "147\n",
            "[1, 4, 7]\n",
            "148\n",
            "[1, 4, 8]\n",
            "149\n",
            "[1, 4, 9]\n",
            "150\n",
            "[1, 5, 0]\n",
            "151\n",
            "[1, 5, 1]\n",
            "152\n",
            "[1, 5, 2]\n",
            "153\n",
            "[1, 5, 3]\n",
            "154\n",
            "[1, 5, 4]\n",
            "155\n",
            "[1, 5, 5]\n",
            "156\n",
            "[1, 5, 6]\n",
            "157\n",
            "[1, 5, 7]\n",
            "158\n",
            "[1, 5, 8]\n",
            "159\n",
            "[1, 5, 9]\n",
            "160\n",
            "[1, 6, 0]\n",
            "161\n",
            "[1, 6, 1]\n",
            "162\n",
            "[1, 6, 2]\n",
            "163\n",
            "[1, 6, 3]\n",
            "164\n",
            "[1, 6, 4]\n",
            "165\n",
            "[1, 6, 5]\n",
            "166\n",
            "[1, 6, 6]\n",
            "167\n",
            "[1, 6, 7]\n",
            "168\n",
            "[1, 6, 8]\n",
            "169\n",
            "[1, 6, 9]\n",
            "170\n",
            "[1, 7, 0]\n",
            "171\n",
            "[1, 7, 1]\n",
            "172\n",
            "[1, 7, 2]\n",
            "173\n",
            "[1, 7, 3]\n",
            "174\n",
            "[1, 7, 4]\n",
            "175\n",
            "[1, 7, 5]\n",
            "176\n",
            "[1, 7, 6]\n",
            "177\n",
            "[1, 7, 7]\n",
            "178\n",
            "[1, 7, 8]\n",
            "179\n",
            "[1, 7, 9]\n",
            "180\n",
            "[1, 8, 0]\n",
            "181\n",
            "[1, 8, 1]\n",
            "182\n",
            "[1, 8, 2]\n",
            "183\n",
            "[1, 8, 3]\n",
            "184\n",
            "[1, 8, 4]\n",
            "185\n",
            "[1, 8, 5]\n",
            "186\n",
            "[1, 8, 6]\n",
            "187\n",
            "[1, 8, 7]\n",
            "188\n",
            "[1, 8, 8]\n",
            "189\n",
            "[1, 8, 9]\n",
            "190\n",
            "[1, 9, 0]\n",
            "191\n",
            "[1, 9, 1]\n",
            "192\n",
            "[1, 9, 2]\n",
            "193\n",
            "[1, 9, 3]\n",
            "194\n",
            "[1, 9, 4]\n",
            "195\n",
            "[1, 9, 5]\n",
            "196\n",
            "[1, 9, 6]\n",
            "197\n",
            "[1, 9, 7]\n",
            "198\n",
            "[1, 9, 8]\n",
            "198\n"
          ]
        }
      ]
    },
    {
      "cell_type": "code",
      "source": [
        "target = int(input())\n",
        " \n",
        "for i in range(target):\n",
        "    temp = sum(map(int, str(i))) #해당 값을 str로 바꾸고 각 자리수를 모두 더해준 값을 temp에 넣어준다.\n",
        "    result = i + temp #현재 i값과 temp를 더한 값을 result로 초기화 216+9\n",
        "\n",
        "    if result == target:\n",
        "        print(i)\n",
        "        break\n",
        "else:\n",
        "    print(0)"
      ],
      "metadata": {
        "colab": {
          "base_uri": "https://localhost:8080/"
        },
        "id": "voxfG0njmAQK",
        "outputId": "ab3d689d-35e4-44ee-b180-7f6b2cfec5a9"
      },
      "execution_count": null,
      "outputs": [
        {
          "output_type": "stream",
          "name": "stdout",
          "text": [
            "216\n",
            "198\n"
          ]
        }
      ]
    },
    {
      "cell_type": "code",
      "source": [
        "N = int(input())\n",
        "result = 0\n",
        "\n",
        "for i in range(1, N + 1):\n",
        "  tmp = i + sum(map(int,str(i)))\n",
        "\n",
        "  if tmp == N:\n",
        "    result = i\n",
        "    break\n",
        "\n",
        "print(result)"
      ],
      "metadata": {
        "colab": {
          "base_uri": "https://localhost:8080/"
        },
        "id": "2tDqp8rUonR_",
        "outputId": "c9683c50-64a2-4854-9e10-9d2a66ea9a2c"
      },
      "execution_count": null,
      "outputs": [
        {
          "output_type": "stream",
          "name": "stdout",
          "text": [
            "1\n",
            "0\n"
          ]
        }
      ]
    },
    {
      "cell_type": "markdown",
      "source": [
        "##수학은 비대면강의입니다\n",
        "연립방정식 계산\n",
        "![image.png](data:image/png;base64,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)"
      ],
      "metadata": {
        "id": "CY4YS1Dyv2XW"
      }
    },
    {
      "cell_type": "code",
      "source": [
        "a,b,c,d,e,f = map(int,input().split())\n",
        "for x in range(-999,1000): #-999이상 999이하의 정수만 입력가능\n",
        "    for y in range(-999,1000):\n",
        "        if (a*x+b*y)==c and (d*x+e*y)==f:\n",
        "            print(x,y)\n",
        "            break"
      ],
      "metadata": {
        "colab": {
          "base_uri": "https://localhost:8080/"
        },
        "id": "6vf7KZ3kv2eu",
        "outputId": "9bbcc097-5f01-4a49-9c63-84b68a9571ef"
      },
      "execution_count": null,
      "outputs": [
        {
          "output_type": "stream",
          "name": "stdout",
          "text": [
            "1 3 -1 4 1 7\n",
            "2 -1\n"
          ]
        }
      ]
    },
    {
      "cell_type": "markdown",
      "source": [
        "##시각\n",
        "정수 N과 K가 입력되었을 때 00시 00분 00초부터 N시 59분 59초까지의 모든 시각 중에서 \n",
        "\n",
        "K가 하나라도 포함되는 모든 시각을 세는 프로그램을 작성"
      ],
      "metadata": {
        "id": "5E4UDa4G0tXL"
      }
    },
    {
      "cell_type": "code",
      "source": [
        "n, k = map(int,input().split())\n",
        "ans = 0\n",
        "for h in range(n+1): #3시\n",
        "    for m in range(60): #분\n",
        "        for s in range(60): #초\n",
        "            ans+= str(k) in f\"{h:02d}{m:02d}{s:02d}\"\n",
        "print(ans)"
      ],
      "metadata": {
        "colab": {
          "base_uri": "https://localhost:8080/"
        },
        "id": "ttWNVnrt3DZy",
        "outputId": "681d59f4-a867-4a17-a795-07e34e425a94"
      },
      "execution_count": null,
      "outputs": [
        {
          "output_type": "stream",
          "name": "stdout",
          "text": [
            "3 5\n",
            "6300\n"
          ]
        }
      ]
    },
    {
      "cell_type": "code",
      "source": [
        "N,K = map(int, input().split())\n",
        "\n",
        "count = 0\n",
        "for i in range(N+1):\n",
        "    for j in range(60):\n",
        "        for k in range(60):\n",
        "            if str(K) in str(i)+str(j)+str(k):\n",
        "                count+=1\n",
        "print(count)"
      ],
      "metadata": {
        "colab": {
          "base_uri": "https://localhost:8080/"
        },
        "id": "8efBbjaC4BLy",
        "outputId": "1257816d-6fd4-42e3-c46d-27895013f45a"
      },
      "execution_count": null,
      "outputs": [
        {
          "output_type": "stream",
          "name": "stdout",
          "text": [
            "3 5\n",
            "6300\n"
          ]
        }
      ]
    }
  ]
}