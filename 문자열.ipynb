{
  "nbformat": 4,
  "nbformat_minor": 0,
  "metadata": {
    "colab": {
      "name": "문자열.ipynb",
      "provenance": [],
      "authorship_tag": "ABX9TyPsZC6htq+s6Qws8KTs+VRL",
      "include_colab_link": true
    },
    "kernelspec": {
      "name": "python3",
      "display_name": "Python 3"
    },
    "language_info": {
      "name": "python"
    }
  },
  "cells": [
    {
      "cell_type": "markdown",
      "metadata": {
        "id": "view-in-github",
        "colab_type": "text"
      },
      "source": [
        "<a href=\"https://colab.research.google.com/github/shhh-33/coding_test/blob/shhh/%EB%AC%B8%EC%9E%90%EC%97%B4.ipynb\" target=\"_parent\"><img src=\"https://colab.research.google.com/assets/colab-badge.svg\" alt=\"Open In Colab\"/></a>"
      ]
    },
    {
      "cell_type": "markdown",
      "source": [
        "대문자, 소문자(upper, lower)"
      ],
      "metadata": {
        "id": "I1wUFGQJ1qGm"
      }
    },
    {
      "cell_type": "code",
      "source": [
        "string = \"Hello\"\n",
        "\n",
        "# 대문자로 변환\n",
        "# HELLO\n",
        "string.upper()\n",
        "\n",
        "# 소문자로 변환\n",
        "# hello\n",
        "string.lower()"
      ],
      "metadata": {
        "colab": {
          "base_uri": "https://localhost:8080/",
          "height": 36
        },
        "id": "cGel-M7G1rjM",
        "outputId": "a40d3b0d-4ce8-4c64-e8b1-665a17e43ad0"
      },
      "execution_count": 3,
      "outputs": [
        {
          "output_type": "execute_result",
          "data": {
            "text/plain": [
              "'hello'"
            ],
            "application/vnd.google.colaboratory.intrinsic+json": {
              "type": "string"
            }
          },
          "metadata": {},
          "execution_count": 3
        }
      ]
    },
    {
      "cell_type": "markdown",
      "source": [
        "문자열 바꾸기(replace)"
      ],
      "metadata": {
        "id": "GhOmb4Jj1rNM"
      }
    },
    {
      "cell_type": "code",
      "source": [
        "string = \"My favorite song is snowman by sia\"\n",
        "\n",
        "# string.replace(문자열1, 문자열2)\n",
        "# 문자열1을 문자열2로 변환\n",
        "\n",
        "# My favorate song as snowman by saa\n",
        "string.replace(\"i\", \"a\")\n",
        "\n",
        "# 삭제할 수도 있다\n",
        "# My favorite  is snowman by sia\n",
        "string.replace(\"song\", \"\")\n",
        "\n",
        "# 공백 삭제\n",
        "# Myfavoritesongissnowmanbysia\n",
        "string.replace(\" \", \"\") #마지막것만 출력"
      ],
      "metadata": {
        "colab": {
          "base_uri": "https://localhost:8080/",
          "height": 36
        },
        "id": "0YouYr5R1r-s",
        "outputId": "a2b46609-66a8-492b-e4f5-a70b337ef198"
      },
      "execution_count": 5,
      "outputs": [
        {
          "output_type": "execute_result",
          "data": {
            "text/plain": [
              "'Myfavoritesongissnowmanbysia'"
            ],
            "application/vnd.google.colaboratory.intrinsic+json": {
              "type": "string"
            }
          },
          "metadata": {},
          "execution_count": 5
        }
      ]
    },
    {
      "cell_type": "markdown",
      "source": [
        " 문자열 찾기(find, count)"
      ],
      "metadata": {
        "id": "KqAs-RiI1sJM"
      }
    },
    {
      "cell_type": "code",
      "source": [
        "string = \"My abc favorite song is snowman by sia\"\n",
        "\n",
        "# find\n",
        "# 찾는 문자열이 처음 나오는 위치 리턴\n",
        "# 없을 경우 -1 리턴\n",
        "\n",
        "# 3 공백 포함xxx\n",
        "string.find(\"abc\")\n",
        "\n",
        "# -1\n",
        "string.find(\"maroon\")\n",
        "\n",
        "\n",
        "# 해당 문자열의 개수를 리턴\n",
        "# 3\n",
        "string.count(\"i\")\n",
        "\n",
        "# 0\n",
        "string.count(\"maroon\")"
      ],
      "metadata": {
        "colab": {
          "base_uri": "https://localhost:8080/"
        },
        "id": "FApP4hMB1syv",
        "outputId": "2ed82866-e468-43b4-e51c-c27833c15e24"
      },
      "execution_count": 7,
      "outputs": [
        {
          "output_type": "execute_result",
          "data": {
            "text/plain": [
              "3"
            ]
          },
          "metadata": {},
          "execution_count": 7
        }
      ]
    },
    {
      "cell_type": "markdown",
      "source": [
        "문자열 슬라이싱\n",
        "\n",
        "문자열에서 원하는 부분만 추출 할 수 있다.\n",
        "\n",
        "string[start: end] start ~ (end - 1)까지 슬라이싱"
      ],
      "metadata": {
        "id": "O0nNBiGj1sPM"
      }
    },
    {
      "cell_type": "code",
      "source": [
        "string = \"My favorite song is snowman by sia\"\n",
        "\n",
        "# 생략 할 경우 처음과 끝이 들어간다.\n",
        "string[:] #My favorite song is snowman by sia\n",
        "\n",
        "# 5번째 부터 끝까지\n",
        "string[5:] #vorite song is snowman by sia\n",
        "\n",
        "# 처음 부터 9번째 까지\n",
        "string[:10] # My favorit\n",
        "\n",
        "string[0:2] #My\n"
      ],
      "metadata": {
        "colab": {
          "base_uri": "https://localhost:8080/",
          "height": 36
        },
        "id": "3ObZJPme2wg9",
        "outputId": "6cc6fe9c-fada-4f15-dfb8-517b26fddb50"
      },
      "execution_count": 8,
      "outputs": [
        {
          "output_type": "execute_result",
          "data": {
            "text/plain": [
              "'ais yb namwons si gnos etirovaf yM'"
            ],
            "application/vnd.google.colaboratory.intrinsic+json": {
              "type": "string"
            }
          },
          "metadata": {},
          "execution_count": 8
        }
      ]
    },
    {
      "cell_type": "markdown",
      "source": [
        "![image.png](data:image/png;base64,iVBORw0KGgoAAAANSUhEUgAAANkAAACICAYAAABqbE4kAAAAAXNSR0IArs4c6QAAAARnQU1BAACxjwv8YQUAAAAJcEhZcwAADsMAAA7DAcdvqGQAAAqcSURBVHhe7dzNaxXdHQfwSaGr4kvULiq4idnYCAGNL/gGCpooIgqKCl1kIWLiShAXydrCzT+QRCq4UBMXQbFGY6QGmihooijEupCEdtF2UfPIgzwt1D6k9/vz/K7Hycyde0/uuTM3+X5gOHPnPWfmO2fuuaN183kBEXnzC1MSkScMGZFnDBmRZwwZkWcMGZFnDBmRZwwZkWcMGZFnDBmRZwwZkWcMGZFnDBmRZwwZkWcMGZFnDBmRZzUZsrq6OhkmJibMlOrTY+jp6TFTvik2j9xUqk51O9W8dtiSEXnGkBF5xpARecaQEXnGkBF5xpARebYkQobu2DNnzgRr1qyR7lmU+Pz27VuzRLy5uTnpFt62bVuhe7exsTHo7u6WeT4NDg7KcWJ/9r47OzsX3cWM7WJ7KOPMzs4W9ltsf1qvON4w1FF/f3/Q1tZWWA4D6hN1iH3EQb1jWawLOF963BjK7a7XYwmfS9RnsePwDv/vYq3BYWMYHx+fHxgYKHyOGoaHh81aC71582a+vr4+cj0MmIdlougyuVzOTPmm2Dz4+PHjfGtra2G5uKGjo8OsUb6+vj7ZBv6GOLoMhrhjxd+vy+C4bZi3cePGwvy4AecoCvaJ+aiLmZmZBefCPqaoabakY9FzqZ9x7VRLTYesq6tLytOnTxfCgAsBF4+esLiLDMvrMi0tLd+FEeOYhnk4ceGLCzAPQ9RJLzYP29JtY/9YBheYwsnH36PbcA0atqnb0LoJs/eDCz2KBjE8364/1BGCpPWE0q5DDFFBw9+u28aA5eOOVbcTV6f2+Q4fCz5juh1ChiyBVhSGuIvQvktHtWZa4TixekJs9okrN0jF5uF4MQ/bjrugwD5+1wtC/8ao4wDMs4MQRYOI47El1Z/S9fH3hpfDcWEetoWh2HawHAbXOrVvChgYsgRaUTgxxcSFBHc23YbdioTphR61H10/6qTHzbNbl6g7exju7lgWF6oLbemjWinceDAPy+h+om5GmI7BvnhLrT+wb1bhoGrIMCTVhy63mDqtxI3LRU13fJw/f96MRdu+fbuUT58+lVLdu3dPyvzFGzQ0NMh4lKamJinzJ7IinSBPnjyRMn/RFe2QUO3t7VLeuXNHynIdPnxYysePH0tpe/bsmZS7d+8ODhw4IOM6TWlnSP4mEzQ3N8s4lFp/sHbt2sLfevfuXSmjHDx40IyVp5w6PXnypBmrrpoO2ebNm81YeUZHR6Xcv3+/lHH27NljxoLg/fv3Zsyd9nZq+JNs2rTJjH1btxw4flx8EO49RHAx78iRI0G+JZNpWi/q+fPnUiJMtqmpKSm3bNkiZRIN6MuXL6UMQ4gRRhfl1KnrPharpkO2cuVKM1aeT58+SXnhwoVCV2/cUEnajawtRxK79fj8+bMZK8+hQ4ekfPTokZSA40DrrPOwHwQO4bFbbH0CQGtnw7qwa9cuKZPoE4HWexi62V2VW6dp4I/RS9zx48eltFspfcTSeaCPWi9evJAS8JiprR25W5Yh00eo/Bd9dPyUNNiPjq5Wr14t5evXr6VMYj8irlixwoyVRx+j7FZqbGxMSvt70L59+6TU72X6eKmtnU3r7927d1Im0eV0PR9KrdM0LMuQ6YU3PT0tZbXod5jwd584+j0QF6f96FgOdEy0tLTIuLZS2D+m2d9RtE702PTx0m7tlC6rYU2iN4uowC7W1q1bpdTvicUs9i0aV8syZCdOnJDy2rVrUlaLdjDgu0nUK0phN27ckLKUnshiTp06JSVaKVxo2P+5c+dkmtIwaounYYvq9dP6Q+dJ0utK2Jb+rVGBXSz9vojviUkhun37thmrrmUZMr1wcGLwXlu1oDXSoGG/xXoM8Q6edr1fvnxZSle6T4RCW6idO3dKadOWBt/ZELZwa6fQFa6Pfuh5LPbzxsWLFyXU6EFc7M0iCr4v6rFcunQp9lgQ9N7eXvOpupZlyHDXzuVyMo6KxwuqDx8+lM8KAdAXeCv5mHHr1i25KHDh4ScEvARrtwbYLwKInk8YGBhI/C0qifYe4qby6tWrBb97Kf1dTVtQbQHDELz79+/LOMK4Y8cOqSv7Akd9ol71p4KhoSEzp/Ju3rwpJY4lfC5Rt3hR+ezZs0FXV5eZWmX5L/U1B4eNIelXe32TAWUUfSMiaYjaj84r540Phbcn8DqSLhc15C/Mkt4KKZW+eoQBf3cc+xiKvfYFeEMEx2mvEx7wtkzcdvSNj7jzY9PtxdWp/RZK1IB94O0T/cw3Pqrk6tWrQb6yg/wFKHd3Gx6xMB09kJXoWbShFZmcnJRWCvux4RENd1zclSv5eHX06FEztvB3L5v+8BzX2tnwqPbhwwd5KsBx2/B39fX1SWdL0nYqAXWFc4njR8upcByo55GRkdR+jK5D0sw4EXmwrFsyyo5/ff5ixkrnsk4aGDJK3Zef54PfP/xr8ON//memJHNZJy0MGaXuT+8/Sav0x7cfzZRkLuukhSGjVKFF0qAgOKW0TC7rpIkho1TZIbHDU4zLOmliyCg1UQFBgP7935/Np4Vc1kkbQ0apiXrUQ4hGpn8wnxZyWSdtDBmlothjHgIT1TK5rJMFDBmlIqpFUghLVMvksk4WMGRUdcVaJBVumVzWyQq+VkVV98NPX4Lpv/9kPn117c//CM7vW28+fbXpN78Kfr3ilzLusk5WMGSUCb/7w1+Cm+d+az6VxmWdNPBxkTIBLVC5XNZJA1syIs/YkhF5xpBRJrz/5/edGqVwWScNDBllwtXhv5mx0rmskwaGjMgzhozIM4aMMoFd+ETkjC0ZkWcMGWUCu/CJPGMXPhE5Y8iIPGPIKBPYhU9EztiSEXnGkFEmsAufyDN24RORM4aMyDOGjDKBXfhE5IwtGZFnDBllArvwiTxjFz4ROWPIiDxjyCgT2IVPRM7YkhF5xpBRJrALn8gzduETkTOGjMgzhowygV34ROSMLRmRZwwZZQK78Ik8Yxc+ETljyIg8Y8goE9iFT0TO2JIRecaQEXnGkBF5xpARecaQEXnGkBF5xpARecaQEXnGkBF5xpARecaQEXnGkBF5xpDRkjAxMRF0dnZKmTUMGVXF7OyshKCxsTGoq6uTAeM9PT1mifLNzc0F/f39sp29e/cGvb29Zk7G4J+6EPnW2tqKf1IVOXR0dJilypPL5WR9bLuvr0/Gx8fHzdzsYEtGVdHQ0BAMDAwEMzMzuLHLMDw8HNTX10sLhJauXKtWrZJtjoyMBE1NTWZqBknUiFJSqRYI61diOz6wJaNUbdiwQcr169dLuRQxZJSqBw8eBPnvVPI4uVQxZJQadLcPDg4GuVzOTFmaGDJKBQLW3t4ejI2NBc3NzWbq99ra2grd/TpgWq1hyKgiwmHAEPcbGFqvY8eOBUNDQ7EBW0oYMqqq7u5u+VG6WAum0DU/b7r7dcC0WsOQUUWEw4DhypUrZu7XtzMQrtHR0ZICtpQwZOQdAobvUpOTk9ISVSpgeBzVR1O8VgUokx5Xq40hI++uX78eTE1NybBu3bpCCOwhiy/2VgpDRjULj6NRj6k62I+raeL/hU/kGVsyIs8YMiLPGDIizxgyIs8YMiLPGDIizxgyIs8YMiLPGDIizxgyIs8YMiLPGDIir4Lg/78qLHTtnrYcAAAAAElFTkSuQmCC)"
      ],
      "metadata": {
        "id": "9oAiGd7g_ECt"
      }
    },
    {
      "cell_type": "code",
      "source": [
        "string = \"My favorite song is snowman by sia\"\n",
        "\n",
        "# 음수도 가능하다. 끝에서 부터 -1\n",
        "string[:-2] # My favorite song is snowman by s\n",
        "\n",
        "# 세번째 인수를 생략하지 않은 경우 step으로 작용\n",
        "# 2개씩 step\n",
        "string[::2] # M aoiesn ssomnb i\n",
        "\n",
        "# Reverse\n",
        "string[::-1] # ais yb namwons si gnos etirovaf yM"
      ],
      "metadata": {
        "id": "K1bLbQoq-kl1"
      },
      "execution_count": null,
      "outputs": []
    },
    {
      "cell_type": "markdown",
      "source": [
        "문자열 분리 및 결합(split, join)"
      ],
      "metadata": {
        "id": "I4YghdNE2P0Z"
      }
    },
    {
      "cell_type": "code",
      "source": [
        "string = \"apple banana kiwi tomato\"\n",
        "\n",
        "# 분리\n",
        "# split(문자열) 문자열을 기준으로 분리 \n",
        "# 생략할 경우 공백을 기준으로 분리함\n",
        "# 리턴되는 결과는 리스트\n",
        "\n",
        "string.split() # ['apple', 'banana', 'kiwi', 'tomato']\n",
        "\n",
        "string = \"1a2a3a4a\"\n",
        "string.split(\"a\") # ['1', '2', '3', '4', '']\n",
        "\n",
        "\n",
        "# 결합(리스트를 문자열로 결합)\n",
        "# 문자열.join(리스트) - 리스트 원소 사이에 문자열을 삽입\n",
        "li = [\"apple\", \"banana\", \"kiwi\", \"tomato\"]\n",
        "\n",
        "# 공백을 삽입\n",
        "\" \".join(li) # apple banana kiwi tomato\n",
        "\n",
        "# ,를 삽입\n",
        "\",\".join(li) # apple,banana,kiwi,tomato\n",
        "\n",
        "\n",
        "# 리스트의 원소는 모두 str 타입이어야 한다. 아닐경우 오류발생\n",
        "li = [1, 2, 3, 4]\n",
        "\n",
        "\" \". join(li) # 오류발생!\n"
      ],
      "metadata": {
        "id": "BdoFjSvr24ok"
      },
      "execution_count": null,
      "outputs": []
    },
    {
      "cell_type": "markdown",
      "source": [
        "문자열 공백 제거, 특정 문자 대체 : strip, rstrip, lstrip, replace"
      ],
      "metadata": {
        "id": "tHIffMHK35Q4"
      }
    },
    {
      "cell_type": "code",
      "source": [
        "# 공백 제거\n",
        "string = \"       Hello World!       \"\n",
        "\n",
        "\n",
        "# strip() - 양쪽 공백제거\n",
        "string.strip() #Hello World!\n",
        "\n",
        "# lstrip() - 왼쪽 공백제거       \n",
        "string.lstrip() #Hello World! \n",
        "\n",
        "# rstrip() - 오른쪽 공백제거\n",
        "string.rstrip() #        Hello World!        \n",
        "\n"
      ],
      "metadata": {
        "id": "htC4kcub35a_"
      },
      "execution_count": null,
      "outputs": []
    },
    {
      "cell_type": "code",
      "source": [
        "# 특정 문자 제거\n",
        "# 해당 문자가 나오지 않을 때까지 제거\n",
        "string = \"aaaaabbbbbbaaaaa\"\n",
        "\n",
        "# 양쪽에서 a가 나오지 않을 때까지 제거\n",
        "string.strip(\"a\") #bbbbbb\n",
        "\n",
        "# 왼쪽에서 a가 나오지 않을 때까지 제거\n",
        "string.lstrip(\"a\") #bbbbbbaaaaa\n",
        "\n",
        "# 오른쪽에서 a가 나오지 않을 때까지 제거\n",
        "string.rstrip(\"a\") #aaaaabbbbbb\n",
        "\n",
        "# 양쪽에서 a또는 b가 나오지 않을 때까지 제거\n",
        "# a 또는 b를 제거하기 때문에 공백이 출력된다.\n",
        "string.strip(\"ab\") # 공백출력"
      ],
      "metadata": {
        "id": "y6-KwMAs5DI8"
      },
      "execution_count": null,
      "outputs": []
    },
    {
      "cell_type": "markdown",
      "source": [
        "아스키코드 관련 함수(chr, ord)"
      ],
      "metadata": {
        "id": "JnO5YlGC5pOf"
      }
    },
    {
      "cell_type": "code",
      "source": [
        "# chr\n",
        "# 아스키코드 값을 입력으로 받아 문자를 출력\n",
        "chr(97) # 'a'\n",
        "chr(65) # 'A'\n",
        "\n",
        "# ord\n",
        "# 문자를 입력 받아 아스키코드 값을 출력\n",
        "ord('b') # 98\n",
        "ord('0') # 48"
      ],
      "metadata": {
        "colab": {
          "base_uri": "https://localhost:8080/"
        },
        "id": "PAyPDB745pa2",
        "outputId": "77eec4e0-87fd-41fc-9acc-2ee75c68602f"
      },
      "execution_count": 9,
      "outputs": [
        {
          "output_type": "execute_result",
          "data": {
            "text/plain": [
              "48"
            ]
          },
          "metadata": {},
          "execution_count": 9
        }
      ]
    },
    {
      "cell_type": "markdown",
      "source": [
        "문자열 구성 파악 : isdigit, isalpha, isupper, islower\n",
        "\n",
        "다른 종류의 문자가 단 하나라로 섞이면 False를 반환함"
      ],
      "metadata": {
        "id": "yWKsXZPs6Om6"
      }
    },
    {
      "cell_type": "code",
      "source": [
        "# isdigit : 모든 문자열이 숫자이면 True,\n",
        "print('1350'.isdigit()) # True\n",
        "print('1,350'.isdigit()) # False\n",
        "print('13 50'.isdigit()) # False\n",
        "print('123a'.isdigit()) # False\n",
        "\n",
        "# isalpha : 모두 알파벳이거나 한글이면 True,\n",
        "print('Hello'.isalpha()) # True\n",
        "print('Hello!'.isalpha()) # False\n",
        "print('Hi Hello'.isalpha()) # False\n",
        "print('abc가'.isalpha()) # True\n",
        "print('abc3'.isalpha()) # False\n",
        "\n",
        "# isupper, islower : 각각 모두 대문자, 소문자로 구성인지 여부로 True를 반환\n",
        "print('NEW YORK'.isupper()) # True\n",
        "print('Next'.isupper()) # False\n",
        "print('hi 33'.islower()) # True\n",
        "print('abc가'.islower()) # True"
      ],
      "metadata": {
        "id": "oQLPwKR06OMI"
      },
      "execution_count": null,
      "outputs": []
    },
    {
      "cell_type": "markdown",
      "source": [
        "isalnum() : 문자열이 영어, 한글 , 숫자로 되어있으면 참 리턴, 아니면 거짓 리턴.\n"
      ],
      "metadata": {
        "id": "PdJTlCz79Yao"
      }
    },
    {
      "cell_type": "code",
      "source": [
        "text1 = \"네이스123\"\n",
        "text2 = \"123123\"\n",
        "text3 = \"!@#$\"\n",
        "\n",
        "print(text1.isalnum())\n",
        "print(text2.isalnum())\n",
        "print(text3.isalnum())"
      ],
      "metadata": {
        "colab": {
          "base_uri": "https://localhost:8080/"
        },
        "id": "9x4aLQbV9Y-c",
        "outputId": "d7e81d4f-b069-435f-ac16-836a4f7b88fe"
      },
      "execution_count": 12,
      "outputs": [
        {
          "output_type": "stream",
          "name": "stdout",
          "text": [
            "True\n",
            "True\n",
            "False\n"
          ]
        }
      ]
    },
    {
      "cell_type": "markdown",
      "source": [
        "str()은 정수나 실수를 문자열 형태로 바꿔주는 함수"
      ],
      "metadata": {
        "id": "u00hxz5V8HTS"
      }
    },
    {
      "cell_type": "code",
      "source": [
        "s1 = str() #빈 문자열 객체 생성\n",
        "\n",
        "s2 = str(\"Welcome\") # Welcome이 내용물인 문자열 객체\n",
        "print(s1 + s2)"
      ],
      "metadata": {
        "colab": {
          "base_uri": "https://localhost:8080/"
        },
        "id": "1RW3me7d8HfN",
        "outputId": "11526882-2619-4237-e414-d0a5dbd6d5f2"
      },
      "execution_count": 11,
      "outputs": [
        {
          "output_type": "stream",
          "name": "stdout",
          "text": [
            "Welcome\n"
          ]
        }
      ]
    },
    {
      "cell_type": "markdown",
      "source": [
        "pop()"
      ],
      "metadata": {
        "id": "XQ5Z3W_TBf8f"
      }
    },
    {
      "cell_type": "code",
      "source": [
        "list = [1, 2, 3, 4, 5]\n",
        "list.pop()\n",
        "print(list)"
      ],
      "metadata": {
        "colab": {
          "base_uri": "https://localhost:8080/"
        },
        "id": "H0p5IVrdBeSo",
        "outputId": "af21fbf1-fb96-4944-d5c2-42a7e3587f0a"
      },
      "execution_count": 14,
      "outputs": [
        {
          "output_type": "stream",
          "name": "stdout",
          "text": [
            "[1, 2, 3, 4]\n"
          ]
        }
      ]
    },
    {
      "cell_type": "markdown",
      "source": [
        "lambda 매개변수 : 표현식"
      ],
      "metadata": {
        "id": "KWBdsbiIGTJX"
      }
    },
    {
      "cell_type": "code",
      "source": [
        "def hap(x, y):\n",
        "   return x + y\n",
        "   \n",
        "hap(10, 20)"
      ],
      "metadata": {
        "colab": {
          "base_uri": "https://localhost:8080/"
        },
        "id": "WRiCVYIRGTQG",
        "outputId": "ca4f2400-aa87-486b-90d7-b23524e002ce"
      },
      "execution_count": 22,
      "outputs": [
        {
          "output_type": "execute_result",
          "data": {
            "text/plain": [
              "30"
            ]
          },
          "metadata": {},
          "execution_count": 22
        }
      ]
    },
    {
      "cell_type": "code",
      "source": [
        "(lambda x,y: x + y)(10, 20)"
      ],
      "metadata": {
        "colab": {
          "base_uri": "https://localhost:8080/"
        },
        "id": "WeJdGTC_GVdZ",
        "outputId": "ea671246-17a5-40ea-a0eb-5da59689dc85"
      },
      "execution_count": 23,
      "outputs": [
        {
          "output_type": "execute_result",
          "data": {
            "text/plain": [
              "30"
            ]
          },
          "metadata": {},
          "execution_count": 23
        }
      ]
    },
    {
      "cell_type": "markdown",
      "source": [
        "##reverse() : 문자열 뒤집기"
      ],
      "metadata": {
        "id": "TrW0yWKNCEvT"
      }
    },
    {
      "cell_type": "code",
      "source": [
        "def reverseString(str):\n",
        "    str.reverse()\n",
        "    print(str)\n",
        "\n",
        "a = ['a', 'b', 'c', 'd', 'e']\n",
        "reverseString(a)"
      ],
      "metadata": {
        "colab": {
          "base_uri": "https://localhost:8080/"
        },
        "id": "S_hqO6GDCFVs",
        "outputId": "abefe0ea-c3be-421c-ab3e-39bb8bb6d3ad"
      },
      "execution_count": 16,
      "outputs": [
        {
          "output_type": "stream",
          "name": "stdout",
          "text": [
            "['e', 'd', 'c', 'b', 'a']\n"
          ]
        }
      ]
    },
    {
      "cell_type": "code",
      "source": [
        "a = 'abcde'\n",
        "a = a[::-1]\n",
        "print(a)"
      ],
      "metadata": {
        "colab": {
          "base_uri": "https://localhost:8080/"
        },
        "id": "NtLyzRhaCRM3",
        "outputId": "f68c5bcf-b56b-4966-afca-959fa3b10e32"
      },
      "execution_count": 17,
      "outputs": [
        {
          "output_type": "stream",
          "name": "stdout",
          "text": [
            "edcba\n"
          ]
        }
      ]
    },
    {
      "cell_type": "code",
      "source": [
        "a = ['a', 'b', 'c', 'd', 'e']\n",
        "a = a[::-1]\n",
        "print(a)"
      ],
      "metadata": {
        "colab": {
          "base_uri": "https://localhost:8080/"
        },
        "id": "FLuZ5lAYCTyH",
        "outputId": "04944ca4-394f-4062-991e-29bbac977a16"
      },
      "execution_count": 18,
      "outputs": [
        {
          "output_type": "stream",
          "name": "stdout",
          "text": [
            "['e', 'd', 'c', 'b', 'a']\n"
          ]
        }
      ]
    },
    {
      "cell_type": "markdown",
      "source": [
        "만약 코딩 테스트 시에 `a=a[::-1]`가 오류가 뜬다면, 시스템 내부적으로 변수 할당에 제약을 걸어놨을 가능성이 있으므로 `a[:]=a[::-1]`로 변경하여 작성하자. "
      ],
      "metadata": {
        "id": "6S-wdBWmCWdX"
      }
    },
    {
      "cell_type": "markdown",
      "source": [
        " 첫번째 인덱스와 마지막 인덱스를 포인터(left_idx, right_dix)로 지정을 하고, 위치를 변경해 준다."
      ],
      "metadata": {
        "id": "Zw9N9uoAC8ty"
      }
    },
    {
      "cell_type": "code",
      "source": [
        "def reverseString(str):\n",
        "    left_idx, right_idx = 0, len(str)-1\n",
        "    while left_idx < right_idx:\n",
        "        str[left_idx], str[right_idx] = str[right_idx], str[left_idx]\n",
        "        left_idx += 1\n",
        "        right_idx -= 1\n",
        "    print(str)\n",
        "\n",
        "\n",
        "a = ['a', 'b', 'c', 'd', 'e']\n",
        "reverseString(a)"
      ],
      "metadata": {
        "colab": {
          "base_uri": "https://localhost:8080/"
        },
        "id": "AIO1FAKXCcCH",
        "outputId": "ec43594a-01f3-4a61-8913-9586e41a739c"
      },
      "execution_count": 19,
      "outputs": [
        {
          "output_type": "stream",
          "name": "stdout",
          "text": [
            "['e', 'd', 'c', 'b', 'a']\n"
          ]
        }
      ]
    },
    {
      "cell_type": "markdown",
      "source": [
        "##회문 Palindrome\n",
        "\n",
        "앞뒤가 똑같은 단어나 문장을 의미한다. 이때 대소문자를 구분하지 않으며 글자와 숫자만 따지면 된다. ex_ '가나다다나가' 'Madam, I'm Adam'\n",
        "\n",
        "회문을 판별하기 전에 'Madam, I'm Adam'에서 대문자와 특수기호를 제거하여,\n",
        "\n",
        " 'madamimadam'으로 변환해주는 전처리 과정을 진행해 준 후에 판별을 진행한다.\n",
        "\n",
        " "
      ],
      "metadata": {
        "id": "5F4W-FI30o8g"
      }
    },
    {
      "cell_type": "code",
      "source": [
        "def isPalindrome(str):\n",
        "    for i in range(len(str)//2):\n",
        "        if str[i] == str[-i-1]:\n",
        "            continue\n",
        "        else:\n",
        "            print('회문이 아닙니다.')\n",
        "    print('회문입니다.')\n",
        "\n",
        "data = 'abcba'\n",
        "isPalindrome(data)"
      ],
      "metadata": {
        "colab": {
          "base_uri": "https://localhost:8080/"
        },
        "id": "r8joerKi0wBc",
        "outputId": "49561cc8-f09b-48b1-ca34-e396fc4317fa"
      },
      "execution_count": 1,
      "outputs": [
        {
          "output_type": "stream",
          "name": "stdout",
          "text": [
            "회문입니다.\n"
          ]
        }
      ]
    },
    {
      "cell_type": "code",
      "source": [
        "def inPalindrome(str):\n",
        "    # 전처리\n",
        "    list_str = []\n",
        "    for char in str:\n",
        "        if char.isalnum(): # if true(문자이면)\n",
        "            list_str.append(char.lower()) #소문자로\n",
        "            \n",
        "    # 회문 판별\n",
        "    while len(list_str) > 1:\n",
        "        if list_str.pop(0) != list_str.pop(): #맨처음, 맨끝 비교\n",
        "            print('회문이 아닙니다.')\n",
        "            return\n",
        "    print('회문입니다.')\n",
        "\n",
        "a = '0Madam, I\\'m Adam0'\n",
        "inPalindrome(a)"
      ],
      "metadata": {
        "colab": {
          "base_uri": "https://localhost:8080/"
        },
        "id": "KyCUiC0R9JhW",
        "outputId": "b4487427-848b-4fe0-e25a-c58c55bb165a"
      },
      "execution_count": 13,
      "outputs": [
        {
          "output_type": "stream",
          "name": "stdout",
          "text": [
            "회문입니다.\n"
          ]
        }
      ]
    },
    {
      "cell_type": "code",
      "source": [
        "import collections\n",
        "def inPalindrome(str):\n",
        "    deq = collections.deque()\n",
        "    for char in str:\n",
        "        if char.isalnum():\n",
        "            deq.append(char.lower())\n",
        "            \n",
        "    # 회문 판별\n",
        "    while len(deq) > 1:\n",
        "        if deq.popleft() != deq.pop():\n",
        "            print('회문이 아닙니다.')\n",
        "            return\n",
        "    print('회문입니다.')\n",
        "a = '0Madam, I\\'m Adam0'\n",
        "inPalindrome(a)"
      ],
      "metadata": {
        "colab": {
          "base_uri": "https://localhost:8080/"
        },
        "id": "44Gs-_HSBqRX",
        "outputId": "d64e996f-a38c-477b-af0f-efca50626c3f"
      },
      "execution_count": 15,
      "outputs": [
        {
          "output_type": "stream",
          "name": "stdout",
          "text": [
            "회문입니다.\n"
          ]
        }
      ]
    },
    {
      "cell_type": "markdown",
      "source": [
        "##조건에 맞게 재정렬\n",
        "리스트 안의 요소를 번호 순 정렬이 아닌 그 뒤의 문자 순으로 정렬해 보자.\n",
        "\n",
        " 이 유형은 풀이를 모르면 굉장히 시간이 오래 걸린다. 출제가 자주되니 암기하자."
      ],
      "metadata": {
        "id": "Qbl8szFzBvyP"
      }
    },
    {
      "cell_type": "code",
      "source": [
        "data = ['1 A', '1 B', '6 A', '2 D', '4 B']\n",
        "\n",
        "def func(x):\n",
        "    return x.split()[1], x.split()[0]\n",
        "    \n",
        "data.sort(key=func)\n",
        "print(data)"
      ],
      "metadata": {
        "colab": {
          "base_uri": "https://localhost:8080/"
        },
        "id": "vfo4EIygDU03",
        "outputId": "96cb4232-8201-4ac6-f4e3-2c15f18e553e"
      },
      "execution_count": 20,
      "outputs": [
        {
          "output_type": "stream",
          "name": "stdout",
          "text": [
            "['1 A', '6 A', '1 B', '4 B', '2 D']\n"
          ]
        }
      ]
    },
    {
      "cell_type": "code",
      "source": [
        "data = ['1 A', '1 B', '6 A', '2 D', '4 B']\n",
        "\n",
        "data.sort(key=lambda x: ( x.split()[1], x.split()[0] ))\n",
        "print(data)"
      ],
      "metadata": {
        "colab": {
          "base_uri": "https://localhost:8080/"
        },
        "id": "06uH1adHFXke",
        "outputId": "f65430bb-9a8b-4f04-ebe0-632618311807"
      },
      "execution_count": 21,
      "outputs": [
        {
          "output_type": "stream",
          "name": "stdout",
          "text": [
            "['1 A', '6 A', '1 B', '4 B', '2 D']\n"
          ]
        }
      ]
    },
    {
      "cell_type": "code",
      "source": [
        "students = [\n",
        "        ('홍길동', 3.9, 2016303),\n",
        "        ('김철수', 3.0, 2016302),\n",
        "        ('최자영', 4.3, 2016301),\n",
        "]\n",
        "\n",
        "sorted(students, key=lambda student: student[2])\n",
        "sorted(students, key=lambda student: student[2], reverse=True) #내림차순"
      ],
      "metadata": {
        "colab": {
          "base_uri": "https://localhost:8080/"
        },
        "id": "6aRHyPKdGyRZ",
        "outputId": "4b370710-242b-4961-bb36-0c97b7d11ea1"
      },
      "execution_count": 25,
      "outputs": [
        {
          "output_type": "execute_result",
          "data": {
            "text/plain": [
              "[('홍길동', 3.9, 2016303), ('김철수', 3.0, 2016302), ('최자영', 4.3, 2016301)]"
            ]
          },
          "metadata": {},
          "execution_count": 25
        }
      ]
    }
  ]
}