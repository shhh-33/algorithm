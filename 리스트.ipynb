{
  "nbformat": 4,
  "nbformat_minor": 0,
  "metadata": {
    "colab": {
      "name": "리스트.ipynb",
      "provenance": [],
      "authorship_tag": "ABX9TyNvHAf0S9QilV45LoWrjlnY",
      "include_colab_link": true
    },
    "kernelspec": {
      "name": "python3",
      "display_name": "Python 3"
    },
    "language_info": {
      "name": "python"
    }
  },
  "cells": [
    {
      "cell_type": "markdown",
      "metadata": {
        "id": "view-in-github",
        "colab_type": "text"
      },
      "source": [
        "<a href=\"https://colab.research.google.com/github/shhh-33/coding_test/blob/shhh/%EB%A6%AC%EC%8A%A4%ED%8A%B8.ipynb\" target=\"_parent\"><img src=\"https://colab.research.google.com/assets/colab-badge.svg\" alt=\"Open In Colab\"/></a>"
      ]
    },
    {
      "cell_type": "markdown",
      "source": [
        "\n",
        "선생님은 출석부를 보고 번호를 부르는데,\n",
        "학생들의 얼굴과 이름을 빨리 익히기 위해 번호를 무작위(랜덤)으로 부른다.\n",
        "\n",
        "그리고 얼굴과 이름이 잘 기억되지 않는 학생들은 번호를 여러 번 불러\n",
        "이름과 얼굴을 빨리 익히려고 하는 것이다.\n",
        "\n",
        "출석 번호를 n번 무작위로 불렀을 때, 각 번호(1 ~4)가 불린 횟수를 각각 출력해보자.\n",
        "\n",
        "첫 번째 줄에 출석 번호를 부른 횟수인 정수 n이 입력된다. (1 ~ 10000)\n",
        "두 번째 줄에는 무작위로 부른 n개의 번호(1 ~ 5)가 공백을 두고 순서대로 입력된다."
      ],
      "metadata": {
        "id": "iuZZH9dxy6Oh"
      }
    },
    {
      "cell_type": "code",
      "source": [
        "n = int(input()) #출석 번호를 부른 횟수 저장\n",
        "x = input().split() #어느 번호 부른지 저장\n",
        "result = [] #빈 배열선언\n",
        "\n",
        "for i in range(n) : #(0부터 n-1까지)부른 번호 수 만큼 배열 만들기\n",
        "  x[i] = int(x[i]) #순서대로 저장되어 있는 값 정수로 변환해 다시 저장, 출석 불러진 배열 넣기\n",
        "\n",
        "for i in range(5) : #d에 4칸 만들기\n",
        "  result.append(0) #각 칸에 0 넣어줌\n",
        "\n",
        "for i in range(n) :\n",
        "  result[x[i]] += 1 #번호를 부를때마다, 그 번호에 대한 카운트 1씩 증가\n",
        "\n",
        "for i in range(1, 5) :\n",
        "  print(result[i], end = ' ') #카운트한값 띄어쓰기로 출력"
      ],
      "metadata": {
        "colab": {
          "base_uri": "https://localhost:8080/"
        },
        "id": "tQmxMF37y6UA",
        "outputId": "125a9f07-7a62-44f2-8868-b63a2df57432"
      },
      "execution_count": 8,
      "outputs": [
        {
          "output_type": "stream",
          "name": "stdout",
          "text": [
            "4\n",
            "1 2 2 4\n",
            "1 2 0 1 "
          ]
        }
      ]
    },
    {
      "cell_type": "code",
      "source": [
        "a = [i for i in range(10)] # 리스트 안 반복문\n",
        "\n",
        "print(a)"
      ],
      "metadata": {
        "colab": {
          "base_uri": "https://localhost:8080/"
        },
        "id": "TR-1otv2y6eR",
        "outputId": "f23ae6db-3bda-4772-9e20-77ea8b091ad3"
      },
      "execution_count": 9,
      "outputs": [
        {
          "output_type": "stream",
          "name": "stdout",
          "text": [
            "[0, 1, 2, 3, 4, 5, 6, 7, 8, 9]\n"
          ]
        }
      ]
    },
    {
      "cell_type": "code",
      "source": [
        ""
      ],
      "metadata": {
        "id": "nTqfDT_iy6oK"
      },
      "execution_count": null,
      "outputs": []
    }
  ]
}