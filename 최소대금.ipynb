{
  "nbformat": 4,
  "nbformat_minor": 0,
  "metadata": {
    "colab": {
      "name": "최소대금.ipynb",
      "provenance": [],
      "authorship_tag": "ABX9TyM/atK5CSIHYPG90NO91dq+",
      "include_colab_link": true
    },
    "kernelspec": {
      "name": "python3",
      "display_name": "Python 3"
    },
    "language_info": {
      "name": "python"
    }
  },
  "cells": [
    {
      "cell_type": "markdown",
      "metadata": {
        "id": "view-in-github",
        "colab_type": "text"
      },
      "source": [
        "<a href=\"https://colab.research.google.com/github/shhh-33/coding_test/blob/shhh/%EC%B5%9C%EC%86%8C%EB%8C%80%EA%B8%88.ipynb\" target=\"_parent\"><img src=\"https://colab.research.google.com/assets/colab-badge.svg\" alt=\"Open In Colab\"/></a>"
      ]
    },
    {
      "cell_type": "markdown",
      "source": [
        "##**<문제>**\n",
        "파파 파스타 가게는 점심 추천 파스타와 생과일 쥬스 세트 메뉴가 인기가 좋다.\n",
        "\n",
        "이 세트 메뉴를 주문하면 그 날의 3 종류의 파스타와 2 종류의 생과일 쥬스에서 하나씩 선택한다.\n",
        "\n",
        "파스타와 생과일 쥬스의 가격 합계에서 10%를 더한 금액이 대금된다.\n",
        "\n",
        "어느 날의 파스타와 생과일 쥬스의 가격이 주어 졌을 때, 그 날 세트 메뉴의 대금의 최소값을 구하는 프로그램을 작성하라."
      ],
      "metadata": {
        "id": "yQHxYY-mNQrv"
      }
    },
    {
      "cell_type": "markdown",
      "source": [
        "##**<입력>**\n",
        "입력은 5 행으로 이루어지며, 한 줄에 하나씩 양의 정수가 적혀있다.\n",
        "\n",
        "1행의 정수는 첫 번째 파스타 가격이다.\n",
        "\n",
        "2행의 정수는 두 번째 파스타 가격이다.\n",
        "\n",
        "3행의 정수는 세 번째 파스타 가격이다.\n",
        "\n",
        "4행의 정수는 첫 번째 생과일 쥬스 가격이다.\n",
        "\n",
        "5행의 정수는 두 번째 생과일 쥬스의 가격이다.\n",
        "\n",
        "(모든 파스타와 생과일 쥬스의 가격은 100 원이상 2000원 이하이다.)"
      ],
      "metadata": {
        "id": "DE1l-x_GNUB1"
      }
    },
    {
      "cell_type": "markdown",
      "source": [
        "##**<출력>**\n",
        "그날 세트 메뉴의 최소 대금을 소수 첫째자리까지 출력"
      ],
      "metadata": {
        "id": "tXpdpBRLNl8K"
      }
    },
    {
      "cell_type": "code",
      "source": [
        "pasta = [] #리스트로 입력받기\n",
        "for i in range(3) : #3종류파스타\n",
        "    pasta.append(float(input())) #실수로 입력받기\n",
        "\n",
        "juice = []\n",
        "for i in range(2) :\n",
        "    juice.append(float(input()))\n",
        "\n",
        "\"\"\"\n",
        "1.정렬로 접근\n",
        "pasta = sorted(pasta)\n",
        "juice = sorted(juice)\n",
        "\n",
        "print(round(((pasta[0]+juice[0])*1.1),1)) #소수점 첫번째 자리 출력\n",
        "\"\"\"\n",
        "\n",
        "#2.min으로 접근\n",
        "result=(min(pasta) +min(juice)) + ((min(pasta) +min(juice))*0.1) #파스타와 생과일 쥬스의 가격 합계에 10%를 더한 금액\n",
        "print(format(result,\".1f\")) #소수점"
      ],
      "metadata": {
        "colab": {
          "base_uri": "https://localhost:8080/"
        },
        "id": "OX9J9cEhTCnF",
        "outputId": "d40fa3c1-aa4f-4847-c772-c5d6c9617ca8"
      },
      "execution_count": null,
      "outputs": [
        {
          "output_type": "stream",
          "name": "stdout",
          "text": [
            "800\n",
            "700\n",
            "900\n",
            "198\n",
            "330\n",
            "987.8\n"
          ]
        }
      ]
    }
  ]
}