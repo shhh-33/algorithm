{
  "nbformat": 4,
  "nbformat_minor": 0,
  "metadata": {
    "colab": {
      "name": "구현.ipynb",
      "provenance": [],
      "authorship_tag": "ABX9TyOBrGdNjPdGTTXi+HB2zEGS",
      "include_colab_link": true
    },
    "kernelspec": {
      "name": "python3",
      "display_name": "Python 3"
    },
    "language_info": {
      "name": "python"
    }
  },
  "cells": [
    {
      "cell_type": "markdown",
      "metadata": {
        "id": "view-in-github",
        "colab_type": "text"
      },
      "source": [
        "<a href=\"https://colab.research.google.com/github/shhh-33/coding_test/blob/shhh/%EA%B5%AC%ED%98%84.ipynb\" target=\"_parent\"><img src=\"https://colab.research.google.com/assets/colab-badge.svg\" alt=\"Open In Colab\"/></a>"
      ]
    },
    {
      "cell_type": "markdown",
      "source": [
        "상하좌우-행렬"
      ],
      "metadata": {
        "id": "rnIAgvf0lFj0"
      }
    },
    {
      "cell_type": "code",
      "execution_count": 3,
      "metadata": {
        "colab": {
          "base_uri": "https://localhost:8080/"
        },
        "id": "4GeeOf9-ZuXL",
        "outputId": "50de3aeb-ecb9-4ca8-9de1-1db75f222382"
      },
      "outputs": [
        {
          "output_type": "stream",
          "name": "stdout",
          "text": [
            "5\n",
            "R R R U D D\n",
            "3 4\n"
          ]
        }
      ],
      "source": [
        "# N 입력받기\n",
        "n = int(input())\n",
        "x, y = 1, 1 #현재 위치를 의미\n",
        "plans = input().split()\n",
        "\n",
        "# L, R, U, D에 따른 이동 방향\n",
        "dx = [0, 0, -1, 1]\n",
        "dy = [-1, 1, 0, 0]\n",
        "move_types = ['L', 'R', 'U', 'D']\n",
        "\n",
        "# 이동 계획을 하나씩 확인\n",
        "for plan in plans:\n",
        "    # 이동 후 좌표 구하기\n",
        "    for i in range(len(move_types)):\n",
        "        if plan == move_types[i]:\n",
        "            nx = x + dx[i]\n",
        "            ny = y + dy[i]\n",
        "    # 공간을 벗어나는 경우 무시\n",
        "    if nx < 1 or ny < 1 or nx > n or ny > n:\n",
        "        continue\n",
        "    # 이동 수행\n",
        "    x, y = nx, ny\n",
        "\n",
        "print(x, y)"
      ]
    },
    {
      "cell_type": "markdown",
      "source": [
        "시각"
      ],
      "metadata": {
        "id": "eh5fL45PlEnk"
      }
    },
    {
      "cell_type": "code",
      "source": [
        "# H(시간)를 입력받기\n",
        "h = int(input())\n",
        "\n",
        "count = 0\n",
        "for i in range(h + 1): #0부터 h까지 1씩 증가\n",
        "    for j in range(60): #분 (0~59)\n",
        "        for k in range(60): #초\n",
        "            # 매 시각 안에 '3'이 포함되어 있다면 카운트 증가\n",
        "            if '3' in str(i) + str(j) + str(k): #시분초를 문자열 형태로 만들어서 더해버린다 =>시분초 문자열 하나로 합쳐버림\n",
        "                count += 1\n",
        "\n",
        "print(count)"
      ],
      "metadata": {
        "colab": {
          "base_uri": "https://localhost:8080/"
        },
        "id": "J5hyhHKai7dm",
        "outputId": "b1a9da56-deb2-4c4c-e362-d579b95aa640"
      },
      "execution_count": 4,
      "outputs": [
        {
          "output_type": "stream",
          "name": "stdout",
          "text": [
            "5\n",
            "11475\n"
          ]
        }
      ]
    },
    {
      "cell_type": "markdown",
      "source": [
        "왕실의 나이트"
      ],
      "metadata": {
        "id": "IjRfmmMlpAVg"
      }
    },
    {
      "cell_type": "code",
      "source": [
        "# 현재 나이트의 위치 입력받기\n",
        "input_data = input()\n",
        "row = int(input_data[1]) #두번째 위치의 문자를 숫자로 바꾼게 행\n",
        "column = int(ord(input_data[0])) - int(ord('a')) +1  #아스키코드로 바꿔서 열 위치 찾음\n",
        "#a=97-97+1=0 ->(0,1)에 나이트가 서 있는 것을 표현할 수 있다.\n",
        "\n",
        "\"\"\"\n",
        "a 아스키 코드 값 : 97\n",
        "(열,행)으로 입력받는 중\n",
        "c2 라면..(3,2)\n",
        "c의 아스키코드 값 : 99\n",
        "c =99-96\n",
        "column = int(ord(input_data[0])) - (int(ord('a')) -1 ) #아스키코드로 바꿔서 열 위치 찾음\n",
        "\n",
        "입력 : c2\n",
        "출력 : 6\n",
        "\"\"\"\n",
        "\n",
        "# 나이트가 이동할 수 있는 8가지 방향 정의 (방향벡터)\n",
        "steps = [(-2, -1), (-1, -2), (1, -2), (2, -1), (2, 1), (1, 2), (-1, 2), (-2, 1)]\n",
        "\n",
        "# 8가지 방향에 대하여 각 위치로 이동이 가능한지 확인\n",
        "result = 0\n",
        "for step in steps:\n",
        "    # 이동하고자 하는 위치 확인\n",
        "    next_row = row + step[0]\n",
        "    next_column = column + step[1]\n",
        "    # 해당 위치로 이동이 가능하다면 카운트 증가\n",
        "    if next_row >= 1 and next_row <= 8 and next_column >= 1 and next_column <= 8:\n",
        "        result += 1\n",
        "\n",
        "print(result)"
      ],
      "metadata": {
        "colab": {
          "base_uri": "https://localhost:8080/"
        },
        "id": "LtHrLZXqpBxM",
        "outputId": "34047fc6-2a4d-4aa2-c7ed-9da8fcb42e3b"
      },
      "execution_count": 14,
      "outputs": [
        {
          "output_type": "stream",
          "name": "stdout",
          "text": [
            "a1\n",
            "2\n"
          ]
        }
      ]
    },
    {
      "cell_type": "markdown",
      "source": [
        "문자열 재정렬"
      ],
      "metadata": {
        "id": "jpG75Qn2x7S5"
      }
    },
    {
      "cell_type": "code",
      "source": [
        "data = input()\n",
        "result = []\n",
        "value = 0\n",
        "\n",
        "# 문자를 하나씩 확인하며\n",
        "for x in data:\n",
        "    # 알파벳인 경우 결과 리스트에 삽입 :isalpha 함수사용 \n",
        "    if x.isalpha(): #if true\n",
        "        result.append(x) #result=A\n",
        "    # 숫자는 따로 더하기\n",
        "    else:\n",
        "        value += int(x) #value=1\n",
        "\n",
        "# 알파벳을 오름차순으로 정렬\n",
        "result.sort()\n",
        "\n",
        "# 숫자가 하나라도 존재하는 경우 가장 뒤에 삽입\n",
        "if value != 0: #만약 value값 1 이면 \n",
        "    result.append(str(value)) #A1\n",
        "\n",
        "# 최종 결과 출력(리스트를 문자열로 변환하여 출력)\n",
        "print(''.join(result))\n",
        "\n",
        "\"\"\"\n",
        "print(result)\n",
        "궁금해서 해본 결과..\n",
        "K1A2\n",
        "['A', 'K', '3']\n",
        "\"\"\""
      ],
      "metadata": {
        "colab": {
          "base_uri": "https://localhost:8080/",
          "height": 73
        },
        "id": "6ggEtsGj1iNp",
        "outputId": "57ac4814-fa9c-4578-c9c5-212b2ec19710"
      },
      "execution_count": 21,
      "outputs": [
        {
          "output_type": "stream",
          "name": "stdout",
          "text": [
            "K1KA5\n",
            "AKK6\n"
          ]
        },
        {
          "output_type": "execute_result",
          "data": {
            "text/plain": [
              "\"\\nprint(result)\\n궁금해서 해본 결과..\\nK1A2\\n['A', 'K', '3']\\n\""
            ],
            "application/vnd.google.colaboratory.intrinsic+json": {
              "type": "string"
            }
          },
          "metadata": {},
          "execution_count": 21
        }
      ]
    }
  ]
}