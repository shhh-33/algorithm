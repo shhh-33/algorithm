{
  "nbformat": 4,
  "nbformat_minor": 0,
  "metadata": {
    "colab": {
      "name": "입출력,값/출력변환6000~6031.ipynb",
      "provenance": [],
      "authorship_tag": "ABX9TyNgkXQ5xiayceyfCyOaKWoF",
      "include_colab_link": true
    },
    "kernelspec": {
      "name": "python3",
      "display_name": "Python 3"
    },
    "language_info": {
      "name": "python"
    }
  },
  "cells": [
    {
      "cell_type": "markdown",
      "metadata": {
        "id": "view-in-github",
        "colab_type": "text"
      },
      "source": [
        "<a href=\"https://colab.research.google.com/github/shhh-33/algorithm/blob/shhh/%EC%9E%85%EC%B6%9C%EB%A0%A5%2C%EA%B0%92_%EC%B6%9C%EB%A0%A5%EB%B3%80%ED%99%986000~6031.ipynb\" target=\"_parent\"><img src=\"https://colab.research.google.com/assets/colab-badge.svg\" alt=\"Open In Colab\"/></a>"
      ]
    },
    {
      "cell_type": "markdown",
      "source": [
        "##문자 1개 입력받아 그대로 출력하기"
      ],
      "metadata": {
        "id": "J3KFzp9ckx0X"
      }
    },
    {
      "cell_type": "code",
      "source": [
        "c = input()\n",
        "print(c)"
      ],
      "metadata": {
        "colab": {
          "base_uri": "https://localhost:8080/"
        },
        "id": "RcsH6dPskx8P",
        "outputId": "0109c1b8-93c1-453a-ad23-f807c6deb4dc"
      },
      "execution_count": null,
      "outputs": [
        {
          "output_type": "stream",
          "name": "stdout",
          "text": [
            "a\n",
            "a\n"
          ]
        }
      ]
    },
    {
      "cell_type": "markdown",
      "source": [
        "##정수 1개 입력받아 int로 변환하여 출력하기"
      ],
      "metadata": {
        "id": "sbHvHmZknhQR"
      }
    },
    {
      "cell_type": "code",
      "source": [
        "n =int(input())\n",
        "print(n)"
      ],
      "metadata": {
        "colab": {
          "base_uri": "https://localhost:8080/"
        },
        "id": "XBAzF1lDnjpE",
        "outputId": "33ac038a-e3e3-4f3b-f0e1-acc4cf24728b"
      },
      "execution_count": null,
      "outputs": [
        {
          "output_type": "stream",
          "name": "stdout",
          "text": [
            "4\n",
            "4\n"
          ]
        }
      ]
    },
    {
      "cell_type": "markdown",
      "source": [
        "##map(변환함수,순회가능한데이터)"
      ],
      "metadata": {
        "id": "JtUxhCj9p11t"
      }
    },
    {
      "cell_type": "code",
      "source": [
        "a, b = map(int,input().split()) #공백을 기준으로 입력받기\n",
        "print(a,b)"
      ],
      "metadata": {
        "colab": {
          "base_uri": "https://localhost:8080/"
        },
        "id": "gVDle8S0npLX",
        "outputId": "1c8f926b-55c8-43c5-9fc6-b1a05ebe382e"
      },
      "execution_count": null,
      "outputs": [
        {
          "output_type": "stream",
          "name": "stdout",
          "text": [
            "4 5\n",
            "4 5\n"
          ]
        }
      ]
    },
    {
      "cell_type": "markdown",
      "source": [
        "###문자 2개 입력받아 순서 바꿔 출력하기"
      ],
      "metadata": {
        "id": "_Ol4e8bnqZuJ"
      }
    },
    {
      "cell_type": "code",
      "source": [
        "a, b = map(str,input().split())\n",
        "print(b,a)"
      ],
      "metadata": {
        "colab": {
          "base_uri": "https://localhost:8080/"
        },
        "id": "lRDauNNOqRe4",
        "outputId": "c579a8e7-4737-4093-b7f0-32dbe12c5fe5"
      },
      "execution_count": null,
      "outputs": [
        {
          "output_type": "stream",
          "name": "stdout",
          "text": [
            "1 2\n",
            "2 1\n"
          ]
        }
      ]
    },
    {
      "cell_type": "markdown",
      "source": [
        "실수 입력받아 둘째 자리까지 출력하기"
      ],
      "metadata": {
        "id": "iCGOBj6GqqUe"
      }
    },
    {
      "cell_type": "code",
      "source": [
        "a = float(input())\n",
        "print(\"%0.2f\"%a)"
      ],
      "metadata": {
        "colab": {
          "base_uri": "https://localhost:8080/"
        },
        "id": "RgQIdTR3qY6g",
        "outputId": "ccb1c134-0c84-48eb-9a2b-c7c709acb864"
      },
      "execution_count": null,
      "outputs": [
        {
          "output_type": "stream",
          "name": "stdout",
          "text": [
            "2.2324\n",
            "2.23\n"
          ]
        }
      ]
    },
    {
      "cell_type": "markdown",
      "source": [
        " 정수 1개 입력받아 3번 출력하기"
      ],
      "metadata": {
        "id": "Mn0zqYFXqxFN"
      }
    },
    {
      "cell_type": "code",
      "source": [
        "a = input()\n",
        "print(a,a,a)"
      ],
      "metadata": {
        "colab": {
          "base_uri": "https://localhost:8080/"
        },
        "id": "dGGlP653q2xd",
        "outputId": "397adb9f-7d2a-40ef-cbbf-2bd17a98afcc"
      },
      "execution_count": null,
      "outputs": [
        {
          "output_type": "stream",
          "name": "stdout",
          "text": [
            "2\n",
            "2 2 2\n"
          ]
        }
      ]
    },
    {
      "cell_type": "markdown",
      "source": [
        "24시간 시:분 형식으로 시간이 입력될 때, 그대로 출력"
      ],
      "metadata": {
        "id": "hvlrLklYq6DV"
      }
    },
    {
      "cell_type": "code",
      "source": [
        "h,m=input().split(':');\n",
        "print(int(h), int(m), sep=':');"
      ],
      "metadata": {
        "colab": {
          "base_uri": "https://localhost:8080/"
        },
        "id": "PfsWSFiUrGQZ",
        "outputId": "b5108ac9-b6a6-4039-8400-3bb035b28da3"
      },
      "execution_count": null,
      "outputs": [
        {
          "output_type": "stream",
          "name": "stdout",
          "text": [
            "02 :03\n",
            "2:3\n"
          ]
        }
      ]
    },
    {
      "cell_type": "markdown",
      "source": [
        "\"연도.월.일\"을 입력받아 \"일-월-연도\" 순서로 바꿔 출력해보자."
      ],
      "metadata": {
        "id": "GMqeGRTNrURa"
      }
    },
    {
      "cell_type": "code",
      "source": [
        "y,m,d = input().split('.')\n",
        "print(d,m,y,sep='-')"
      ],
      "metadata": {
        "colab": {
          "base_uri": "https://localhost:8080/"
        },
        "id": "Z7AYIp3RrxLd",
        "outputId": "43950393-279a-4a6d-8bee-f594a3add4bd"
      },
      "execution_count": null,
      "outputs": [
        {
          "output_type": "stream",
          "name": "stdout",
          "text": [
            "2022.05.24\n",
            "24-05-2022\n"
          ]
        }
      ]
    },
    {
      "cell_type": "markdown",
      "source": [
        "주민번호는 다음과 같이 구성된다.\n",
        "XXXXXX-XXXXXXX\n",
        "\n",
        "\n",
        "주민번호를 입력받아 형태를 바꿔 출력해보자.\n",
        "'-'를 제외한 주민번호 13자리를 모두 붙여 출력한다."
      ],
      "metadata": {
        "id": "lMpqq43jsNQC"
      }
    },
    {
      "cell_type": "code",
      "source": [
        "a, b = input().split('-')\n",
        "print(a,b,sep='')"
      ],
      "metadata": {
        "colab": {
          "base_uri": "https://localhost:8080/"
        },
        "id": "83yoxEq5slCQ",
        "outputId": "0324c6c3-5830-4155-c291-5f31fc86342b"
      },
      "execution_count": null,
      "outputs": [
        {
          "output_type": "stream",
          "name": "stdout",
          "text": [
            "111111-8787878\n",
            "1111118787878\n"
          ]
        }
      ]
    },
    {
      "cell_type": "markdown",
      "source": [
        "## 단어 1개 입력받아 나누어 출력하기"
      ],
      "metadata": {
        "id": "XyGQLFa4s7Pi"
      }
    },
    {
      "cell_type": "code",
      "source": [
        "a =input()\n",
        "for i in range(0,5):\n",
        "  print(a[i],sep=\"\\n\")"
      ],
      "metadata": {
        "colab": {
          "base_uri": "https://localhost:8080/"
        },
        "id": "sruBVwyNtjFm",
        "outputId": "c34a6219-dcdd-404b-803a-71b5d62deec2"
      },
      "execution_count": null,
      "outputs": [
        {
          "output_type": "stream",
          "name": "stdout",
          "text": [
            "hello\n",
            "h\n",
            "e\n",
            "l\n",
            "l\n",
            "o\n"
          ]
        }
      ]
    },
    {
      "cell_type": "markdown",
      "source": [
        "시:분:초 형식으로 시간이 입력될 때 분만 출력해보자.\n"
      ],
      "metadata": {
        "id": "r6bsKwwRt0Oy"
      }
    },
    {
      "cell_type": "code",
      "source": [
        "h, m, s = input().split(':')\n",
        "print(m)"
      ],
      "metadata": {
        "colab": {
          "base_uri": "https://localhost:8080/"
        },
        "id": "U79lpqCp05uh",
        "outputId": "f19df0e4-b4c7-4c9c-cf67-3c7eef061853"
      },
      "execution_count": null,
      "outputs": [
        {
          "output_type": "stream",
          "name": "stdout",
          "text": [
            "2:51:14\n",
            "51\n"
          ]
        }
      ]
    },
    {
      "cell_type": "markdown",
      "source": [
        "단어 2개 입력받아 이어 붙이기"
      ],
      "metadata": {
        "id": "JxbJ5Vxj1AYM"
      }
    },
    {
      "cell_type": "code",
      "source": [
        "w1, w2 = input().split()\n",
        "s = w1 + w2\n",
        "print(s)"
      ],
      "metadata": {
        "colab": {
          "base_uri": "https://localhost:8080/"
        },
        "id": "j1D0vw901XHV",
        "outputId": "627ec0b1-0dc3-4b85-9cc5-9d9b6cbf123c"
      },
      "execution_count": null,
      "outputs": [
        {
          "output_type": "stream",
          "name": "stdout",
          "text": [
            "q w\n",
            "qw\n"
          ]
        }
      ]
    },
    {
      "cell_type": "markdown",
      "source": [
        "10진 정수 입력받아 16진수로 출력하기"
      ],
      "metadata": {
        "id": "NYb2Dpi91bz8"
      }
    },
    {
      "cell_type": "code",
      "source": [
        "print('%x' %int(input()))\n",
        "print('%X' %int(input()))"
      ],
      "metadata": {
        "colab": {
          "base_uri": "https://localhost:8080/"
        },
        "id": "61hL75jA1lZi",
        "outputId": "b6724019-55de-4618-dddd-1236c2ace26c"
      },
      "execution_count": null,
      "outputs": [
        {
          "output_type": "stream",
          "name": "stdout",
          "text": [
            "255\n",
            "ff\n",
            "255\n",
            "FF\n"
          ]
        }
      ]
    },
    {
      "cell_type": "markdown",
      "source": [
        "16진 정수 입력받아 8진수로 출력하기"
      ],
      "metadata": {
        "id": "fXz_5Rqd2qLt"
      }
    },
    {
      "cell_type": "code",
      "source": [
        "a = input()\n",
        "n = int(a, 16)      #입력된 a를 16진수로 인식해 변수 n에 저장\n",
        "print('%o' % n)  #n에 저장되어있는 값을 8진수(octal) 형태 문자열로 출력\n"
      ],
      "metadata": {
        "colab": {
          "base_uri": "https://localhost:8080/"
        },
        "id": "Q9gyIsDP28rC",
        "outputId": "a6dbbbde-130a-47f3-9306-909cec4837f2"
      },
      "execution_count": null,
      "outputs": [
        {
          "output_type": "stream",
          "name": "stdout",
          "text": [
            "f\n",
            "17\n"
          ]
        }
      ]
    },
    {
      "cell_type": "markdown",
      "source": [
        " 정수 입력받아 유니코드 문자로 변환하기"
      ],
      "metadata": {
        "id": "C07_gHxD3Fum"
      }
    },
    {
      "cell_type": "code",
      "source": [
        "c = int(input())\n",
        "print(chr(c))  #c에 저장되어 있는 정수 값을 유니코드 문자(chracter)로 바꿔 출력한다. \n"
      ],
      "metadata": {
        "colab": {
          "base_uri": "https://localhost:8080/"
        },
        "id": "q-USLgws3HLe",
        "outputId": "4a7b2dff-9cfa-443a-f687-a3de99b39dc9"
      },
      "execution_count": null,
      "outputs": [
        {
          "output_type": "stream",
          "name": "stdout",
          "text": [
            "65\n",
            "A\n"
          ]
        }
      ]
    },
    {
      "cell_type": "markdown",
      "source": [
        "##format\n",
        "실수 1개를 입력받아\n",
        "소숫점 이하 두 번째 자리까지의 정확도로 반올림한 값을 출력해보자."
      ],
      "metadata": {
        "id": "lpvVO5x13kb6"
      }
    },
    {
      "cell_type": "code",
      "source": [
        "a=float(input())\n",
        "\n",
        "print( format(a, \".2f\") )"
      ],
      "metadata": {
        "colab": {
          "base_uri": "https://localhost:8080/"
        },
        "id": "4Df9--ID3mMV",
        "outputId": "89ec657d-0bdc-434c-bb8a-eef4b9a8457e"
      },
      "execution_count": null,
      "outputs": [
        {
          "output_type": "stream",
          "name": "stdout",
          "text": [
            "5.4887\n",
            "5.49\n"
          ]
        }
      ]
    }
  ]
}