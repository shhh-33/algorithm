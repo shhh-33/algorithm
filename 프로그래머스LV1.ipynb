{
  "nbformat": 4,
  "nbformat_minor": 0,
  "metadata": {
    "colab": {
      "name": "프로그래머스LV1.ipynb",
      "provenance": [],
      "authorship_tag": "ABX9TyOyS/4fwjwbGXewhGL9bdb5",
      "include_colab_link": true
    },
    "kernelspec": {
      "name": "python3",
      "display_name": "Python 3"
    },
    "language_info": {
      "name": "python"
    }
  },
  "cells": [
    {
      "cell_type": "markdown",
      "metadata": {
        "id": "view-in-github",
        "colab_type": "text"
      },
      "source": [
        "<a href=\"https://colab.research.google.com/github/shhh-33/algorithm/blob/shhh/%ED%94%84%EB%A1%9C%EA%B7%B8%EB%9E%98%EB%A8%B8%EC%8A%A4LV1.ipynb\" target=\"_parent\"><img src=\"https://colab.research.google.com/assets/colab-badge.svg\" alt=\"Open In Colab\"/></a>"
      ]
    },
    {
      "cell_type": "markdown",
      "source": [
        "##평균구하기\n",
        "정수를 담고 있는 배열 arr의 평균값을 return하는 함수, solution을 완성해보세요."
      ],
      "metadata": {
        "id": "O--IN4htjyCx"
      }
    },
    {
      "cell_type": "markdown",
      "source": [
        ""
      ],
      "metadata": {
        "id": "gB4B0X4Ax8GA"
      }
    },
    {
      "cell_type": "code",
      "execution_count": 3,
      "metadata": {
        "colab": {
          "base_uri": "https://localhost:8080/"
        },
        "id": "9v_djulejxWV",
        "outputId": "082f9dcf-4827-4b93-888e-4beb232ce834"
      },
      "outputs": [
        {
          "output_type": "stream",
          "name": "stdout",
          "text": [
            "2.0\n"
          ]
        }
      ],
      "source": [
        "def solution(arr):\n",
        "   return sum(arr)/len(arr)\n",
        "\n",
        "#출력\n",
        "a=[1,2,3]\n",
        "print(solution(a))"
      ]
    },
    {
      "cell_type": "markdown",
      "source": [
        "##짝수와 홀수\n",
        "정수 num이 짝수일 경우 \"Even\"을 반환하고 홀수인 경우 \"Odd\"를 반환하는 함수"
      ],
      "metadata": {
        "id": "McYTqUqtlFMo"
      }
    },
    {
      "cell_type": "code",
      "source": [
        "def solution(num):\n",
        "    if(num %2==0):\n",
        "\n",
        "      return \"Even\"\n",
        "    else:\n",
        "      return \"Odd\"\n",
        "\n",
        "print(solution(5))"
      ],
      "metadata": {
        "colab": {
          "base_uri": "https://localhost:8080/"
        },
        "id": "zWUye8OilF0u",
        "outputId": "2203aeff-5444-4ac1-d293-9d037e51dc5e"
      },
      "execution_count": 4,
      "outputs": [
        {
          "output_type": "stream",
          "name": "stdout",
          "text": [
            "Odd\n"
          ]
        }
      ]
    },
    {
      "cell_type": "markdown",
      "source": [
        "##별"
      ],
      "metadata": {
        "id": "3e98_aoNpQIi"
      }
    },
    {
      "cell_type": "code",
      "source": [
        "a, b = map(int, input().strip().split(' '))\n",
        "\n",
        "for i in range(a):            #바깥쪽 루프는 세로 방향\n",
        "    for j in range(b):        #  안쪽 루프는 가로 방향\n",
        "        print('*', end='')    \n",
        "    print('')\n"
      ],
      "metadata": {
        "colab": {
          "base_uri": "https://localhost:8080/"
        },
        "id": "sbFJxU5qnu0f",
        "outputId": "bedfc265-419a-4b49-fb1e-7bc45b07bb19"
      },
      "execution_count": 8,
      "outputs": [
        {
          "output_type": "stream",
          "name": "stdout",
          "text": [
            "5 3\n",
            "***\n",
            "***\n",
            "***\n",
            "***\n",
            "***\n"
          ]
        }
      ]
    },
    {
      "cell_type": "markdown",
      "source": [
        "##최대공약수와 최소공배수\n",
        "두 수를 입력받아 두 수의 최대공약수와 최소공배수를 반환하는 함수, solution을 완성해 보세요. \n",
        "\n",
        "배열의 맨 앞에 최대공약수, 그다음 최소공배수를 넣어 반환하면 됩니다. \n",
        "\n",
        "예를 들어 두 수 3, 12의 최대공약수는 3, 최소공배수는 12이므로 solution(3, 12)는 [3, 12]를 반환해야 합니다."
      ],
      "metadata": {
        "id": "0CBabeUMpSWB"
      }
    },
    {
      "cell_type": "code",
      "source": [
        "from math import gcd\n",
        "# python 3.9 부터는 math.lcm 사용 가능\n",
        "\n",
        "def solution(n, m):\n",
        "    return [gcd(n, m), n * m // gcd(n, m)]"
      ],
      "metadata": {
        "id": "2s7nPX0Xpc3d"
      },
      "execution_count": 19,
      "outputs": []
    },
    {
      "cell_type": "code",
      "source": [
        "def gcdlcm(a, b):\n",
        "    c, d = max(a, b), min(a, b)\n",
        "    t = 1\n",
        "    while t > 0:\n",
        "        t = c % d\n",
        "        c, d = d, t\n",
        "    answer = [c, int(a*b/c)]    #최대공약수, 최소공배수\n",
        "\n",
        "    return answer\n",
        "\n",
        "# 아래는 테스트로 출력해 보기 위한 코드입니다.\n",
        "print(gcdlcm(3,12))\n"
      ],
      "metadata": {
        "id": "Ud0SIfGZqTkZ"
      },
      "execution_count": null,
      "outputs": []
    }
  ]
}