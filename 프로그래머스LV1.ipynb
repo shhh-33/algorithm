{
  "nbformat": 4,
  "nbformat_minor": 0,
  "metadata": {
    "colab": {
      "name": "프로그래머스LV1.ipynb",
      "provenance": [],
      "authorship_tag": "ABX9TyMIm34IuQ6k+chWCszz9AOQ",
      "include_colab_link": true
    },
    "kernelspec": {
      "name": "python3",
      "display_name": "Python 3"
    },
    "language_info": {
      "name": "python"
    }
  },
  "cells": [
    {
      "cell_type": "markdown",
      "metadata": {
        "id": "view-in-github",
        "colab_type": "text"
      },
      "source": [
        "<a href=\"https://colab.research.google.com/github/shhh-33/algorithm/blob/shhh/%ED%94%84%EB%A1%9C%EA%B7%B8%EB%9E%98%EB%A8%B8%EC%8A%A4LV1.ipynb\" target=\"_parent\"><img src=\"https://colab.research.google.com/assets/colab-badge.svg\" alt=\"Open In Colab\"/></a>"
      ]
    },
    {
      "cell_type": "markdown",
      "source": [
        "##모의고사"
      ],
      "metadata": {
        "id": "nhMvfR7ojPfi"
      }
    },
    {
      "cell_type": "code",
      "source": [
        "def solution(answers):\n",
        "    answer = []\n",
        "    answer_temp = []\n",
        "    count01 = 0\n",
        "    count02 = 0\n",
        "    count03 = 0\n",
        "    \n",
        "    one = [1,2,3,4,5] #12345 12345 이렇게 찍음\n",
        "    two = [2,1,2,3,2,4,2,5] \n",
        "    three = [3,3,1,1,2,2,4,4,5,5]\n",
        "    \n",
        "    for i in range(len(answers)):\n",
        "        if answers[i] == one[i%len(one)]:\n",
        "            count01+=1\n",
        "        if answers[i] == two[i%len(two)]:\n",
        "            count02+=1\n",
        "        if answers[i] == three[i%len(three)]:\n",
        "            count03+=1\n",
        "    \n",
        "    answer_temp = [count01, count02, count03]\n",
        "    \n",
        "    for person, score in enumerate(answer_temp):\n",
        "        if score == max(answer_temp):\n",
        "            answer.append(person+1)\n",
        "    \n",
        "    return answer\n"
      ],
      "metadata": {
        "id": "N0x88hV7-Ojx"
      },
      "execution_count": null,
      "outputs": []
    },
    {
      "cell_type": "code",
      "source": [
        "def solution(answers):\n",
        "    answer = [0 for i in range(3)]\n",
        "\n",
        "    man1 = [1,2,3,4,5]\n",
        "    man2 = [2,1,2,3,2,4,2,5] #[2]로 출력\n",
        "    man3 = [3,3,1,1,2,2,4,4,5,5]\n",
        "    \n",
        "    for i in range(len(answers)):\n",
        "        ans = answers[i]\n",
        "        if(man1[i%len(man1)] == ans):\n",
        "            answer[0] += 1\n",
        "        if(man2[i%len(man2)] == ans):\n",
        "            answer[1] += 1\n",
        "        if(man3[i%len(man3)] == ans):\n",
        "            answer[2] += 1     \n",
        "    \n",
        "    result = []\n",
        "    for i in range(len(answer)):\n",
        "        if(answer[i] == max(answer)):\n",
        "            result.append(i+1)\n",
        "    \n",
        "    return sorted(result)\n",
        "\n",
        "print(solution([2,1,2,3]))"
      ],
      "metadata": {
        "colab": {
          "base_uri": "https://localhost:8080/"
        },
        "id": "y5Eg8NvG-v7k",
        "outputId": "dd92c3d3-bea2-463e-cf81-d86dc435d295"
      },
      "execution_count": 1,
      "outputs": [
        {
          "output_type": "stream",
          "name": "stdout",
          "text": [
            "[2]\n"
          ]
        }
      ]
    }
  ]
}