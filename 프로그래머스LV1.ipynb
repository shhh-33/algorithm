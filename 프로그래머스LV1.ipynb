{
  "nbformat": 4,
  "nbformat_minor": 0,
  "metadata": {
    "colab": {
      "name": "프로그래머스LV1.ipynb",
      "provenance": [],
      "authorship_tag": "ABX9TyNCAfQYnWAfyI/AUldid7m2",
      "include_colab_link": true
    },
    "kernelspec": {
      "name": "python3",
      "display_name": "Python 3"
    },
    "language_info": {
      "name": "python"
    }
  },
  "cells": [
    {
      "cell_type": "markdown",
      "metadata": {
        "id": "view-in-github",
        "colab_type": "text"
      },
      "source": [
        "<a href=\"https://colab.research.google.com/github/shhh-33/algorithm/blob/shhh/%ED%94%84%EB%A1%9C%EA%B7%B8%EB%9E%98%EB%A8%B8%EC%8A%A4LV1.ipynb\" target=\"_parent\"><img src=\"https://colab.research.google.com/assets/colab-badge.svg\" alt=\"Open In Colab\"/></a>"
      ]
    },
    {
      "cell_type": "markdown",
      "source": [
        "##평균구하기\n",
        "정수를 담고 있는 배열 arr의 평균값을 return하는 함수, solution을 완성해보세요."
      ],
      "metadata": {
        "id": "O--IN4htjyCx"
      }
    },
    {
      "cell_type": "code",
      "execution_count": null,
      "metadata": {
        "colab": {
          "base_uri": "https://localhost:8080/"
        },
        "id": "9v_djulejxWV",
        "outputId": "082f9dcf-4827-4b93-888e-4beb232ce834"
      },
      "outputs": [
        {
          "output_type": "stream",
          "name": "stdout",
          "text": [
            "2.0\n"
          ]
        }
      ],
      "source": [
        "def solution(arr):\n",
        "   return sum(arr)/len(arr)\n",
        "\n",
        "#출력\n",
        "a=[1,2,3]\n",
        "print(solution(a))"
      ]
    },
    {
      "cell_type": "markdown",
      "source": [
        "##짝수와 홀수\n",
        "정수 num이 짝수일 경우 \"Even\"을 반환하고 홀수인 경우 \"Odd\"를 반환하는 함수"
      ],
      "metadata": {
        "id": "McYTqUqtlFMo"
      }
    },
    {
      "cell_type": "code",
      "source": [
        "def solution(num):\n",
        "    if(num %2==0):\n",
        "\n",
        "      return \"Even\"\n",
        "    else:\n",
        "      return \"Odd\"\n",
        "\n",
        "print(solution(5))"
      ],
      "metadata": {
        "colab": {
          "base_uri": "https://localhost:8080/"
        },
        "id": "zWUye8OilF0u",
        "outputId": "2203aeff-5444-4ac1-d293-9d037e51dc5e"
      },
      "execution_count": null,
      "outputs": [
        {
          "output_type": "stream",
          "name": "stdout",
          "text": [
            "Odd\n"
          ]
        }
      ]
    },
    {
      "cell_type": "markdown",
      "source": [
        "##별"
      ],
      "metadata": {
        "id": "3e98_aoNpQIi"
      }
    },
    {
      "cell_type": "code",
      "source": [
        "a, b = map(int, input().strip().split(' '))\n",
        "\n",
        "for i in range(a):            #바깥쪽 루프는 세로 방향\n",
        "    for j in range(b):        #  안쪽 루프는 가로 방향\n",
        "        print('*', end='')    \n",
        "    print('')\n"
      ],
      "metadata": {
        "colab": {
          "base_uri": "https://localhost:8080/"
        },
        "id": "sbFJxU5qnu0f",
        "outputId": "bedfc265-419a-4b49-fb1e-7bc45b07bb19"
      },
      "execution_count": null,
      "outputs": [
        {
          "output_type": "stream",
          "name": "stdout",
          "text": [
            "5 3\n",
            "***\n",
            "***\n",
            "***\n",
            "***\n",
            "***\n"
          ]
        }
      ]
    },
    {
      "cell_type": "markdown",
      "source": [
        "##최대공약수와 최소공배수\n",
        "두 수를 입력받아 두 수의 최대공약수와 최소공배수를 반환하는 함수, solution을 완성해 보세요. \n",
        "\n",
        "배열의 맨 앞에 최대공약수, 그다음 최소공배수를 넣어 반환하면 됩니다. \n",
        "\n",
        "예를 들어 두 수 3, 12의 최대공약수는 3, 최소공배수는 12이므로 solution(3, 12)는 [3, 12]를 반환해야 합니다."
      ],
      "metadata": {
        "id": "0CBabeUMpSWB"
      }
    },
    {
      "cell_type": "code",
      "source": [
        "from math import gcd\n",
        "# python 3.9 부터는 math.lcm 사용 가능\n",
        "\n",
        "def solution(n, m):\n",
        "    return [gcd(n, m), n * m // gcd(n, m)]"
      ],
      "metadata": {
        "id": "2s7nPX0Xpc3d"
      },
      "execution_count": null,
      "outputs": []
    },
    {
      "cell_type": "code",
      "source": [
        "def gcdlcm(a, b):\n",
        "    c, d = max(a, b), min(a, b)\n",
        "    t = 1\n",
        "    while t > 0:\n",
        "        t = c % d\n",
        "        c, d = d, t\n",
        "    answer = [c, int(a*b/c)]    #최대공약수, 최소공배수\n",
        "\n",
        "    return answer\n",
        "\n",
        "# 아래는 테스트로 출력해 보기 위한 코드입니다.\n",
        "print(gcdlcm(3,12))\n"
      ],
      "metadata": {
        "id": "Ud0SIfGZqTkZ"
      },
      "execution_count": null,
      "outputs": []
    },
    {
      "cell_type": "markdown",
      "source": [
        "##x만큼 간격이 있는 n개의 숫자\n",
        "함수 solution은 정수 x와 자연수 n을 입력 받아, x부터 시작해 x씩 증가하는 숫자를 n개 지니는 리스트를 리턴해야 합니다.\n",
        "\n",
        "\n",
        "x\tn\tanswer\n",
        "\n",
        "\n",
        "2\t5\t[2,4,6,8,10]"
      ],
      "metadata": {
        "id": "5UuBKKjuxGvM"
      }
    },
    {
      "cell_type": "code",
      "source": [
        "def solution(x, n):\n",
        "    answer = []\n",
        "    tmp = 0\n",
        "    for i in range(n):\n",
        "        tmp += x\n",
        "        answer.append(tmp)\n",
        "        \n",
        "    return answer\n",
        "\n",
        "print(solution(2,5))"
      ],
      "metadata": {
        "colab": {
          "base_uri": "https://localhost:8080/"
        },
        "id": "CfsQPW1fxSCe",
        "outputId": "b34423b1-1ca5-4d2d-b8b9-b7c089788825"
      },
      "execution_count": null,
      "outputs": [
        {
          "output_type": "stream",
          "name": "stdout",
          "text": [
            "[2, 4, 6, 8, 10]\n"
          ]
        }
      ]
    },
    {
      "cell_type": "markdown",
      "source": [
        "##정수 내림차순으로 배치하기\n",
        "함수 solution은 정수 n을 매개변수로 입력받습니다. n의 각 자릿수를 큰것부터 작은 순으로 정렬한 새로운 정수를 리턴해주세요. 예를들어 n이 118372면 873211을 리턴하면 됩니다."
      ],
      "metadata": {
        "id": "5U-XjD-d0Tn8"
      }
    },
    {
      "cell_type": "code",
      "source": [
        "def solution(n):\n",
        "    n = list(str(n))\n",
        "    n.sort(reverse=True)    \n",
        "    \n",
        "    return int(\"\".join(n))\n",
        "\n",
        "print(solution(111434))"
      ],
      "metadata": {
        "colab": {
          "base_uri": "https://localhost:8080/"
        },
        "id": "zENQAmba2Ksg",
        "outputId": "237aeb0e-7fe3-4a33-c6de-5d00fb0a2840"
      },
      "execution_count": null,
      "outputs": [
        {
          "output_type": "stream",
          "name": "stdout",
          "text": [
            "443111\n"
          ]
        }
      ]
    },
    {
      "cell_type": "markdown",
      "source": [
        "정수 n을 str로 변환 -> list 형식으로 변환 \n",
        "\n",
        "\n",
        "list n을 내림차순으로 정렬 sort()\n",
        "\n",
        "\n",
        "list -> string으로\"\".join() 변환해준 뒤 int로 바꿔서 return \n"
      ],
      "metadata": {
        "id": "znNDdsTn2LjS"
      }
    },
    {
      "cell_type": "markdown",
      "source": [
        "##약수의 합\n",
        "정수 n을 입력받아 n의 약수를 모두 더한 값을 리턴하는 함수"
      ],
      "metadata": {
        "id": "lPs0tWva-SLS"
      }
    },
    {
      "cell_type": "code",
      "source": [
        "def solution(n):\n",
        "    answer = 0\n",
        "    sum = 0\n",
        "    \n",
        "    for i in range(1, n+1):\n",
        "        if n % i == 0:\n",
        "            sum += i\n",
        "            answer = sum\n",
        "    \n",
        "    return answer\n",
        "        \n",
        "print(solution(12))"
      ],
      "metadata": {
        "colab": {
          "base_uri": "https://localhost:8080/"
        },
        "id": "IS8KnJkQ-STJ",
        "outputId": "62d7d01f-d22d-456b-feb8-5a6e8461c44e"
      },
      "execution_count": 4,
      "outputs": [
        {
          "output_type": "stream",
          "name": "stdout",
          "text": [
            "28\n"
          ]
        }
      ]
    },
    {
      "cell_type": "markdown",
      "source": [
        "##두 정수 사이의 합\n",
        "두 정수 a, b가 주어졌을 때 a와 b 사이에 속한 모든 정수의 합을 리턴하는 함수, solution을 완성하세요.\n",
        "예를 들어 a = 3, b = 5인 경우, 3 + 4 + 5 = 12이므로 12를 리턴합니다."
      ],
      "metadata": {
        "id": "4pIsBXwR--YF"
      }
    },
    {
      "cell_type": "code",
      "source": [
        "def solution(a, b):\n",
        "    return sum(range(min(a, b), max(a, b) + 1))\n",
        "\n",
        "print(solution(3,5))"
      ],
      "metadata": {
        "colab": {
          "base_uri": "https://localhost:8080/"
        },
        "id": "vNPPswhb--i1",
        "outputId": "11ad8788-f81d-479e-8a71-885f57cdd5f2"
      },
      "execution_count": 5,
      "outputs": [
        {
          "output_type": "stream",
          "name": "stdout",
          "text": [
            "12\n"
          ]
        }
      ]
    },
    {
      "cell_type": "markdown",
      "source": [
        "##자릿수 더하기\n",
        "자연수 N이 주어지면, N의 각 자릿수의 합을 구해서 return 하는 solution 함수를 만들어 주세요.\n",
        "예를들어 N = 123이면 1 + 2 + 3 = 6을 return 하면 됩니다."
      ],
      "metadata": {
        "id": "cLD8hy9IBSXC"
      }
    },
    {
      "cell_type": "code",
      "source": [
        "def solution(n):\n",
        "    answer=''\n",
        "    for i in str(n):\n",
        "        answer+=i\n",
        "    return sum(answer)\n",
        "\n",
        "print(solution(344))"
      ],
      "metadata": {
        "colab": {
          "base_uri": "https://localhost:8080/",
          "height": 344
        },
        "id": "KF6GDGDUBSoB",
        "outputId": "b4d3d244-8774-4cb2-e985-57fc33792417"
      },
      "execution_count": 7,
      "outputs": [
        {
          "output_type": "error",
          "ename": "TypeError",
          "evalue": "ignored",
          "traceback": [
            "\u001b[0;31m---------------------------------------------------------------------------\u001b[0m",
            "\u001b[0;31mTypeError\u001b[0m                                 Traceback (most recent call last)",
            "\u001b[0;32m<ipython-input-7-51f49645fa5d>\u001b[0m in \u001b[0;36m<module>\u001b[0;34m()\u001b[0m\n\u001b[1;32m      5\u001b[0m     \u001b[0;32mreturn\u001b[0m \u001b[0msum\u001b[0m\u001b[0;34m(\u001b[0m\u001b[0manswer\u001b[0m\u001b[0;34m)\u001b[0m\u001b[0;34m\u001b[0m\u001b[0;34m\u001b[0m\u001b[0m\n\u001b[1;32m      6\u001b[0m \u001b[0;34m\u001b[0m\u001b[0m\n\u001b[0;32m----> 7\u001b[0;31m \u001b[0mprint\u001b[0m\u001b[0;34m(\u001b[0m\u001b[0msolution\u001b[0m\u001b[0;34m(\u001b[0m\u001b[0;36m344\u001b[0m\u001b[0;34m)\u001b[0m\u001b[0;34m)\u001b[0m\u001b[0;34m\u001b[0m\u001b[0;34m\u001b[0m\u001b[0m\n\u001b[0m",
            "\u001b[0;32m<ipython-input-7-51f49645fa5d>\u001b[0m in \u001b[0;36msolution\u001b[0;34m(n)\u001b[0m\n\u001b[1;32m      3\u001b[0m     \u001b[0;32mfor\u001b[0m \u001b[0mi\u001b[0m \u001b[0;32min\u001b[0m \u001b[0mstr\u001b[0m\u001b[0;34m(\u001b[0m\u001b[0mn\u001b[0m\u001b[0;34m)\u001b[0m\u001b[0;34m:\u001b[0m\u001b[0;34m\u001b[0m\u001b[0;34m\u001b[0m\u001b[0m\n\u001b[1;32m      4\u001b[0m         \u001b[0manswer\u001b[0m\u001b[0;34m+=\u001b[0m\u001b[0mi\u001b[0m\u001b[0;34m\u001b[0m\u001b[0;34m\u001b[0m\u001b[0m\n\u001b[0;32m----> 5\u001b[0;31m     \u001b[0;32mreturn\u001b[0m \u001b[0msum\u001b[0m\u001b[0;34m(\u001b[0m\u001b[0manswer\u001b[0m\u001b[0;34m)\u001b[0m\u001b[0;34m\u001b[0m\u001b[0;34m\u001b[0m\u001b[0m\n\u001b[0m\u001b[1;32m      6\u001b[0m \u001b[0;34m\u001b[0m\u001b[0m\n\u001b[1;32m      7\u001b[0m \u001b[0mprint\u001b[0m\u001b[0;34m(\u001b[0m\u001b[0msolution\u001b[0m\u001b[0;34m(\u001b[0m\u001b[0;36m344\u001b[0m\u001b[0;34m)\u001b[0m\u001b[0;34m)\u001b[0m\u001b[0;34m\u001b[0m\u001b[0;34m\u001b[0m\u001b[0m\n",
            "\u001b[0;31mTypeError\u001b[0m: unsupported operand type(s) for +: 'int' and 'str'"
          ]
        }
      ]
    },
    {
      "cell_type": "code",
      "source": [
        "def solution(n):\n",
        "    N=[int(i) for i in str(n)]\n",
        "\n",
        "    return sum(N)\n",
        "    \n",
        "print(solution(344))"
      ],
      "metadata": {
        "colab": {
          "base_uri": "https://localhost:8080/"
        },
        "id": "noV1KvSfCdd9",
        "outputId": "25624e5b-aade-48b0-f018-7845af72b690"
      },
      "execution_count": 8,
      "outputs": [
        {
          "output_type": "stream",
          "name": "stdout",
          "text": [
            "11\n"
          ]
        }
      ]
    },
    {
      "cell_type": "code",
      "source": [
        "def sum_digit(number):\n",
        "    '''number의 각 자릿수를 더해서 return하세요'''\n",
        "    return sum(map(int,str(number)))\n",
        "\n",
        "# 아래는 테스트로 출력해 보기 위한 코드입니다.\n",
        "print(\"결과 : {}\".format(sum_digit(123)));"
      ],
      "metadata": {
        "colab": {
          "base_uri": "https://localhost:8080/"
        },
        "id": "VIeeyjl5D4eI",
        "outputId": "63a82b80-16ea-4e15-d415-303459841b75"
      },
      "execution_count": 9,
      "outputs": [
        {
          "output_type": "stream",
          "name": "stdout",
          "text": [
            "결과 : 6\n"
          ]
        }
      ]
    },
    {
      "cell_type": "markdown",
      "source": [
        "##행렬의 덧셈"
      ],
      "metadata": {
        "id": "48BnXdnTEaga"
      }
    },
    {
      "cell_type": "code",
      "source": [
        "def sumMatrix(A,B):\n",
        "    answer = []\n",
        " \n",
        "    for i in range(len(A)):\n",
        "        tmp=[]\n",
        "        for j in range(len(A[i])):\n",
        "            tmp.append(A[i][j]+B[i][j])\n",
        "        \n",
        "        answer.append(tmp)\n",
        "     \n",
        "    return answer\n",
        "  \n",
        "# 아래는 테스트로 출력해 보기 위한 코드입니다.\n",
        "print(sumMatrix([[1,2], [2,3]], [[3,4],[5,6]]))\n"
      ],
      "metadata": {
        "colab": {
          "base_uri": "https://localhost:8080/"
        },
        "id": "HUb4-cQFG7kJ",
        "outputId": "95100dd0-e8a8-4a3c-a254-7c9e4c0ce220"
      },
      "execution_count": 14,
      "outputs": [
        {
          "output_type": "stream",
          "name": "stdout",
          "text": [
            "[[4, 6], [7, 9]]\n"
          ]
        }
      ]
    },
    {
      "cell_type": "code",
      "source": [
        "list1 = [1,2,3,4]\n",
        "a = np.array(list1)\n",
        "print(a)"
      ],
      "metadata": {
        "colab": {
          "base_uri": "https://localhost:8080/"
        },
        "id": "Vlb--pcsGxFf",
        "outputId": "70bc0626-9f45-4779-83b4-8d30efbd27f1"
      },
      "execution_count": 13,
      "outputs": [
        {
          "output_type": "stream",
          "name": "stdout",
          "text": [
            "[1 2 3 4]\n"
          ]
        }
      ]
    },
    {
      "cell_type": "code",
      "source": [
        "import numpy as np\n",
        "def sumMatrix(A,B):\n",
        "    A=np.array(A)\n",
        "    B=np.array(B)\n",
        "    answer=A+B\n",
        "    return answer.tolist()\n",
        "\n",
        "# 아래는 테스트로 출력해 보기 위한 코드입니다.\n",
        "print(sumMatrix([[1,2], [2,3]], [[3,4],[5,6]]))\n"
      ],
      "metadata": {
        "colab": {
          "base_uri": "https://localhost:8080/"
        },
        "id": "spFsrNqkGk_A",
        "outputId": "4811a00d-f187-439c-d235-5ddbf759e9b3"
      },
      "execution_count": 12,
      "outputs": [
        {
          "output_type": "stream",
          "name": "stdout",
          "text": [
            "[[4, 6], [7, 9]]\n"
          ]
        }
      ]
    },
    {
      "cell_type": "markdown",
      "source": [
        "##소수 찾기\n",
        "1부터 입력받은 숫자 n 사이에 있는 소수의 개수를 반환하는 함수, solution을 만들어 보세요.\n",
        "\n",
        "소수는 1과 자기 자신으로만 나누어지는 수를 의미합니다.\n",
        "(1은 소수가 아닙니다.)"
      ],
      "metadata": {
        "id": "TN7xnuWlIyPR"
      }
    },
    {
      "cell_type": "code",
      "source": [
        "def solution(n):\n",
        "    num=set(range(2,n+1))\n",
        "\n",
        "    for i in range(2,n+1):\n",
        "        if i in num:\n",
        "            num-=set(range(2*i,n+1,i))\n",
        "    return len(num)\n",
        "\n",
        "print(solution(10))"
      ],
      "metadata": {
        "colab": {
          "base_uri": "https://localhost:8080/"
        },
        "id": "q8sh6VElLaLp",
        "outputId": "ef290eb3-dd45-48f3-b100-8801f623fcbd"
      },
      "execution_count": 21,
      "outputs": [
        {
          "output_type": "stream",
          "name": "stdout",
          "text": [
            "4\n"
          ]
        }
      ]
    },
    {
      "cell_type": "markdown",
      "source": [
        "##2016년\n",
        "2016년 1월 1일은 금요일입니다. 2016년 a월 b일은 무슨 요일일까요? \n",
        "\n",
        "두 수 a ,b를 입력받아 2016년 a월 b일이 무슨 요일인지 리턴하는 함수, solution을 완성하세요. \n",
        "\n",
        "요일의 이름은 일요일부터 토요일까지 각각 SUN,MON,TUE,WED,THU,FRI,SAT\n",
        "\n",
        "입니다. 예를 들어 a=5, b=24라면 5월 24일은 화요일이므로 문자열 \"TUE\"를 반환하세요."
      ],
      "metadata": {
        "id": "ThKz_um24TtB"
      }
    },
    {
      "cell_type": "code",
      "source": [
        "def solution(a, b): #월,일\n",
        "    answer = 0\n",
        "    days = ['FRI','SAT','SUN','MON','TUE','WED','THU']\n",
        "    months = [31, 29, 31, 30, 31, 30,31, 31, 30, 31, 30, 31]\n",
        "    \n",
        "    for i in range(a-1):\n",
        "      answer += months[i]\n",
        "\n",
        "    answer += b-1\n",
        "    return answer\n",
        "\n",
        "print(solution(5,24))"
      ],
      "metadata": {
        "colab": {
          "base_uri": "https://localhost:8080/"
        },
        "id": "0xW6Q4fW8jfh",
        "outputId": "dfa09f63-c93c-4fe1-c171-f79a68bc2fcc"
      },
      "execution_count": 3,
      "outputs": [
        {
          "output_type": "stream",
          "name": "stdout",
          "text": [
            "144\n"
          ]
        }
      ]
    },
    {
      "cell_type": "code",
      "source": [
        "def solution(a, b): #월,일\n",
        "    answer = 0\n",
        "    days = ['FRI','SAT','SUN','MON','TUE','WED','THU']\n",
        "    months = [31, 29, 31, 30, 31, 30,31, 31, 30, 31, 30, 31]\n",
        "    \n",
        "    for i in range(a-1):\n",
        "      answer += months[i] #1월부터 12월의 총 일수를 다 넣어준다.\n",
        "    \n",
        "    answer += b-1 #지난 일수를 다 더한뒤 \n",
        "    answer = answer%7\n",
        "    \n",
        "    return days[answer]"
      ],
      "metadata": {
        "id": "RvB_wL-74eQH"
      },
      "execution_count": null,
      "outputs": []
    },
    {
      "cell_type": "markdown",
      "source": [
        "- 1월1일이 금요일부터 시작이므로 days에 금요일부터 차례대로 넣어준다.\n",
        "- 1월부터 12월의 총 일수를 다 넣어준다.\n",
        "- 그리고 지난 일수를 다 더한뒤 7로 나눈 나머지를 days에서 출력해주면 된다.\n"
      ],
      "metadata": {
        "id": "MoA6ahnj6NID"
      }
    },
    {
      "cell_type": "code",
      "source": [
        "import datetime\n",
        "\n",
        "def getDayName(a,b):\n",
        "    t = 'MON TUE WED THU FRI SAT SUN'.split()\n",
        "    return t[datetime.datetime(2016, a, b).weekday()]"
      ],
      "metadata": {
        "id": "23uQhXu_6Vw5"
      },
      "execution_count": null,
      "outputs": []
    },
    {
      "cell_type": "markdown",
      "source": [
        "- datetime.datetime(YEAR, MONTH, DAY)\n",
        "-weekday() : 정수로 요일을 반환합니다. 월요일은 0 ~ 일요일은 6입니다.\n"
      ],
      "metadata": {
        "id": "JD0bCIxG6mNO"
      }
    },
    {
      "cell_type": "markdown",
      "source": [
        "##같은 숫자는 싫어\n",
        "배열 arr에서 연속적으로 나타나는 숫자는 제거하고 남은 수들을 return 하는 solution 함수"
      ],
      "metadata": {
        "id": "dZNW3V9E-6bR"
      }
    },
    {
      "cell_type": "code",
      "source": [
        "def solution(arr):\n",
        "    answer = []\n",
        "    \n",
        "    for i in range(len(arr)):\n",
        "        if i == 0:\n",
        "            answer.append(arr[i])\n",
        "        elif arr[i] != arr[i-1]: # 현재 list의 값이 그 전의 값과 다르다면 answer list에 추가, 같다면 추가하지 않음\n",
        "            answer.append(arr[i])   \n",
        "    \n",
        "    return answer\n",
        "\n",
        "print(solution([1,1,1,2,3,4,44,4]))\n"
      ],
      "metadata": {
        "colab": {
          "base_uri": "https://localhost:8080/"
        },
        "id": "zvG493wm_DIT",
        "outputId": "79745cd7-4699-45d8-c060-39b043552d2e"
      },
      "execution_count": 4,
      "outputs": [
        {
          "output_type": "stream",
          "name": "stdout",
          "text": [
            "[1, 2, 3, 4, 44, 4]\n"
          ]
        }
      ]
    },
    {
      "cell_type": "code",
      "source": [
        "list_a = [1,3,2,3,5,3,4,4,5]\n",
        "list_b = list(set(list_a))\n",
        "print(list_b)"
      ],
      "metadata": {
        "colab": {
          "base_uri": "https://localhost:8080/"
        },
        "id": "3Yq-4i5aCKri",
        "outputId": "6eaa6ff3-1d1c-48ea-d2ed-3f01ee80db3b"
      },
      "execution_count": 5,
      "outputs": [
        {
          "output_type": "stream",
          "name": "stdout",
          "text": [
            "[1, 2, 3, 4, 5]\n"
          ]
        }
      ]
    },
    {
      "cell_type": "code",
      "source": [
        "a='323,4,4'\n",
        "b=[1,3,4]\n",
        "print(a)\n",
        "print(b)"
      ],
      "metadata": {
        "colab": {
          "base_uri": "https://localhost:8080/"
        },
        "id": "OdNcDRXvC7QV",
        "outputId": "24063899-c46d-4a3f-d316-5eb2c5dd6260"
      },
      "execution_count": 6,
      "outputs": [
        {
          "output_type": "stream",
          "name": "stdout",
          "text": [
            "323,4,4\n",
            "[1, 3, 4]\n"
          ]
        }
      ]
    },
    {
      "cell_type": "markdown",
      "source": [
        "##나누어 떨어지는 숫자 배열\n",
        "array의 각 element 중 divisor로 나누어 떨어지는 값을 오름차순으로 정렬한 배열을 반환하는 함수, solution을 작성해주세요.\n",
        "divisor로 나누어 떨어지는 element가 하나도 없다면 배열에 -1을 담아 반환하세요."
      ],
      "metadata": {
        "id": "jQntp9teD2Mw"
      }
    },
    {
      "cell_type": "code",
      "source": [
        "def solution(arr, divisor):\n",
        "    answer = []\n",
        "    for i in range(len(arr)) :\n",
        "        if arr[i] % divisor == 0 :\n",
        "            answer.append(arr[i])\n",
        "\n",
        "    if len(answer) == 0 :\n",
        "        answer.append(-1)\n",
        "    else :\n",
        "        answer.sort()\n",
        "    return answer\n",
        "\n",
        "print(solution([1,2,3],2))"
      ],
      "metadata": {
        "colab": {
          "base_uri": "https://localhost:8080/"
        },
        "id": "cyWiXIhVLjFS",
        "outputId": "633cd7e9-b388-4097-9c0f-287962fc5aed"
      },
      "execution_count": 23,
      "outputs": [
        {
          "output_type": "stream",
          "name": "stdout",
          "text": [
            "[2]\n"
          ]
        }
      ]
    },
    {
      "cell_type": "code",
      "source": [
        "def solution(arr, divisor):\n",
        "    answer = []\n",
        "\n",
        "    for i in arr:\n",
        "        if i % divisor == 0:\n",
        "            answer.append(i)\n",
        "\n",
        "    if not answer:\n",
        "        answer = [-1]\n",
        "\n",
        "    answer.sort()        \n",
        "    return answer\n",
        "\n",
        "\n",
        "print(solution([1,2,3],2))\n"
      ],
      "metadata": {
        "colab": {
          "base_uri": "https://localhost:8080/"
        },
        "id": "n6xahZ3bQoVn",
        "outputId": "0b00d3ed-9af2-4110-bae7-8ef8ba732a06"
      },
      "execution_count": 24,
      "outputs": [
        {
          "output_type": "stream",
          "name": "stdout",
          "text": [
            "[2]\n"
          ]
        }
      ]
    },
    {
      "cell_type": "markdown",
      "source": [
        "###리스트 수만큼 반복"
      ],
      "metadata": {
        "id": "4HH-FgDZQT_t"
      }
    },
    {
      "cell_type": "code",
      "source": [
        "names = ['철수', '영희', '바둑이', '귀도', '비단뱀']\n",
        "\n",
        "for i in range(len(names)):\n",
        "    name = names[i]\n",
        "    print('{}번 : {}'.format(i + 1, name))"
      ],
      "metadata": {
        "colab": {
          "base_uri": "https://localhost:8080/"
        },
        "id": "Vok-EiovD9g6",
        "outputId": "e1b84044-2b45-4244-d0f6-022ba3ebd887"
      },
      "execution_count": 14,
      "outputs": [
        {
          "output_type": "stream",
          "name": "stdout",
          "text": [
            "1번 : 철수\n",
            "2번 : 영희\n",
            "3번 : 바둑이\n",
            "4번 : 귀도\n",
            "5번 : 비단뱀\n"
          ]
        }
      ]
    },
    {
      "cell_type": "markdown",
      "source": [
        "##자연수 뒤집어 배열로 만들기\n",
        "자연수 n을 뒤집어 각 자리 숫자를 원소로 가지는 배열 형태로 리턴해주세요. 예를들어 n이 12345이면 [5,4,3,2,1]을 리턴"
      ],
      "metadata": {
        "id": "rMZ_-BqPSNtW"
      }
    },
    {
      "cell_type": "code",
      "source": [
        "def solution(n):\n",
        "    a = []\n",
        "    s = reversed(str(n))\n",
        "    for i in s:\n",
        "        a.append(int(i))\n",
        "    return a\n",
        "\n",
        "print(solution(12345))"
      ],
      "metadata": {
        "colab": {
          "base_uri": "https://localhost:8080/"
        },
        "id": "MxcZzgofSoY4",
        "outputId": "992bbdd4-9bb2-473b-b58c-02fd6bd578b5"
      },
      "execution_count": 27,
      "outputs": [
        {
          "output_type": "stream",
          "name": "stdout",
          "text": [
            "[5, 4, 3, 2, 1]\n"
          ]
        }
      ]
    },
    {
      "cell_type": "markdown",
      "source": [
        "##list의 모든 문자열을 int 값으로 변경하기\n",
        "int_list = [int(i) for i in str_list]\n",
        "]"
      ],
      "metadata": {
        "id": "rk0uTcJiV5gp"
      }
    },
    {
      "cell_type": "code",
      "source": [
        "def solution(n):\n",
        "\treturn [int(i) for i in str(n)][::-1]"
      ],
      "metadata": {
        "id": "yu4flZpXUi0f"
      },
      "execution_count": 28,
      "outputs": []
    },
    {
      "cell_type": "code",
      "source": [
        "def solution(n):\n",
        "\treturn list(map(int, reversed(str(n))))"
      ],
      "metadata": {
        "id": "sFMbaNAoVkfV"
      },
      "execution_count": 29,
      "outputs": []
    },
    {
      "cell_type": "markdown",
      "source": [
        "##하샤드 수\n",
        "양의 정수 x가 하샤드 수이려면 x의 자릿수의 합으로 x가 나누어져야 합니다.\n",
        "\n",
        " 예를 들어 18의 자릿수 합은 1+8=9이고, 18은 9로 나누어 떨어지므로 18은 하샤드 수입니다.\n",
        " \n",
        "  자연수 x를 입력받아 x가 하샤드 수인지 아닌지 검사하는 함수, solution을 완성해주세요."
      ],
      "metadata": {
        "id": "l34wi3mAny0o"
      }
    },
    {
      "cell_type": "code",
      "source": [
        "def solution(x):\n",
        "  answer = True\n",
        "  \n",
        "  for \n",
        "  if(x)\n",
        "\n",
        "\n",
        "  return answer\n",
        "\n",
        "\n",
        "print(solution(18))"
      ],
      "metadata": {
        "id": "kdPnnv79ny85"
      },
      "execution_count": null,
      "outputs": []
    },
    {
      "cell_type": "markdown",
      "source": [
        "##콜라츠 추측\n",
        "주어진 수가 1이 될 때까지 다음 작업을 반복하면, 모든 수를 1로 만들 수 있다는 추측입니다. 작업은 다음과 같습니다.\n",
        "\n",
        "1-1. 입력된 수가 짝수라면 2로 나눕니다. \n",
        "\n",
        "\n",
        "1-2. 입력된 수가 홀수라면 3을 곱하고 1을 더합니다. \n",
        "\n",
        "2. 결과로 나온 수에 같은 작업을 1이 될 때까지 반복합니다. \n",
        "\n",
        "\n",
        "예를 들어, 주어진 수가 6이라면 6 → 3 → 10 → 5 → 16 → 8 → 4 → 2 → 1 이 되어 총 8번 만에 1이 됩니다. \n",
        "\n",
        "위 작업을 몇 번이나 반복해야 하는지 반환하는 함수, solution을 완성해 주세요. \n",
        "\n",
        "단, 주어진 수가 1인 경우에는 0을, 작업을 500번 반복할 때까지 1이 되지 않는다면 –1을 반환해 주세요."
      ],
      "metadata": {
        "id": "s-yn6EPUpCpG"
      }
    },
    {
      "cell_type": "code",
      "source": [
        ""
      ],
      "metadata": {
        "id": "Ylt2zHu9pC1l"
      },
      "execution_count": null,
      "outputs": []
    },
    {
      "cell_type": "markdown",
      "source": [
        "##제일 작은 수 제거하기\n",
        "\n",
        "정수를 저장한 배열, arr 에서 가장 작은 수를 제거한 배열을 리턴하는 함수, solution을 완성해주세요. 단, 리턴하려는 배열이 빈 배열인 경우엔 배열에 -1을 채워 리턴하세요. \n",
        "\n",
        "예를들어 arr이 [4,3,2,1]인 경우는 [4,3,2]를 리턴 하고, [10]면 [-1]을 리턴 합니다."
      ],
      "metadata": {
        "id": "y1qtzBfapSpH"
      }
    },
    {
      "cell_type": "code",
      "source": [
        ""
      ],
      "metadata": {
        "id": "XpTdOMxlpvo4"
      },
      "execution_count": null,
      "outputs": []
    },
    {
      "cell_type": "markdown",
      "source": [
        "##정수 제곱근 판별\n",
        "임의의 양의 정수 n에 대해, n이 어떤 양의 정수 x의 제곱인지 아닌지 판단하려 합니다.\n",
        "\n",
        "\n",
        "n이 양의 정수 x의 제곱이라면 x+1의 제곱을 리턴하고, n이 양의 정수 x의 제곱이 아니라면 -1을 리턴하는 함수를 완성하세요."
      ],
      "metadata": {
        "id": "dFWe7gY4pDA5"
      }
    },
    {
      "cell_type": "code",
      "source": [
        ""
      ],
      "metadata": {
        "id": "4381vOwGpDHn"
      },
      "execution_count": null,
      "outputs": []
    },
    {
      "cell_type": "markdown",
      "source": [
        "##시저 암호\n",
        "어떤 문장의 각 알파벳을 일정한 거리만큼 밀어서 다른 알파벳으로 바꾸는 암호화 방식을 시저 암호라고 합니다. 예를 들어 \"AB\"는 1만큼 밀면 \"BC\"가 되고, 3만큼 밀면 \"DE\"가 됩니다. \"z\"는 1만큼 밀면 \"a\"가 됩니다. 문자열 s와 거리 n을 입력받아 s를 n만큼 민 암호문을 만드는 함수, solution을 완성해 보세요."
      ],
      "metadata": {
        "id": "EL5uXhhmsvjF"
      }
    },
    {
      "cell_type": "code",
      "source": [
        ""
      ],
      "metadata": {
        "id": "K6MPd_Vlsvtc"
      },
      "execution_count": null,
      "outputs": []
    }
  ]
}