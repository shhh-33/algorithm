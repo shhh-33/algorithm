{
  "nbformat": 4,
  "nbformat_minor": 0,
  "metadata": {
    "colab": {
      "name": "프로그래머스LV1.ipynb",
      "provenance": [],
      "authorship_tag": "ABX9TyMvKUJKIuPI4g6z3ZBydxt+",
      "include_colab_link": true
    },
    "kernelspec": {
      "name": "python3",
      "display_name": "Python 3"
    },
    "language_info": {
      "name": "python"
    }
  },
  "cells": [
    {
      "cell_type": "markdown",
      "metadata": {
        "id": "view-in-github",
        "colab_type": "text"
      },
      "source": [
        "<a href=\"https://colab.research.google.com/github/shhh-33/algorithm/blob/shhh/%ED%94%84%EB%A1%9C%EA%B7%B8%EB%9E%98%EB%A8%B8%EC%8A%A4LV1.ipynb\" target=\"_parent\"><img src=\"https://colab.research.google.com/assets/colab-badge.svg\" alt=\"Open In Colab\"/></a>"
      ]
    },
    {
      "cell_type": "markdown",
      "source": [
        "##모의고사"
      ],
      "metadata": {
        "id": "nhMvfR7ojPfi"
      }
    },
    {
      "cell_type": "code",
      "source": [
        "def solution(answers):\n",
        "    answer = []\n",
        "    answer_temp = []\n",
        "    count01 = 0\n",
        "    count02 = 0\n",
        "    count03 = 0\n",
        "    \n",
        "    one = [1,2,3,4,5] #12345 12345 이렇게 찍음\n",
        "    two = [2,1,2,3,2,4,2,5] \n",
        "    three = [3,3,1,1,2,2,4,4,5,5]\n",
        "    \n",
        "    for i in range(len(answers)):\n",
        "        if answers[i] == one[i%len(one)]:\n",
        "            count01+=1\n",
        "        if answers[i] == two[i%len(two)]:\n",
        "            count02+=1\n",
        "        if answers[i] == three[i%len(three)]:\n",
        "            count03+=1\n",
        "    \n",
        "    answer_temp = [count01, count02, count03]\n",
        "    \n",
        "    for person, score in enumerate(answer_temp):\n",
        "        if score == max(answer_temp):\n",
        "            answer.append(person+1)\n",
        "    \n",
        "    return answer\n"
      ],
      "metadata": {
        "id": "N0x88hV7-Ojx"
      },
      "execution_count": null,
      "outputs": []
    },
    {
      "cell_type": "code",
      "source": [
        "def solution(answers):\n",
        "    answer = [0 for i in range(3)]\n",
        "\n",
        "    man1 = [1,2,3,4,5]\n",
        "    man2 = [2,1,2,3,2,4,2,5] #[2]로 출력\n",
        "    man3 = [3,3,1,1,2,2,4,4,5,5]\n",
        "    \n",
        "    for i in range(len(answers)):\n",
        "        ans = answers[i]\n",
        "        if(man1[i%len(man1)] == ans):\n",
        "            answer[0] += 1\n",
        "        if(man2[i%len(man2)] == ans):\n",
        "            answer[1] += 1\n",
        "        if(man3[i%len(man3)] == ans):\n",
        "            answer[2] += 1     \n",
        "    \n",
        "    result = []\n",
        "    for i in range(len(answer)):\n",
        "        if(answer[i] == max(answer)):\n",
        "            result.append(i+1)\n",
        "    \n",
        "    return sorted(result)\n",
        "\n",
        "print(solution([2,1,2,3]))"
      ],
      "metadata": {
        "colab": {
          "base_uri": "https://localhost:8080/"
        },
        "id": "y5Eg8NvG-v7k",
        "outputId": "dd92c3d3-bea2-463e-cf81-d86dc435d295"
      },
      "execution_count": null,
      "outputs": [
        {
          "output_type": "stream",
          "name": "stdout",
          "text": [
            "[2]\n"
          ]
        }
      ]
    },
    {
      "cell_type": "code",
      "source": [
        "def solution(answers):\n",
        "    pattern1 = [1,2,3,4,5]\n",
        "    pattern2 = [2,1,2,3,2,4,2,5]\n",
        "    pattern3 = [3,3,1,1,2,2,4,4,5,5]\n",
        "    score = [0, 0, 0]\n",
        "    result = []\n",
        "\n",
        "    for idx, answer in enumerate(answers):\n",
        "        if answer == pattern1[idx%len(pattern1)]:\n",
        "            score[0] += 1\n",
        "        if answer == pattern2[idx%len(pattern2)]:\n",
        "            score[1] += 1\n",
        "        if answer == pattern3[idx%len(pattern3)]:\n",
        "            score[2] += 1\n",
        "\n",
        "    for idx, s in enumerate(score):\n",
        "        if s == max(score):\n",
        "            result.append(idx+1)\n",
        "\n",
        "    return result\n",
        "\n",
        "print(solution([2,1,2,3]))"
      ],
      "metadata": {
        "colab": {
          "base_uri": "https://localhost:8080/"
        },
        "id": "csk2QaqGCfdc",
        "outputId": "f166beb9-aaf2-44fd-819e-b577bbda495b"
      },
      "execution_count": null,
      "outputs": [
        {
          "output_type": "stream",
          "name": "stdout",
          "text": [
            "[2]\n"
          ]
        }
      ]
    },
    {
      "cell_type": "code",
      "source": [
        "for i, letter in enumerate(['A', 'B', 'C']):\n",
        "     print(i, letter)"
      ],
      "metadata": {
        "colab": {
          "base_uri": "https://localhost:8080/"
        },
        "id": "yZ6c1rDdDCfe",
        "outputId": "cfb7298f-5069-4cf0-d3b2-b40fd586acf0"
      },
      "execution_count": null,
      "outputs": [
        {
          "output_type": "stream",
          "name": "stdout",
          "text": [
            "0 A\n",
            "1 B\n",
            "2 C\n"
          ]
        }
      ]
    },
    {
      "cell_type": "markdown",
      "source": [
        "##숫자 문자열과 영단어"
      ],
      "metadata": {
        "id": "YSRdBT--p4Uw"
      }
    },
    {
      "cell_type": "code",
      "source": [
        "def solution(s):\n",
        "    answer = s \n",
        "    answer = answer.replace('zero', '0')\n",
        "    answer = answer.replace('one', '1')\n",
        "    answer = answer.replace('two', '2')\n",
        "    answer = answer.replace('three', '3')\n",
        "    answer = answer.replace('four', '4')\n",
        "    answer = answer.replace('five', '5')\n",
        "    answer = answer.replace('six', '6')\n",
        "    answer = answer.replace('seven', '7')\n",
        "    answer = answer.replace('eight', '8')\n",
        "    answer = answer.replace('nine', '9')\n",
        "\n",
        "\n",
        "    return int(answer)\n",
        "\n",
        "\n",
        "print(solution(\"one2\"))"
      ],
      "metadata": {
        "colab": {
          "base_uri": "https://localhost:8080/"
        },
        "id": "xTdVtSB6tBdT",
        "outputId": "2001be24-04c0-4772-dbf9-e1ae5fee4282"
      },
      "execution_count": null,
      "outputs": [
        {
          "output_type": "stream",
          "name": "stdout",
          "text": [
            "12\n"
          ]
        }
      ]
    },
    {
      "cell_type": "code",
      "source": [
        "num_dic = {\"zero\":\"0\", \"one\":\"1\", \"two\":\"2\", \"three\":\"3\", \"four\":\"4\", \"five\":\"5\", \"six\":\"6\", \"seven\":\"7\", \"eight\":\"8\", \"nine\":\"9\"}\n",
        "\n",
        "def solution(s):\n",
        "    answer = s\n",
        "    for key, value in num_dic.items():\n",
        "        answer = answer.replace(key, value)\n",
        "    return int(answer)\n",
        "\n",
        "print(solution(\"one2\"))"
      ],
      "metadata": {
        "colab": {
          "base_uri": "https://localhost:8080/"
        },
        "id": "C3s5TeGIsweb",
        "outputId": "db0726da-a890-48e2-bd7d-4171fe548a4c"
      },
      "execution_count": null,
      "outputs": [
        {
          "output_type": "stream",
          "name": "stdout",
          "text": [
            "12\n"
          ]
        }
      ]
    },
    {
      "cell_type": "code",
      "source": [
        "def solution(s):\n",
        "    words = ['zero', 'one', 'two', 'three', 'four', 'five', 'six', 'seven', 'eight', 'nine']\n",
        "\n",
        "    for i in range(len(words)): #range(9) \n",
        "\n",
        "        s = s.replace(words[i], str(i)) #숫자로 바꿈\n",
        "        print(s)\n",
        "\n",
        "    return int(s)\n",
        "\n",
        "\n",
        "print(solution(\"nine245sixseven\"))"
      ],
      "metadata": {
        "colab": {
          "base_uri": "https://localhost:8080/"
        },
        "id": "rEUF76b5uLv5",
        "outputId": "747b7bec-7b2f-42d2-eed2-66e78932b1a3"
      },
      "execution_count": null,
      "outputs": [
        {
          "output_type": "stream",
          "name": "stdout",
          "text": [
            "nine245sixseven\n",
            "nine245sixseven\n",
            "nine245sixseven\n",
            "nine245sixseven\n",
            "nine245sixseven\n",
            "nine245sixseven\n",
            "nine2456seven\n",
            "nine24567\n",
            "nine24567\n",
            "924567\n",
            "924567\n"
          ]
        }
      ]
    },
    {
      "cell_type": "markdown",
      "source": [
        "##체육복\n",
        "다행히 여벌 체육복이 있는 학생이 이들에게 체육복을 빌려주려 합니다. 학생들의 번호는 체격 순으로 매겨져 있어, 바로 앞번호의 학생이나 바로 뒷번호의 학생에게만 체육복을 빌려줄 수 있습니다.\n",
        "\n",
        " 예를 들어, 4번 학생은 3번 학생이나 5번 학생에게만 체육복을 빌려줄 수 있습니다. \n",
        " \n",
        " 체육복이 없으면 수업을 들을 수 없기 때문에 체육복을 적절히 빌려 최대한 많은 학생이 체육수업을 들어야 합니다.\n",
        "\n",
        "- 전체 학생의 수 n,\n",
        "-  체육복을 도난당한 학생들의 번호가 담긴 배열 lost, \n",
        "- 여벌의 체육복을 가져온 학생들의 번호가 담긴 배열 reserve가 매개변수로 주어질 때, \n",
        "- 체육수업을 들을 수 있는 학생의 최댓값을 return "
      ],
      "metadata": {
        "id": "abQFhTfWytlx"
      }
    },
    {
      "cell_type": "markdown",
      "source": [
        "\n",
        "    제한사항 \n",
        "    1.여벌의 체육복을 가져온 학생의 수는 \n",
        "    1명 이상 n명 이하이고 중복되는 번호는 없습니다.\n",
        "    \n",
        "    2.여벌 체육복을 가져온 학생이 체육복을 도난당했을 수 \n",
        "    있습니다. 이때 이 학생은 체육복을 하나만 도난당했다고 \n",
        "    가정 하며, 남은 체육복이 하나이기에 다른 학생에게는 \n",
        "    체육복을 빌려줄 수 없습니다.\n"
      ],
      "metadata": {
        "id": "De9GkzIJ9-E5"
      }
    },
    {
      "cell_type": "code",
      "source": [
        "def solution(n, lost, reserve): #전체학생수, 도난당한 학생, 여벌체육복있는 학생\n",
        "    answer = 0 \n",
        "    \n",
        "    reserve_del = set(reserve)-set(lost) #남은 체육복 수\n",
        "    lost_del = set(lost)-set(reserve) #체육복 없는 사람\n",
        "    \n",
        "    #앞뒤번호확인\n",
        "    for i in reserve_del: \n",
        "        if i-1 in lost_del: \n",
        "            lost_del.remove(i-1) \n",
        "            \n",
        "        elif i+1 in lost_del: \n",
        "            lost_del.remove(i+1) \n",
        "\n",
        "    #최대한 나눠준후    \n",
        "    answer = n - len(lost_del) #총학생수-체육복없는사람 = 수업들을수 있는사람\n",
        "    \n",
        "    return answer\n",
        "\n",
        "print(solution(5,[2,4],[3]))"
      ],
      "metadata": {
        "colab": {
          "base_uri": "https://localhost:8080/"
        },
        "id": "-pbh_OcHub3j",
        "outputId": "d34f0af1-9095-4141-a08a-eb598eafc7e3"
      },
      "execution_count": null,
      "outputs": [
        {
          "output_type": "stream",
          "name": "stdout",
          "text": [
            "4\n"
          ]
        }
      ]
    },
    {
      "cell_type": "code",
      "source": [
        "def solution(n, lost, reserve):\n",
        "    _reserve = [r for r in reserve if r not in lost]\n",
        "    _lost = [l for l in lost if l not in reserve]\n",
        "    for r in _reserve:\n",
        "        f = r - 1\n",
        "        b = r + 1\n",
        "        if f in _lost:\n",
        "            _lost.remove(f)\n",
        "        elif b in _lost:\n",
        "            _lost.remove(b)\n",
        "    return n - len(_lost)\n"
      ],
      "metadata": {
        "id": "me_Pjwn_DLGg"
      },
      "execution_count": null,
      "outputs": []
    },
    {
      "cell_type": "markdown",
      "source": [
        "##로또의 최고 순위와 최저 순위\n",
        "- 민우가 구매한 로또 번호를 담은 배열 lottos, \n",
        "- 당첨 번호를 담은 배열 win_nums가 매개변수로 주어집니다. \n",
        "- 이때, 당첨 가능한 최고 순위와 최저 순위를 차례대로 배열에 담아서 return"
      ],
      "metadata": {
        "id": "kJoAhDxDRRfs"
      }
    },
    {
      "cell_type": "markdown",
      "source": [
        "![image.png](data:image/png;base64,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)"
      ],
      "metadata": {
        "id": "Hrp6pVNuec9s"
      }
    },
    {
      "cell_type": "code",
      "source": [
        "def solution(lottos, win_nums):\n",
        "\n",
        "    rank=[6,6,5,4,3,2,1]\n",
        "\n",
        "    cnt_0 = lottos.count(0) # lottos 안의 0의 개수를 반환\n",
        "    ans = 0 #순위\n",
        "\n",
        "    # 반복문을 통해 당첨 번호 확인\n",
        "    for x in win_nums:\n",
        "        if x in lottos: #번호있으면\n",
        "            ans += 1 #추가\n",
        "    return rank[cnt_0 + ans],rank[ans] #0은 알아볼수 없는 숫자니까 당첨된지 안된지도 모름\n",
        "\n",
        "\n",
        "print(solution([44, 1, 0, 0, 31, 25],\t[31, 10, 45, 1, 6, 19]))"
      ],
      "metadata": {
        "colab": {
          "base_uri": "https://localhost:8080/"
        },
        "id": "pIKpRuupUIuO",
        "outputId": "a4e6e046-3b48-4312-d749-b96c55b2a53c"
      },
      "execution_count": null,
      "outputs": [
        {
          "output_type": "stream",
          "name": "stdout",
          "text": [
            "(3, 5)\n"
          ]
        }
      ]
    },
    {
      "cell_type": "markdown",
      "source": [
        "##음양더하기\n",
        "어떤 정수들이 있습니다. \n",
        "- 이 정수들의 절댓값을 차례대로 담은 정수 배열 absolutes와 \n",
        "- 이 정수들의 부호를 차례대로 담은 불리언 배열 signs가 매개변수로 주어집니다.\n",
        "-  실제 정수들의 합을 구하여 return "
      ],
      "metadata": {
        "id": "h0OuX0exiHff"
      }
    },
    {
      "cell_type": "code",
      "source": [
        "def solution(absolutes, signs):\n",
        "\tanswer = 0\n",
        "\n",
        "\tfor i in range(len(signs)) :\n",
        "\t    if signs[i] : #참이면\n",
        "\t        answer += absolutes[i]\n",
        "\t    else :\n",
        "\t        answer -= absolutes[i]\n",
        "\n",
        "\treturn answer\n",
        "\n",
        "\n",
        "print(solution([4,7,12],[True,False,True]))"
      ],
      "metadata": {
        "colab": {
          "base_uri": "https://localhost:8080/"
        },
        "id": "rQSxJn3aiHmb",
        "outputId": "7d88d38c-b7a7-4505-ba2d-6b3fe9ab8306"
      },
      "execution_count": null,
      "outputs": [
        {
          "output_type": "stream",
          "name": "stdout",
          "text": [
            "9\n"
          ]
        }
      ]
    },
    {
      "cell_type": "markdown",
      "source": [
        "##두개 뽑아서 더하기\n",
        "정수 배열 numbers가 주어집니다. \n",
        "- numbers에서 서로 다른 인덱스에 있는 두 개의 수를 뽑아 더해서 만들 수 있는 모든 수를\n",
        "-  배열에 오름차순으로 담아 return"
      ],
      "metadata": {
        "id": "iI34j_g9vkWy"
      }
    },
    {
      "cell_type": "code",
      "source": [
        "from itertools import combinations #순열\n",
        "\n",
        "def solution(numbers):\n",
        "    answer = set()\n",
        "    for i in list(combinations(numbers,2)):\n",
        "        answer.add(sum(i))\n",
        "    return sorted(answer)\n",
        "\n",
        "print(solution([5,0,2,7]))"
      ],
      "metadata": {
        "colab": {
          "base_uri": "https://localhost:8080/"
        },
        "id": "XuEAPLHKvwS-",
        "outputId": "b47f8795-da9b-4fd2-9a09-ab64365d931e"
      },
      "execution_count": null,
      "outputs": [
        {
          "output_type": "stream",
          "name": "stdout",
          "text": [
            "[2, 5, 7, 9, 12]\n"
          ]
        }
      ]
    },
    {
      "cell_type": "code",
      "source": [
        "def solution(numbers):\n",
        "    answer = []\n",
        "    for i in range(len(numbers)):\n",
        "        for j in range(i+1, len(numbers)): #동일한 인덱스의 합을 막기위해서 i+1\n",
        "            answer.append(numbers[i] + numbers[j])\n",
        "\n",
        "    return sorted(list(set(answer)))\n",
        "\n",
        "print(solution([5,0,2,7]))"
      ],
      "metadata": {
        "colab": {
          "base_uri": "https://localhost:8080/"
        },
        "id": "u6wSi-B-wgDI",
        "outputId": "27493557-ffc5-421d-f176-1d9806763bc8"
      },
      "execution_count": null,
      "outputs": [
        {
          "output_type": "stream",
          "name": "stdout",
          "text": [
            "[2, 5, 7, 9, 12]\n"
          ]
        }
      ]
    },
    {
      "cell_type": "markdown",
      "source": [
        "##없는 숫자 더하기\n",
        "0부터 9까지의 숫자 중 일부가 들어있는 정수 배열 numbers가 매개변수로 주어집니다. \n",
        "- numbers에서 찾을 수 없는 0부터 9까지의 숫자를 모두 찾아 더한 수를 return "
      ],
      "metadata": {
        "id": "7l4w35LwxjyZ"
      }
    },
    {
      "cell_type": "code",
      "source": [
        "def solution(numbers):\n",
        "\tanswer = 0\n",
        "\tfor i in range(10) :\n",
        "\t\tif i not in numbers :\n",
        "\t\t\tanswer += i\n",
        "\n",
        "\treturn answer\n",
        "\n",
        "print(solution([5,8,4,0,6,7,9])) #1,2,3 없음"
      ],
      "metadata": {
        "colab": {
          "base_uri": "https://localhost:8080/"
        },
        "id": "CaOHPGS-xj8o",
        "outputId": "e125f3af-5636-4458-9a91-da0a88154577"
      },
      "execution_count": null,
      "outputs": [
        {
          "output_type": "stream",
          "name": "stdout",
          "text": [
            "6\n"
          ]
        }
      ]
    },
    {
      "cell_type": "code",
      "source": [
        "def solution(numbers):\n",
        "    return 45 - sum(numbers)\n",
        "\n",
        "\n",
        "print(solution([5,8,4,0,6,7,9])) #1,2,3 없음"
      ],
      "metadata": {
        "colab": {
          "base_uri": "https://localhost:8080/"
        },
        "id": "zOZe-NQqygrw",
        "outputId": "0a1b87ab-d3f1-4de5-96fe-e24ff21830e3"
      },
      "execution_count": null,
      "outputs": [
        {
          "output_type": "stream",
          "name": "stdout",
          "text": [
            "6\n"
          ]
        }
      ]
    },
    {
      "cell_type": "code",
      "source": [
        "def solution(numbers):\n",
        "    numbers = set([i for i in range(10)]) - set(numbers)\n",
        "    return sum(numbers)\n",
        "\n",
        "print(solution([5,8,4,0,6,7,9])) #1,2,3 없음"
      ],
      "metadata": {
        "colab": {
          "base_uri": "https://localhost:8080/"
        },
        "id": "k0qwQ99oyo3g",
        "outputId": "09082798-dfe8-497b-bc06-00781fc0cf4e"
      },
      "execution_count": null,
      "outputs": [
        {
          "output_type": "stream",
          "name": "stdout",
          "text": [
            "6\n"
          ]
        }
      ]
    },
    {
      "cell_type": "markdown",
      "source": [
        "##내적\n",
        "길이가 같은 두 1차원 정수 배열 a, b가 매개변수로 주어집니다. a와 b의 내적을 return \n",
        "-  a와 b의 내적은 a[0]*b[0] + a[1]*b[1] + ... + a[n-1]*b[n-1] 입니다. (n은 a, b의 길이)"
      ],
      "metadata": {
        "id": "IFoN0quCzWay"
      }
    },
    {
      "cell_type": "code",
      "source": [
        "def solution(a, b):\n",
        "    answer = 0\n",
        "    for i in range(len(a)):\n",
        "        answer += a[i]*b[i]\n",
        "    return answer\n",
        "\n",
        "print(solution([1,2,3,4],\t[-3,-1,0,2]))"
      ],
      "metadata": {
        "colab": {
          "base_uri": "https://localhost:8080/"
        },
        "id": "jt5j23PnzWhh",
        "outputId": "aa7697a4-9fb3-4b4e-bda9-9ec8347546e8"
      },
      "execution_count": null,
      "outputs": [
        {
          "output_type": "stream",
          "name": "stdout",
          "text": [
            "3\n"
          ]
        }
      ]
    },
    {
      "cell_type": "code",
      "source": [
        "def solution(a, b):\n",
        "    c = []\n",
        "    for i in range(len(a)):\n",
        "        c.append(a[i]*b[i])\n",
        "    return sum(c)"
      ],
      "metadata": {
        "id": "DizUH3XJ7ZlB"
      },
      "execution_count": null,
      "outputs": []
    },
    {
      "cell_type": "code",
      "source": [
        "def solution(a, b):\n",
        "\n",
        "    return sum([x*y for x, y in zip(a,b)])\n"
      ],
      "metadata": {
        "id": "8s6W4qqF7jF8"
      },
      "execution_count": null,
      "outputs": []
    },
    {
      "cell_type": "markdown",
      "source": [
        "##약수의 개수와 덧셈\n",
        "두 정수 left와 right가 매개변수로 주어집니다. \n",
        "- left부터 right까지의 모든 수들 중에서,\n",
        "-  약수의 개수가 짝수인 수는 더하고, 약수의 개수가 홀수인 수는 뺀 수를 return "
      ],
      "metadata": {
        "id": "hrWXex5P7tbr"
      }
    },
    {
      "cell_type": "markdown",
      "source": [
        "![image.png](data:image/png;base64,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)"
      ],
      "metadata": {
        "id": "QHbUsCCU-Zki"
      }
    },
    {
      "cell_type": "code",
      "source": [
        "def solution(left, right):\n",
        "    answer = 0\n",
        "    for i in range(left, right+1):\n",
        "\n",
        "        now_count = 0;\t\t\t#약수의 개수\n",
        "        for j in range(1, i+1):\t\t#1부터 i까지 증가하며 약수를 찾아냅니다.\n",
        "            if i % j == 0:\t\t#나누어 떨어지는 수는 약수!\n",
        "                now_count +=1;\t\t#약수라면 개수를 증가시켜줍니다.\n",
        "                \n",
        "        if now_count % 2 == 0:\t#홀짝\n",
        "            answer += i\t\t\t\n",
        "        else:\n",
        "            answer -= i\t\t\t\n",
        "            \n",
        "    return answer\t\t"
      ],
      "metadata": {
        "id": "QZAR7iTv7tj9"
      },
      "execution_count": null,
      "outputs": []
    },
    {
      "cell_type": "markdown",
      "source": [
        "##나머지가 1이 되는 수 찾기\n",
        "\n",
        "자연수 n이 매개변수로 주어집니다.\n",
        "\n",
        " n을 x로 나눈 나머지가 1이 되도록 하는 가장 작은 자연수 x를 return "
      ],
      "metadata": {
        "id": "KklcOlaUBD2r"
      }
    },
    {
      "cell_type": "code",
      "source": [
        "def solution(n):\n",
        "    for i in range(1,n):\n",
        "        if n%i==1:\n",
        "            return i\n",
        "            break\n",
        "\n",
        "print(solution(10))"
      ],
      "metadata": {
        "colab": {
          "base_uri": "https://localhost:8080/"
        },
        "id": "LGnvycBrBD9s",
        "outputId": "122d47ff-25cf-43f7-be13-96dfcb0a4282"
      },
      "execution_count": null,
      "outputs": [
        {
          "output_type": "stream",
          "name": "stdout",
          "text": [
            "3\n"
          ]
        }
      ]
    },
    {
      "cell_type": "markdown",
      "source": [
        "##3진법 뒤집기\n",
        "자연수 n이 매개변수로 주어집니다.\n",
        "\n",
        " n을 3진법 상에서 앞뒤로 뒤집은 후, 이를 다시 10진법으로 표현한 수를 return "
      ],
      "metadata": {
        "id": "TKakRzHsCZpO"
      }
    },
    {
      "cell_type": "code",
      "source": [
        "def solution(n):\n",
        "    answer = 0\n",
        "    result = ''\n",
        "    while n > 0:\n",
        "        n,b = divmod(n,3) #몫,나머지 반환\n",
        "        result += str(b)\n",
        "    answer = int(result,3) #int(x,3) : 3진법으로 구성된 x를 10진법으로 바꿔주는 역할\n",
        "    return answer"
      ],
      "metadata": {
        "id": "UpX4dzGuCZv_"
      },
      "execution_count": null,
      "outputs": []
    },
    {
      "cell_type": "code",
      "source": [
        "def solution(n):\n",
        "    tmp = ''\n",
        "    while n:\n",
        "        tmp += str(n % 3)\n",
        "        n = n // 3\n",
        "\n",
        "    answer = int(tmp, 3)\n",
        "    return answer"
      ],
      "metadata": {
        "id": "HoG3jFAvHCUm"
      },
      "execution_count": null,
      "outputs": []
    }
  ]
}