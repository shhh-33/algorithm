{
  "nbformat": 4,
  "nbformat_minor": 0,
  "metadata": {
    "colab": {
      "name": "프로그래머스LV1.ipynb",
      "provenance": [],
      "authorship_tag": "ABX9TyMvoAMfLZT8fWMr2M75rOGC",
      "include_colab_link": true
    },
    "kernelspec": {
      "name": "python3",
      "display_name": "Python 3"
    },
    "language_info": {
      "name": "python"
    }
  },
  "cells": [
    {
      "cell_type": "markdown",
      "metadata": {
        "id": "view-in-github",
        "colab_type": "text"
      },
      "source": [
        "<a href=\"https://colab.research.google.com/github/shhh-33/algorithm/blob/shhh/%ED%94%84%EB%A1%9C%EA%B7%B8%EB%9E%98%EB%A8%B8%EC%8A%A4LV1.ipynb\" target=\"_parent\"><img src=\"https://colab.research.google.com/assets/colab-badge.svg\" alt=\"Open In Colab\"/></a>"
      ]
    },
    {
      "cell_type": "markdown",
      "source": [
        "##평균구하기\n",
        "1. 정수를 담고 있는 배열 arr의 평균값을 return\n",
        "\n",
        "<쓰인것>\n",
        " - sum, len"
      ],
      "metadata": {
        "id": "O--IN4htjyCx"
      }
    },
    {
      "cell_type": "code",
      "execution_count": null,
      "metadata": {
        "colab": {
          "base_uri": "https://localhost:8080/"
        },
        "id": "9v_djulejxWV",
        "outputId": "082f9dcf-4827-4b93-888e-4beb232ce834"
      },
      "outputs": [
        {
          "output_type": "stream",
          "name": "stdout",
          "text": [
            "2.0\n"
          ]
        }
      ],
      "source": [
        "def solution(arr):\n",
        "   return sum(arr)/len(arr)\n",
        "\n",
        "#출력\n",
        "a=[1,2,3]\n",
        "print(solution(a))"
      ]
    },
    {
      "cell_type": "markdown",
      "source": [
        "##짝수와 홀수\n",
        "정수 num이 짝수일 경우 \"Even\"을 반환하고 홀수인 경우 \"Odd\"를 반환하는 함수"
      ],
      "metadata": {
        "id": "McYTqUqtlFMo"
      }
    },
    {
      "cell_type": "code",
      "source": [
        "def solution(num):\n",
        "    if(num %2==0):\n",
        "      return \"Even\"\n",
        "    else:\n",
        "      return \"Odd\"\n",
        "\n",
        "print(solution(5))"
      ],
      "metadata": {
        "colab": {
          "base_uri": "https://localhost:8080/"
        },
        "id": "zWUye8OilF0u",
        "outputId": "2203aeff-5444-4ac1-d293-9d037e51dc5e"
      },
      "execution_count": null,
      "outputs": [
        {
          "output_type": "stream",
          "name": "stdout",
          "text": [
            "Odd\n"
          ]
        }
      ]
    },
    {
      "cell_type": "markdown",
      "source": [
        "##별\n",
        "\n",
        "<쓰인 것>\n",
        "- 입력받기\n",
        "- strip : 양쪽공백제거"
      ],
      "metadata": {
        "id": "3e98_aoNpQIi"
      }
    },
    {
      "cell_type": "code",
      "source": [
        "a, b = map(int, input().strip().split(' '))\n",
        "\n",
        "for i in range(a):            #바깥쪽 루프는 세로 방향\n",
        "    for j in range(b):        #  안쪽 루프는 가로 방향\n",
        "        print('*', end='')    #end : 붙여씀\n",
        "    print('')\n"
      ],
      "metadata": {
        "colab": {
          "base_uri": "https://localhost:8080/"
        },
        "id": "sbFJxU5qnu0f",
        "outputId": "73d1a5a2-494d-400d-954a-16c08d19633e"
      },
      "execution_count": 2,
      "outputs": [
        {
          "output_type": "stream",
          "name": "stdout",
          "text": [
            "5 3\n",
            "***\n",
            "***\n",
            "***\n",
            "***\n",
            "***\n"
          ]
        }
      ]
    },
    {
      "cell_type": "markdown",
      "source": [
        "##최대공약수와 최소공배수\n",
        "1. 두 수를 입력받아 두 수의 최대공약수와 최소공배수를 반환\n",
        "2. 배열의 맨 앞에 최대공약수, 그다음 최소공배수를 넣어 반환하면 됩니다. \n",
        "\n",
        "예를 들어 두 수 3, 12의 최대공약수는 3, 최소공배수는 12이므로 solution(3, 12)는 [3, 12]를 반환해야 합니다."
      ],
      "metadata": {
        "id": "0CBabeUMpSWB"
      }
    },
    {
      "cell_type": "code",
      "source": [
        "from math import gcd\n",
        "# python 3.9 부터는 math.lcm 사용 가능\n",
        "\n",
        "def solution(n, m):\n",
        "    return [gcd(n, m), n * m // gcd(n, m)]"
      ],
      "metadata": {
        "id": "2s7nPX0Xpc3d"
      },
      "execution_count": null,
      "outputs": []
    },
    {
      "cell_type": "code",
      "source": [
        "def gcdlcm(a, b):\n",
        "    c, d = max(a, b), min(a, b)\n",
        "    t = 1\n",
        "    while t > 0:\n",
        "        t = c % d\n",
        "        c, d = d, t\n",
        "    answer = [c, int(a*b/c)]    #최대공약수, 최소공배수\n",
        "\n",
        "    return answer\n",
        "\n",
        "# 아래는 테스트로 출력해 보기 위한 코드입니다.\n",
        "print(gcdlcm(3,12))\n"
      ],
      "metadata": {
        "id": "Ud0SIfGZqTkZ"
      },
      "execution_count": null,
      "outputs": []
    },
    {
      "cell_type": "markdown",
      "source": [
        "##x만큼 간격이 있는 n개의 숫자\n",
        "\n",
        "1. 함수 solution은 정수 x와 자연수 n을 입력 받아\n",
        "2. x부터 시작해 x씩 증가하는 숫자를 n개 지니는 리스트를 리턴해야 합니다.\n",
        "\n",
        "\n",
        "x\tn\tanswer\n",
        "\n",
        "\n",
        "2\t5\t[2,4,6,8,10]"
      ],
      "metadata": {
        "id": "5UuBKKjuxGvM"
      }
    },
    {
      "cell_type": "code",
      "source": [
        "def solution(x, n):\n",
        "    answer = [] #빈 리스트\n",
        "    tmp = 0\n",
        "    for i in range(n):\n",
        "        tmp += x\n",
        "        answer.append(tmp) #빈 리스트에 추가해서 리턴\n",
        "        \n",
        "    return answer\n",
        "\n",
        "print(solution(2,5))"
      ],
      "metadata": {
        "colab": {
          "base_uri": "https://localhost:8080/"
        },
        "id": "CfsQPW1fxSCe",
        "outputId": "b34423b1-1ca5-4d2d-b8b9-b7c089788825"
      },
      "execution_count": null,
      "outputs": [
        {
          "output_type": "stream",
          "name": "stdout",
          "text": [
            "[2, 4, 6, 8, 10]\n"
          ]
        }
      ]
    },
    {
      "cell_type": "markdown",
      "source": [
        "##정수 내림차순으로 배치하기\n",
        "1. 함수 solution은 정수 n을 매개변수로 입력받습니다.\n",
        "2.  n의 각 자릿수를 큰것부터 작은 순으로 정렬한 새로운 정수를 리턴해주세요. \n",
        "\n",
        "예를들어 n이 118372면 873211을 리턴하면 됩니다.\n",
        "\n",
        "<쓰인것>\n",
        " - str\n",
        " - 큰->작(내림차순)reverse =True\n",
        " - join"
      ],
      "metadata": {
        "id": "5U-XjD-d0Tn8"
      }
    },
    {
      "cell_type": "code",
      "source": [
        "def solution(n):\n",
        "    n = list(str(n)) #빈리스트를 만드는데..정렬해야하니까 리스트안의 원소를 문자열 형태로 바꿔서 입력받자\n",
        "    n.sort(reverse=True)    \n",
        "    \n",
        "    return int(\"\".join(n)) #다시 문자열 형태로 변환해서 출력하고 싶은데 정수로 해야하니까\n",
        "\n",
        "print(solution(111434))"
      ],
      "metadata": {
        "colab": {
          "base_uri": "https://localhost:8080/"
        },
        "id": "zENQAmba2Ksg",
        "outputId": "237aeb0e-7fe3-4a33-c6de-5d00fb0a2840"
      },
      "execution_count": null,
      "outputs": [
        {
          "output_type": "stream",
          "name": "stdout",
          "text": [
            "443111\n"
          ]
        }
      ]
    },
    {
      "cell_type": "markdown",
      "source": [
        "##약수의 합\n",
        "정수 n을 입력받아 n의 약수를 모두 더한 값을 리턴하는 함수"
      ],
      "metadata": {
        "id": "lPs0tWva-SLS"
      }
    },
    {
      "cell_type": "code",
      "source": [
        "def solution(n):\n",
        "    sum = 0\n",
        "   \n",
        "    for i in range(1, n+1):\n",
        "        if n % i == 0: #약수의 조건\n",
        "            sum += i\n",
        "                 \n",
        "    return sum\n",
        "        \n",
        "print(solution(12))"
      ],
      "metadata": {
        "colab": {
          "base_uri": "https://localhost:8080/"
        },
        "id": "IS8KnJkQ-STJ",
        "outputId": "940ffb8a-de25-40a4-fb86-babe9bb3b850"
      },
      "execution_count": 4,
      "outputs": [
        {
          "output_type": "stream",
          "name": "stdout",
          "text": [
            "28\n"
          ]
        }
      ]
    },
    {
      "cell_type": "markdown",
      "source": [
        "##두 정수 사이의 합\n",
        "1. 두 정수 a, b가 주어졌을 때 a와 b 사이에 속한 모든 정수의 합을 리턴\n",
        "\n",
        "예를 들어 a = 3, b = 5인 경우, 3 + 4 + 5 = 12이므로 12를 리턴합니다.\n",
        "\n",
        "<쓰인것>\n",
        " - min ,max\n",
        " - sum"
      ],
      "metadata": {
        "id": "4pIsBXwR--YF"
      }
    },
    {
      "cell_type": "code",
      "source": [
        "def solution(a, b):\n",
        "    return sum(range(min(a, b), max(a, b) + 1))\n",
        "\n",
        "print(solution(3,5))"
      ],
      "metadata": {
        "colab": {
          "base_uri": "https://localhost:8080/"
        },
        "id": "vNPPswhb--i1",
        "outputId": "11ad8788-f81d-479e-8a71-885f57cdd5f2"
      },
      "execution_count": null,
      "outputs": [
        {
          "output_type": "stream",
          "name": "stdout",
          "text": [
            "12\n"
          ]
        }
      ]
    },
    {
      "cell_type": "markdown",
      "source": [
        "##자릿수 더하기\n",
        "1. 자연수 N이 주어지면, N의 각 자릿수의 합을 구해서 return \n",
        "\n",
        "\n",
        "예를들어 N = 123이면 1 + 2 + 3 = 6을 return 하면 됩니다."
      ],
      "metadata": {
        "id": "cLD8hy9IBSXC"
      }
    },
    {
      "cell_type": "code",
      "source": [
        "def solution(n):\n",
        "    N=[int(i) for i in str(n)]\n",
        "\n",
        "    return sum(N)\n",
        "    \n",
        "print(solution(344))"
      ],
      "metadata": {
        "colab": {
          "base_uri": "https://localhost:8080/"
        },
        "id": "noV1KvSfCdd9",
        "outputId": "25624e5b-aade-48b0-f018-7845af72b690"
      },
      "execution_count": null,
      "outputs": [
        {
          "output_type": "stream",
          "name": "stdout",
          "text": [
            "11\n"
          ]
        }
      ]
    },
    {
      "cell_type": "code",
      "source": [
        "def sum_digit(number):\n",
        "    '''number의 각 자릿수를 더해서 return하세요'''\n",
        "    return sum(map(int,str(number)))\n",
        "\n",
        "# 아래는 테스트로 출력해 보기 위한 코드입니다.\n",
        "print(\"결과 : {}\".format(sum_digit(123)));"
      ],
      "metadata": {
        "colab": {
          "base_uri": "https://localhost:8080/"
        },
        "id": "VIeeyjl5D4eI",
        "outputId": "35e14174-d522-43ac-e1cb-71672f8337ba"
      },
      "execution_count": 14,
      "outputs": [
        {
          "output_type": "stream",
          "name": "stdout",
          "text": [
            "결과 : 6\n"
          ]
        }
      ]
    },
    {
      "cell_type": "markdown",
      "source": [
        "![image.png](data:image/png;base64,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)"
      ],
      "metadata": {
        "id": "-yHF9t-zDMWW"
      }
    },
    {
      "cell_type": "code",
      "source": [
        " z = list(map(str, range(10)))\n",
        " z"
      ],
      "metadata": {
        "id": "SHlQtPlaDaux",
        "outputId": "734ea306-ed26-401c-cb20-43132e38f581",
        "colab": {
          "base_uri": "https://localhost:8080/"
        }
      },
      "execution_count": 13,
      "outputs": [
        {
          "output_type": "execute_result",
          "data": {
            "text/plain": [
              "['0', '1', '2', '3', '4', '5', '6', '7', '8', '9']"
            ]
          },
          "metadata": {},
          "execution_count": 13
        }
      ]
    },
    {
      "cell_type": "code",
      "source": [
        "sum([1, 2, 3])\t \n",
        "# 6\n",
        "\n",
        "sum([1, 2, 3], 5)\n",
        "# 11\n",
        "\n",
        "sum([], 5)\n",
        "# 5 ==> 빈 iterable을 넣는다면 start 값이 return 된다.\n"
      ],
      "metadata": {
        "id": "VApoGU4LD1UW"
      },
      "execution_count": null,
      "outputs": []
    },
    {
      "cell_type": "markdown",
      "source": [
        "##행렬의 덧셈"
      ],
      "metadata": {
        "id": "48BnXdnTEaga"
      }
    },
    {
      "cell_type": "code",
      "source": [
        "def sumMatrix(A,B):\n",
        "    answer = []\n",
        " \n",
        "    for i in range(len(A)):\n",
        "        tmp=[]\n",
        "        for j in range(len(A[i])):\n",
        "            tmp.append(A[i][j]+B[i][j])\n",
        "        \n",
        "        answer.append(tmp)\n",
        "     \n",
        "    return answer\n",
        "  \n",
        "# 아래는 테스트로 출력해 보기 위한 코드입니다.\n",
        "print(sumMatrix([[1,2], [2,3]], [[3,4],[5,6]]))\n"
      ],
      "metadata": {
        "colab": {
          "base_uri": "https://localhost:8080/"
        },
        "id": "HUb4-cQFG7kJ",
        "outputId": "95100dd0-e8a8-4a3c-a254-7c9e4c0ce220"
      },
      "execution_count": null,
      "outputs": [
        {
          "output_type": "stream",
          "name": "stdout",
          "text": [
            "[[4, 6], [7, 9]]\n"
          ]
        }
      ]
    },
    {
      "cell_type": "code",
      "source": [
        "list1 = [1,2,3,4]\n",
        "a = np.array(list1)\n",
        "print(a)"
      ],
      "metadata": {
        "colab": {
          "base_uri": "https://localhost:8080/"
        },
        "id": "Vlb--pcsGxFf",
        "outputId": "70bc0626-9f45-4779-83b4-8d30efbd27f1"
      },
      "execution_count": null,
      "outputs": [
        {
          "output_type": "stream",
          "name": "stdout",
          "text": [
            "[1 2 3 4]\n"
          ]
        }
      ]
    },
    {
      "cell_type": "code",
      "source": [
        "import numpy as np\n",
        "def sumMatrix(A,B):\n",
        "    A=np.array(A)\n",
        "    B=np.array(B)\n",
        "    answer=A+B\n",
        "    return answer.tolist()\n",
        "\n",
        "# 아래는 테스트로 출력해 보기 위한 코드입니다.\n",
        "print(sumMatrix([[1,2], [2,3]], [[3,4],[5,6]]))\n"
      ],
      "metadata": {
        "colab": {
          "base_uri": "https://localhost:8080/"
        },
        "id": "spFsrNqkGk_A",
        "outputId": "4811a00d-f187-439c-d235-5ddbf759e9b3"
      },
      "execution_count": null,
      "outputs": [
        {
          "output_type": "stream",
          "name": "stdout",
          "text": [
            "[[4, 6], [7, 9]]\n"
          ]
        }
      ]
    },
    {
      "cell_type": "markdown",
      "source": [
        "##소수 찾기\n",
        "1부터 입력받은 숫자 n 사이에 있는 소수의 개수를 반환하는 함수, solution을 만들어 보세요.\n",
        "\n",
        "소수는 1과 자기 자신으로만 나누어지는 수를 의미합니다.\n",
        "(1은 소수가 아닙니다.)"
      ],
      "metadata": {
        "id": "TN7xnuWlIyPR"
      }
    },
    {
      "cell_type": "code",
      "source": [
        "def solution(n):\n",
        "    count = 0\n",
        "    for n in range(2, n+1): #1은 소수가 아니니\n",
        "        for i in range(2, n):\n",
        "            if n%i == 0:\n",
        "                break\n",
        "        else:    \n",
        "            count += 1\n",
        "    return count\n",
        "\n",
        "\n",
        "print(solution(10))"
      ],
      "metadata": {
        "id": "-MMKCpYHHgIR",
        "outputId": "8e8cc4fa-16f5-45c6-c934-ca2cb57dc82a",
        "colab": {
          "base_uri": "https://localhost:8080/"
        }
      },
      "execution_count": 16,
      "outputs": [
        {
          "output_type": "stream",
          "name": "stdout",
          "text": [
            "4\n"
          ]
        }
      ]
    },
    {
      "cell_type": "markdown",
      "source": [
        "에라토스테네스의 체(Sieve of Eratosthenes)'라는 방법이 사용된 코드. \n",
        "\n",
        "n까지의 모든 소수를 구한다고 하면 2를 제외한 모든 2의 배수를 num에서 제거. 3을 제외한 모든 3의 배수를 num에서 제거. 4는 아까 2에서 제거. 5를 제외한 모든 5의 배수를 num에서 제거. 이렇게 반복해서 num에 남아 있는 수들이 소수이다."
      ],
      "metadata": {
        "id": "cgJwZS-JICd_"
      }
    },
    {
      "cell_type": "code",
      "source": [
        "def solution(n):\n",
        "    num=set(range(2,n+1))\n",
        "\n",
        "    for i in range(2,n+1):\n",
        "        if i in num:\n",
        "            num-=set(range(2*i,n+1,i))\n",
        "    return len(num)\n",
        "\n",
        "print(solution(10))"
      ],
      "metadata": {
        "colab": {
          "base_uri": "https://localhost:8080/"
        },
        "id": "q8sh6VElLaLp",
        "outputId": "ef290eb3-dd45-48f3-b100-8801f623fcbd"
      },
      "execution_count": null,
      "outputs": [
        {
          "output_type": "stream",
          "name": "stdout",
          "text": [
            "4\n"
          ]
        }
      ]
    },
    {
      "cell_type": "markdown",
      "source": [
        "##같은 숫자는 싫어\n",
        "배열 arr에서 연속적으로 나타나는 숫자는 제거하고 남은 수들을 return "
      ],
      "metadata": {
        "id": "dZNW3V9E-6bR"
      }
    },
    {
      "cell_type": "code",
      "source": [
        "def solution(arr):\n",
        "    answer = []\n",
        "    \n",
        "    for i in range(len(arr)):\n",
        "        if i == 0:\n",
        "            answer.append(arr[i]) #첫번째는 무조건 넣음\n",
        "        elif arr[i] != arr[i-1]: # 현재 list의 값이 그 전의 값과 다르다면 answer list에 추가, 같다면 추가하지 않음\n",
        "            answer.append(arr[i])   \n",
        "    \n",
        "    return answer\n",
        "\n",
        "print(solution([1,1,1,2,3,4,44,4]))\n"
      ],
      "metadata": {
        "colab": {
          "base_uri": "https://localhost:8080/"
        },
        "id": "zvG493wm_DIT",
        "outputId": "79745cd7-4699-45d8-c060-39b043552d2e"
      },
      "execution_count": null,
      "outputs": [
        {
          "output_type": "stream",
          "name": "stdout",
          "text": [
            "[1, 2, 3, 4, 44, 4]\n"
          ]
        }
      ]
    },
    {
      "cell_type": "code",
      "source": [
        "list_a = [1,3,2,3,5,3,4,4,5]\n",
        "list_b = list(set(list_a))\n",
        "print(list_b)"
      ],
      "metadata": {
        "colab": {
          "base_uri": "https://localhost:8080/"
        },
        "id": "3Yq-4i5aCKri",
        "outputId": "6eaa6ff3-1d1c-48ea-d2ed-3f01ee80db3b"
      },
      "execution_count": null,
      "outputs": [
        {
          "output_type": "stream",
          "name": "stdout",
          "text": [
            "[1, 2, 3, 4, 5]\n"
          ]
        }
      ]
    },
    {
      "cell_type": "code",
      "source": [
        "a='323,4,4'\n",
        "b=[1,3,4]\n",
        "print(a)\n",
        "print(b)"
      ],
      "metadata": {
        "colab": {
          "base_uri": "https://localhost:8080/"
        },
        "id": "OdNcDRXvC7QV",
        "outputId": "24063899-c46d-4a3f-d316-5eb2c5dd6260"
      },
      "execution_count": null,
      "outputs": [
        {
          "output_type": "stream",
          "name": "stdout",
          "text": [
            "323,4,4\n",
            "[1, 3, 4]\n"
          ]
        }
      ]
    },
    {
      "cell_type": "markdown",
      "source": [
        "##나누어 떨어지는 숫자 배열\n",
        "1. array의 각 element 중 divisor로 나누어 떨어지는 값을 오름차순으로 정렬한 배열을 반환\n",
        "2. divisor로 나누어 떨어지는 element가 하나도 없다면 배열에 -1을 담아 반환하세요.\n",
        "\n",
        "- 배열값 리스트에 담기"
      ],
      "metadata": {
        "id": "jQntp9teD2Mw"
      }
    },
    {
      "cell_type": "code",
      "source": [
        "def solution(arr, divisor):\n",
        "    answer = []\n",
        "    for i in range(len(arr)) :\n",
        "        if arr[i] % divisor == 0 :\n",
        "            answer.append(arr[i]) #조건1 \n",
        "\n",
        "    if len(answer) == 0 :\n",
        "        answer.append(-1)\n",
        "    else :\n",
        "        answer.sort()\n",
        "    return answer\n",
        "\n",
        "print(solution([1,2,3],2))"
      ],
      "metadata": {
        "colab": {
          "base_uri": "https://localhost:8080/"
        },
        "id": "cyWiXIhVLjFS",
        "outputId": "633cd7e9-b388-4097-9c0f-287962fc5aed"
      },
      "execution_count": null,
      "outputs": [
        {
          "output_type": "stream",
          "name": "stdout",
          "text": [
            "[2]\n"
          ]
        }
      ]
    },
    {
      "cell_type": "code",
      "source": [
        "def solution(arr, divisor):\n",
        "    answer = []\n",
        "\n",
        "    for i in arr:\n",
        "        if i % divisor == 0:\n",
        "            answer.append(i)\n",
        "\n",
        "    if not answer:\n",
        "        answer = [-1]\n",
        "\n",
        "    answer.sort()        \n",
        "    return answer\n",
        "\n",
        "\n",
        "print(solution([1,2,3],2))\n"
      ],
      "metadata": {
        "colab": {
          "base_uri": "https://localhost:8080/"
        },
        "id": "n6xahZ3bQoVn",
        "outputId": "0b00d3ed-9af2-4110-bae7-8ef8ba732a06"
      },
      "execution_count": null,
      "outputs": [
        {
          "output_type": "stream",
          "name": "stdout",
          "text": [
            "[2]\n"
          ]
        }
      ]
    },
    {
      "cell_type": "markdown",
      "source": [
        "##자연수 뒤집어 배열로 만들기\n",
        "1. 자연수 n을 뒤집어\n",
        "2.  각 자리 숫자를 원소로 가지는 배열 형태로 리턴\n",
        "\n",
        " 예를들어 n이 12345이면 [5,4,3,2,1]을 리턴"
      ],
      "metadata": {
        "id": "rMZ_-BqPSNtW"
      }
    },
    {
      "cell_type": "code",
      "source": [
        "def solution(n):\n",
        "    a = [] #빈 배열\n",
        "\n",
        "    s = reversed(str(n)) #정렬하려고 문자열형태로..\n",
        "\n",
        "    for i in s:\n",
        "        a.append(int(i)) #정수형태로 배열에 넣기..\n",
        "    return a\n",
        "\n",
        "print(solution(12345))"
      ],
      "metadata": {
        "colab": {
          "base_uri": "https://localhost:8080/"
        },
        "id": "MxcZzgofSoY4",
        "outputId": "992bbdd4-9bb2-473b-b58c-02fd6bd578b5"
      },
      "execution_count": null,
      "outputs": [
        {
          "output_type": "stream",
          "name": "stdout",
          "text": [
            "[5, 4, 3, 2, 1]\n"
          ]
        }
      ]
    },
    {
      "cell_type": "markdown",
      "source": [
        "##하샤드 수\n",
        "1. 양의 정수 x가 하샤드 수이려면 x의 자릿수의 합으로 x가 나누어져야 합니다.\n",
        "\n",
        " 예를 들어 18의 자릿수 합은 1+8=9이고, 18은 9로 나누어 떨어지므로 18은 하샤드 수입니다.\n",
        " \n",
        "2. 자연수 x를 입력받아 x가 하샤드 수인지 아닌지 검사하는 함수, solution을 완성해주세요."
      ],
      "metadata": {
        "id": "l34wi3mAny0o"
      }
    },
    {
      "cell_type": "code",
      "source": [
        "def solution(x):\n",
        "    arr = list(str(x))\n",
        "    return arr\n",
        "\n",
        "print(solution(33))"
      ],
      "metadata": {
        "id": "POuEeQzEPYrN",
        "outputId": "008f66bc-3b5d-4d22-859c-e90f7b61f702",
        "colab": {
          "base_uri": "https://localhost:8080/"
        }
      },
      "execution_count": 17,
      "outputs": [
        {
          "output_type": "stream",
          "name": "stdout",
          "text": [
            "['3', '3']\n"
          ]
        }
      ]
    },
    {
      "cell_type": "code",
      "source": [
        "def solution(x):\n",
        "    arr = list(str(x))\n",
        "    sum = 0\n",
        "    \n",
        "    for i in range(len(arr)):\n",
        "        sum += int(arr[i])\n",
        "        \n",
        "        if x % sum == 0: #18%9\n",
        "            answer = True\n",
        "        else:\n",
        "            answer = False    \n",
        "    \n",
        "    return answer\n",
        "\n",
        "print(solution(18))"
      ],
      "metadata": {
        "colab": {
          "base_uri": "https://localhost:8080/"
        },
        "id": "kdPnnv79ny85",
        "outputId": "c74be2b1-d1ca-469a-e590-eba353a7ad69"
      },
      "execution_count": 19,
      "outputs": [
        {
          "output_type": "stream",
          "name": "stdout",
          "text": [
            "True\n"
          ]
        }
      ]
    },
    {
      "cell_type": "code",
      "source": [
        "def Harshad(n):\n",
        "    # n은 하샤드 수 인가요?\n",
        "    return n % sum([int(c) for c in str(n)]) == 0\n",
        "\n",
        "print(solution(18))"
      ],
      "metadata": {
        "colab": {
          "base_uri": "https://localhost:8080/"
        },
        "id": "z0hUU0zFvhAe",
        "outputId": "4e0d4565-6b39-46b3-c9e1-3218a2dd7fde"
      },
      "execution_count": null,
      "outputs": [
        {
          "output_type": "stream",
          "name": "stdout",
          "text": [
            "True\n"
          ]
        }
      ]
    },
    {
      "cell_type": "markdown",
      "source": [
        "##콜라츠 추측\n",
        "주어진 수가 1이 될 때까지 다음 작업을 반복하면, 모든 수를 1로 만들 수 있다는 추측입니다. 작업은 다음과 같습니다.\n",
        "\n",
        "1. 입력된 수가 짝수라면 2로 나눕니다. \n",
        "\n",
        "2.  입력된 수가 홀수라면 3을 곱하고 1을 더합니다. \n",
        "\n",
        "3. 결과로 나온 수에 같은 작업을 1이 될 때까지 반복합니다. \n",
        "\n",
        "\n",
        "예를 들어, 주어진 수가 6이라면 6 → 3 → 10 → 5 → 16 → 8 → 4 → 2 → 1 이 되어 총 8번 만에 1이 됩니다. \n",
        "\n",
        "위 작업을 몇 번이나 반복해야 하는지 반환하는 함수, solution을 완성해 주세요. \n",
        "\n",
        "단, 주어진 수가 1인 경우에는 0을, 작업을 500번 반복할 때까지 1이 되지 않는다면 –1을 반환해 주세요."
      ],
      "metadata": {
        "id": "s-yn6EPUpCpG"
      }
    },
    {
      "cell_type": "code",
      "source": [
        "def solution(num):\n",
        "    answer = 0\n",
        "    \n",
        "    for i in range(500):\n",
        "        if num % 2 == 0: #짝수라면\n",
        "            num = num/2\n",
        "            answer += 1   \n",
        "            \n",
        "        if num == 1:\n",
        "            break\n",
        "\n",
        "        if num % 2 != 0:  #홀수라면\n",
        "            num = (num*3)+1\n",
        "            answer += 1\n",
        "\n",
        "        if num == 1:\n",
        "            break\n",
        "\n",
        "        if answer > 500 and num != 1:\n",
        "            answer = -1\n",
        "            break\n",
        "    \n",
        "    return answer\n",
        "\n",
        "print(solution(6))"
      ],
      "metadata": {
        "colab": {
          "base_uri": "https://localhost:8080/"
        },
        "id": "Ylt2zHu9pC1l",
        "outputId": "931c4c68-b3eb-400d-ef52-9b1378bc6b02"
      },
      "execution_count": 21,
      "outputs": [
        {
          "output_type": "stream",
          "name": "stdout",
          "text": [
            "8\n"
          ]
        }
      ]
    },
    {
      "cell_type": "code",
      "source": [
        "def collatz(num):\n",
        "    answer = 0\n",
        "    while answer < 500:\n",
        "        answer += 1\n",
        "\n",
        "        if num % 2 == 0:\n",
        "            num = num / 2\n",
        "        else:\n",
        "            num = (num * 3) + 1\n",
        "            \n",
        "        if num == 1:\n",
        "            break\n",
        "    if answer == 500:\n",
        "        answer = -1\n",
        "\n",
        "    return answer\n",
        "\n",
        "# 아래는 테스트로 출력해 보기 위한 코드입니다.\n",
        "print(collatz(1126015))"
      ],
      "metadata": {
        "colab": {
          "base_uri": "https://localhost:8080/"
        },
        "id": "UdC6g1wB9BIW",
        "outputId": "a888fc85-3028-4c3f-949e-cb7db8fb9ff1"
      },
      "execution_count": null,
      "outputs": [
        {
          "output_type": "stream",
          "name": "stdout",
          "text": [
            "-1\n"
          ]
        }
      ]
    },
    {
      "cell_type": "markdown",
      "source": [
        "##제일 작은 수 제거하기\n",
        "\n",
        "1. 정수를 저장한 배열, arr 에서 가장 작은 수를 제거한 배열을 리턴 \n",
        "2.단, 리턴하려는 배열이 빈 배열인 경우엔 배열에 -1을 채워 리턴하세요. \n",
        "\n",
        "예를들어 arr이 [4,3,2,1]인 경우는 [4,3,2]를 리턴 하고, [10]면 [-1]을 리턴 합니다.\n",
        "\n",
        "<쓰인것>\n",
        " - min\n",
        " - remove, insert"
      ],
      "metadata": {
        "id": "y1qtzBfapSpH"
      }
    },
    {
      "cell_type": "code",
      "source": [
        "def solution(arr):\n",
        "    answer = []\n",
        "    \n",
        "    minVal = min(arr) #조건1\n",
        "    arr.remove(minVal)\n",
        "    \n",
        "    if not arr: #조건2\n",
        "        arr.insert(0,-1)\n",
        "    \n",
        "    return arr\n",
        "\n",
        "print(solution([4,3,2,1]))"
      ],
      "metadata": {
        "colab": {
          "base_uri": "https://localhost:8080/"
        },
        "id": "XpTdOMxlpvo4",
        "outputId": "938b95bf-39bf-477a-dd00-ebd7fc66744d"
      },
      "execution_count": null,
      "outputs": [
        {
          "output_type": "stream",
          "name": "stdout",
          "text": [
            "[4, 3, 2]\n"
          ]
        }
      ]
    },
    {
      "cell_type": "code",
      "source": [
        "def solution(arr):\n",
        "\n",
        "    if len(arr) > 1:\n",
        "        arr.remove(min(arr))\n",
        "        \n",
        "        return arr\n",
        "    else: #조건2\n",
        "        return [-1]\n",
        "\n",
        "print(solution([4,3,2,1]))"
      ],
      "metadata": {
        "colab": {
          "base_uri": "https://localhost:8080/"
        },
        "id": "RNSqGpHg1t8U",
        "outputId": "4f400d57-10ed-4cc8-88b8-0f20710625e0"
      },
      "execution_count": null,
      "outputs": [
        {
          "output_type": "stream",
          "name": "stdout",
          "text": [
            "[4, 3, 2]\n"
          ]
        }
      ]
    },
    {
      "cell_type": "markdown",
      "source": [
        "##정수 제곱근 판별\n",
        "임의의 양의 정수 n에 대해, n이 어떤 양의 정수 x의 제곱인지 아닌지 판단하려 합니다.\n",
        "\n",
        "\n",
        "n이 양의 정수 x의 제곱이라면 x+1의 제곱을 리턴하고, n이 양의 정수 x의 제곱이 아니라면 -1을 리턴하는 함수를 완성하세요."
      ],
      "metadata": {
        "id": "dFWe7gY4pDA5"
      }
    },
    {
      "cell_type": "code",
      "source": [
        "import math\n",
        " \n",
        "def solution(n):\n",
        "    if int(math.sqrt(n)) == math.sqrt(n):\n",
        "        answer = pow(math.sqrt(n)+1, 2)\n",
        "    else:\n",
        "        answer = -1\n",
        "    return answer\n",
        "\n",
        "print(solution(4))"
      ],
      "metadata": {
        "colab": {
          "base_uri": "https://localhost:8080/"
        },
        "id": "4381vOwGpDHn",
        "outputId": "5e2fac2d-f98f-49d0-a9a4-7e25f4f47393"
      },
      "execution_count": null,
      "outputs": [
        {
          "output_type": "stream",
          "name": "stdout",
          "text": [
            "9.0\n"
          ]
        }
      ]
    },
    {
      "cell_type": "code",
      "source": [
        "import math\n",
        "\n",
        "def solution(n):    \n",
        "    a=math.sqrt(n)\n",
        "    if int(a)==a:\n",
        "        return (a+1)**2\n",
        "    else:\n",
        "        return -1\n",
        "        \n",
        "print(solution(4))"
      ],
      "metadata": {
        "colab": {
          "base_uri": "https://localhost:8080/"
        },
        "id": "h6PK8A0a58HA",
        "outputId": "c42239c0-41f6-4481-9247-f34a6953634d"
      },
      "execution_count": null,
      "outputs": [
        {
          "output_type": "stream",
          "name": "stdout",
          "text": [
            "9.0\n"
          ]
        }
      ]
    }
  ]
}