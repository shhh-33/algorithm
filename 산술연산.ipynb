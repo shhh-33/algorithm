{
  "nbformat": 4,
  "nbformat_minor": 0,
  "metadata": {
    "colab": {
      "name": "산술연산 6032~6045.ipynb",
      "provenance": [],
      "authorship_tag": "ABX9TyPjtyuB0/RjnNdFx5Gxfwkg",
      "include_colab_link": true
    },
    "kernelspec": {
      "name": "python3",
      "display_name": "Python 3"
    },
    "language_info": {
      "name": "python"
    }
  },
  "cells": [
    {
      "cell_type": "markdown",
      "metadata": {
        "id": "view-in-github",
        "colab_type": "text"
      },
      "source": [
        "<a href=\"https://colab.research.google.com/github/shhh-33/coding_test/blob/shhh/%EC%82%B0%EC%88%A0%EC%97%B0%EC%82%B0.ipynb\" target=\"_parent\"><img src=\"https://colab.research.google.com/assets/colab-badge.svg\" alt=\"Open In Colab\"/></a>"
      ]
    },
    {
      "cell_type": "markdown",
      "source": [
        "입력된 정수의 부호를 바꿔 출력"
      ],
      "metadata": {
        "id": "VzBzgYHC4DyF"
      }
    },
    {
      "cell_type": "code",
      "execution_count": 1,
      "metadata": {
        "colab": {
          "base_uri": "https://localhost:8080/"
        },
        "id": "72Vp2raV39N8",
        "outputId": "88ab5b80-a3b7-4aa6-8205-8f5fbfdc60f2"
      },
      "outputs": [
        {
          "output_type": "stream",
          "name": "stdout",
          "text": [
            "4\n",
            "-4\n"
          ]
        }
      ],
      "source": [
        "print(-int(input()))"
      ]
    },
    {
      "cell_type": "markdown",
      "source": [
        "2-1) ord(문자)\n",
        "하나의 문자를 인자로 받고 해당 문자에 해당하는 유니코드 정수를 반환합니다.\n",
        "ord('a')를 넣으면 정수 97을 반환합니다.\n",
        " \n",
        "2-2) chr(정수)\n",
        "하나의 정수를 인자로 받고 해당 정수에 해당하는 유니코드 문자를 반환합니다.\n",
        "chr(97)을 하면 문자 'a'를 반환합니다.\n",
        "\n",
        "\n",
        " "
      ],
      "metadata": {
        "id": "DVC1y98n8H66"
      }
    },
    {
      "cell_type": "markdown",
      "source": [
        "문자 1개 입력받아 다음 문자 출력\n",
        "\n",
        "\n",
        "영문자 'A'의 다음 문자는 'B'이고, 숫자 '0'의 다음 문자는 '1'이다.\n"
      ],
      "metadata": {
        "id": "qT8VTtA54FTx"
      }
    },
    {
      "cell_type": "code",
      "source": [
        "print(chr(ord(input())+1))\n"
      ],
      "metadata": {
        "colab": {
          "base_uri": "https://localhost:8080/"
        },
        "id": "haqb30GI4FLl",
        "outputId": "159b908b-66db-4a90-f69c-35180b6925a3"
      },
      "execution_count": 3,
      "outputs": [
        {
          "output_type": "stream",
          "name": "stdout",
          "text": [
            "0\n",
            "1\n"
          ]
        }
      ]
    },
    {
      "cell_type": "markdown",
      "source": [
        "정수 2개(a, b)를 입력받아 a에서 b를 뺀 차를 출력"
      ],
      "metadata": {
        "id": "kKittGGi4Gau"
      }
    },
    {
      "cell_type": "code",
      "source": [
        "a,b=map(int,input().split())\n",
        "print(a-b)"
      ],
      "metadata": {
        "colab": {
          "base_uri": "https://localhost:8080/"
        },
        "id": "vDgWO5qn4Gjp",
        "outputId": "543c4f6c-bade-4e99-9f15-07f8eb180a24"
      },
      "execution_count": 5,
      "outputs": [
        {
          "output_type": "stream",
          "name": "stdout",
          "text": [
            "1 4\n",
            "-3\n"
          ]
        }
      ]
    },
    {
      "cell_type": "markdown",
      "source": [
        "단어와 반복 횟수를 입력받아 여러 번 출력해보자."
      ],
      "metadata": {
        "id": "2QgB08ud4GrN"
      }
    },
    {
      "cell_type": "code",
      "source": [
        "w,n = input().split()\n",
        "print(w*int(n))"
      ],
      "metadata": {
        "colab": {
          "base_uri": "https://localhost:8080/"
        },
        "id": "SgkUUJm14GxW",
        "outputId": "5a3ac73a-7b8b-4d72-91c2-07be5f522324"
      },
      "execution_count": 6,
      "outputs": [
        {
          "output_type": "stream",
          "name": "stdout",
          "text": [
            "hello 3\n",
            "hellohellohello\n"
          ]
        }
      ]
    },
    {
      "cell_type": "markdown",
      "source": [
        "정수 2개 입력받아 거듭제곱 계산"
      ],
      "metadata": {
        "id": "gsiXXLCs4G3l"
      }
    },
    {
      "cell_type": "code",
      "source": [
        "a,b = map(int,input().split())\n",
        "print(a**b)"
      ],
      "metadata": {
        "colab": {
          "base_uri": "https://localhost:8080/"
        },
        "id": "LrgiAo6f4G8N",
        "outputId": "0b306372-2b81-4707-d745-84a702d73715"
      },
      "execution_count": 7,
      "outputs": [
        {
          "output_type": "stream",
          "name": "stdout",
          "text": [
            "2 10\n",
            "1024\n"
          ]
        }
      ]
    },
    {
      "cell_type": "markdown",
      "source": [
        "정수 2개(a, b) 를 입력받아 a를 b로 나눈 몫을 출력"
      ],
      "metadata": {
        "id": "n7g38UaY4HBO"
      }
    },
    {
      "cell_type": "code",
      "source": [
        "a, b = input().split()\n",
        "print(int(a) // int(b))"
      ],
      "metadata": {
        "colab": {
          "base_uri": "https://localhost:8080/"
        },
        "id": "LDKM46t74HGd",
        "outputId": "418f9f68-8939-43ca-c15c-28832a5af69e"
      },
      "execution_count": 9,
      "outputs": [
        {
          "output_type": "stream",
          "name": "stdout",
          "text": [
            "5 4\n",
            "1\n"
          ]
        }
      ]
    },
    {
      "cell_type": "markdown",
      "source": [
        "정수 2개(a, b) 를 입력받아 a를 b로 나눈 나머지를 출력"
      ],
      "metadata": {
        "id": "h7qMMl0k4HN9"
      }
    },
    {
      "cell_type": "code",
      "source": [
        "a, b = input().split()\n",
        "print(int(a) % int(b))"
      ],
      "metadata": {
        "colab": {
          "base_uri": "https://localhost:8080/"
        },
        "id": "cfSjJuui4IwJ",
        "outputId": "008ad13f-62a5-408f-fa98-a9d30d622906"
      },
      "execution_count": 10,
      "outputs": [
        {
          "output_type": "stream",
          "name": "stdout",
          "text": [
            "5 3\n",
            "2\n"
          ]
        }
      ]
    },
    {
      "cell_type": "markdown",
      "source": [
        "실수 2개(f1, f2)를 입력받아\n",
        "f1 을 f2 로 나눈 값을 출력해보자. 이 때 소숫점 넷째자리에서 반올림하여 무조건 소숫점 셋째 자리까지 출력"
      ],
      "metadata": {
        "id": "ycf0DD8Z9hpD"
      }
    },
    {
      "cell_type": "code",
      "source": [
        "a, b = map(float, input().split())\n",
        "print('%.3f' %round((a / b), 3))"
      ],
      "metadata": {
        "id": "gL-LWvZF9h0H"
      },
      "execution_count": null,
      "outputs": []
    },
    {
      "cell_type": "markdown",
      "source": [
        "정수 2개(a, b)를 입력받아 합, 차, 곱, 몫, 나머지, 나눈 값을 자동으로 계산해보자.\n",
        "단, b는 0이 아니다.\n",
        "\n",
        " "
      ],
      "metadata": {
        "id": "OrofDLQP9h7v"
      }
    },
    {
      "cell_type": "code",
      "source": [
        "a, b = map(int,input().split())\n",
        "\n",
        "if(a >= 0 and b != 0):\n",
        "    print(a + b)\n",
        "    print(a - b)\n",
        "    print(a * b)\n",
        "    print(a // b)\n",
        "    print(a % b)\n",
        "    print(round((a / b), 2))"
      ],
      "metadata": {
        "colab": {
          "base_uri": "https://localhost:8080/"
        },
        "id": "CYiLKmHk9iAX",
        "outputId": "9872432f-d193-4fff-a44e-f53582226379"
      },
      "execution_count": 12,
      "outputs": [
        {
          "output_type": "stream",
          "name": "stdout",
          "text": [
            "10 3\n",
            "13\n",
            "7\n",
            "30\n",
            "3\n",
            "1\n",
            "3.33\n"
          ]
        }
      ]
    },
    {
      "cell_type": "markdown",
      "source": [
        "정수 3개를 입력받아 합과 평균을 출력"
      ],
      "metadata": {
        "id": "Caev6Bmd9iFQ"
      }
    },
    {
      "cell_type": "code",
      "source": [
        "a, b, c = map(int,input().split())\n",
        "print(a + b + c, round(((a + b + c) / 3), 2))"
      ],
      "metadata": {
        "colab": {
          "base_uri": "https://localhost:8080/"
        },
        "id": "XG_IgJoB9iKH",
        "outputId": "dd1b95b0-256e-46a0-c355-057fa242ecb2"
      },
      "execution_count": 14,
      "outputs": [
        {
          "output_type": "stream",
          "name": "stdout",
          "text": [
            "1 2 3\n",
            "6 2.0\n"
          ]
        }
      ]
    }
  ]
}