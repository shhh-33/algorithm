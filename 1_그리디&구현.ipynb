{
  "nbformat": 4,
  "nbformat_minor": 0,
  "metadata": {
    "colab": {
      "name": "1-1 그리디&구현.ipynb",
      "provenance": [],
      "collapsed_sections": [],
      "authorship_tag": "ABX9TyMKqd87BZBE0Li8W0DwYXxV",
      "include_colab_link": true
    },
    "kernelspec": {
      "name": "python3",
      "display_name": "Python 3"
    },
    "language_info": {
      "name": "python"
    }
  },
  "cells": [
    {
      "cell_type": "markdown",
      "metadata": {
        "id": "view-in-github",
        "colab_type": "text"
      },
      "source": [
        "<a href=\"https://colab.research.google.com/github/shhh-33/test/blob/shhh/1_%EA%B7%B8%EB%A6%AC%EB%94%94%26%EA%B5%AC%ED%98%84.ipynb\" target=\"_parent\"><img src=\"https://colab.research.google.com/assets/colab-badge.svg\" alt=\"Open In Colab\"/></a>"
      ]
    },
    {
      "cell_type": "markdown",
      "source": [
        "<문제 1> 거스름돈"
      ],
      "metadata": {
        "id": "7xNNfKJb_v_n"
      }
    },
    {
      "cell_type": "code",
      "execution_count": null,
      "metadata": {
        "colab": {
          "base_uri": "https://localhost:8080/"
        },
        "id": "HjlhNWNSJwpA",
        "outputId": "e9bab36c-3615-45f9-f1e9-2e98b1727bab"
      },
      "outputs": [
        {
          "output_type": "stream",
          "name": "stdout",
          "text": [
            "6\n"
          ]
        }
      ],
      "source": [
        "n = 1260 #거슬러줄 돈\n",
        "count = 0\n",
        "\n",
        "# 큰 단위의 화폐부터 차례대로 확인하기 (리스트에 담기)\n",
        "coin_types = [500, 100, 50, 10]\n",
        "\n",
        "\"\"\"\n",
        "결과값(count)에 n을 코인으로 나눈 몫(//)을 담는다.\n",
        "현재 남아있는 <돈=n>을, 현재 <coin>으로 최대한 많이 거슬러 줄 수 있도록 하고, 그 거스름돈의 개수를 더해준다.\n",
        "이후 남은 돈은 coin보다 더 작아져야 하므로, n을 coin으로 나눈 나머지 값이 될 수 있도록\n",
        "\n",
        "1260원을 500원으로 2번 거슬러주면, 260원이 남는다.\n",
        "260원을 100원으로 나누면\n",
        "260을 200으로 나눈 나머지인 60이 남는다.\n",
        "\n",
        "화폐의 종류만큼 반복이 수행 \n",
        "\n",
        "\"\"\"\n",
        "for coin in coin_types: #각각의 동전확인 : for in으로 coin_types(리스트)의 모든 내용을 coin이라는 변수에 담는다. \n",
        "    count += n // coin # 해당 화폐로 거슬러 줄 수 있는 동전의 개수 세기 2 += 1260//500\n",
        "    n %= coin # 거슬러준 다음 260원 남은걸 n에 넣기 (%=나머지)\n",
        "\n",
        "print(count)"
      ]
    },
    {
      "cell_type": "markdown",
      "source": [
        "<문제 2> 1이 될때까지"
      ],
      "metadata": {
        "id": "t3bd2eQV-GA7"
      }
    },
    {
      "cell_type": "code",
      "source": [
        "#N, K을 공백을 기준으로 구분하여 입력받기\n",
        "n, k = map(int, input().split()) # 25,3 입력\n",
        "\n",
        "result = 0\n",
        "\n",
        "\"\"\"\n",
        "n==25 ,k==3\n",
        "\n",
        "<While>\n",
        "-첫번째 반복-\n",
        "\n",
        "  target = (8) * 3 \n",
        "  -> target : k로 나누어 떨어지는 수 \n",
        "     n이 k로 나누어 떨어지지 않을때, 가장 가까운 나누어 떨어지는 수 찾을 수 있음\n",
        "\n",
        "  result += 25-24\n",
        "  n = 24\n",
        "  -> result : 총 연산을 수행하는 횟수, 1을 빼는 연산을 몇번 수행할지, n을 타겟으로 만든다\n",
        "\n",
        "  result==2\n",
        "  24 //=3 \n",
        "  -> n==8\n",
        "\n",
        "-두번째 반복-\n",
        "target = (8//3) * 3 ->6\n",
        "result += (8-6) ->2\n",
        "n=6\n",
        "\n",
        "result =3\n",
        "6 //=3 \n",
        "-> n==2\n",
        "\n",
        "-세번째 반복-\n",
        "target = 0\n",
        "result =4\n",
        "n==0\n",
        "\n",
        "result==5\n",
        "\n",
        "print\n",
        "result ==6\n",
        "\n",
        "\n",
        "\n",
        "------------------------------------------------------------------------------------------\n",
        "\n",
        "\n",
        "  \"\"\"\n",
        "\n",
        "while True:\n",
        "  # N이 K로 나누어 떨어지는 수가 될 때까지 빼기\n",
        "  target = (n//k) * k  \n",
        "  result += (n - target) \n",
        "  n = target \n",
        "\n",
        "  # N이 K보다 작을 때(더이상 나눌 수 없을 때) 반복문 탈출\n",
        "  if n < k:\n",
        "    break\n",
        "\n",
        "  # K로 나누기\n",
        "  result += 1\n",
        "  n //= k\n",
        " \n",
        "\n",
        "#n이 1보다 크다면 1로 만들기 위해서, 마지막으로 남은 수에 대하여 1씩 빼기\n",
        "result += (n-1)\n",
        "\n",
        "\n",
        "print(result)\n",
        "  "
      ],
      "metadata": {
        "colab": {
          "base_uri": "https://localhost:8080/"
        },
        "id": "EBLSnIl6SZvS",
        "outputId": "63070c97-6033-4e26-d8cc-54da9ba1f55e"
      },
      "execution_count": null,
      "outputs": [
        {
          "output_type": "stream",
          "name": "stdout",
          "text": [
            "25 3\n",
            "6\n"
          ]
        }
      ]
    },
    {
      "cell_type": "code",
      "source": [
        "2//3\n",
        "\n"
      ],
      "metadata": {
        "colab": {
          "base_uri": "https://localhost:8080/"
        },
        "id": "iayIKwubJBLp",
        "outputId": "dfa544ee-ba78-4944-9dc7-c00bcef057b6"
      },
      "execution_count": null,
      "outputs": [
        {
          "output_type": "execute_result",
          "data": {
            "text/plain": [
              "0"
            ]
          },
          "metadata": {},
          "execution_count": 12
        }
      ]
    },
    {
      "cell_type": "markdown",
      "source": [
        "<문제 3> 곱하기 혹은 더하기"
      ],
      "metadata": {
        "id": "qy2_q24Hbm76"
      }
    },
    {
      "cell_type": "code",
      "source": [
        "data = input()\n",
        "\n",
        "#첫번째 문자를 숫자로 변경하여 대입\n",
        "result = int(data[0])\n",
        "\n",
        "for i in range(1, len(data)):\n",
        "  #두 수 중에서 하나라도 '0' 혹은 '1'인 경우, 곱하기보다는 더하기 수행\n",
        "  num =int(data[i])\n",
        "\n",
        "  if num <=1 or result <=1:\n",
        "    result += num\n",
        "  else:\n",
        "    result *= num\n",
        "\n",
        "print(result)\n",
        "\"\"\"\n",
        "입력 : 123\n",
        "결과 : 9\n",
        "\"\"\"\n"
      ],
      "metadata": {
        "colab": {
          "base_uri": "https://localhost:8080/"
        },
        "id": "dZ2oeodAbmFr",
        "outputId": "60e2cd38-a18f-4499-f2d5-0553ee40d574"
      },
      "execution_count": 1,
      "outputs": [
        {
          "output_type": "stream",
          "name": "stdout",
          "text": [
            "123\n",
            "9\n"
          ]
        }
      ]
    },
    {
      "cell_type": "markdown",
      "source": [
        "<문제 4> 모험가"
      ],
      "metadata": {
        "id": "1Nt9WYaOtmfd"
      }
    },
    {
      "cell_type": "code",
      "source": [
        "n = int(input())\n",
        "data = list(map(int, input().split()))\n",
        "data.sort()\n",
        "\n",
        "result = 0 # 총 그룹의 수\n",
        "count = 0 # 현재 그룹에 포함된 모험가의 수\n",
        "\n",
        "for i in data: # 공포도를 낮은 것부터 하나씩 확인하며\n",
        "    count += 1 # 현재 그룹에 해당 모험가를 포함시키기\n",
        "    if count >= i: # 현재 그룹에 포함된 모험가의 수가 현재의 공포도 이상이라면, 그룹 결성\n",
        "        result += 1 # 총 그룹의 수 증가시키기\n",
        "        count = 0 # 현재 그룹에 포함된 모험가의 수 초기화\n",
        "\n",
        "print(result) # 총 그룹의 수 출력"
      ],
      "metadata": {
        "colab": {
          "base_uri": "https://localhost:8080/"
        },
        "id": "cZQHoVxAwhgd",
        "outputId": "9e52de74-e102-4aaa-e82e-6572e73937a4"
      },
      "execution_count": 11,
      "outputs": [
        {
          "output_type": "stream",
          "name": "stdout",
          "text": [
            "5\n",
            "1 2 3\n",
            "1\n"
          ]
        }
      ]
    }
  ]
}