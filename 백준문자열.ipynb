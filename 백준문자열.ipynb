{
  "nbformat": 4,
  "nbformat_minor": 0,
  "metadata": {
    "colab": {
      "name": "백준문자열.ipynb",
      "provenance": [],
      "authorship_tag": "ABX9TyNSdQMyfKohDQn4TTrfRFNs",
      "include_colab_link": true
    },
    "kernelspec": {
      "name": "python3",
      "display_name": "Python 3"
    },
    "language_info": {
      "name": "python"
    }
  },
  "cells": [
    {
      "cell_type": "markdown",
      "metadata": {
        "id": "view-in-github",
        "colab_type": "text"
      },
      "source": [
        "<a href=\"https://colab.research.google.com/github/shhh-33/algorithm/blob/shhh/%EB%B0%B1%EC%A4%80%EB%AC%B8%EC%9E%90%EC%97%B4.ipynb\" target=\"_parent\"><img src=\"https://colab.research.google.com/assets/colab-badge.svg\" alt=\"Open In Colab\"/></a>"
      ]
    },
    {
      "cell_type": "markdown",
      "source": [
        "\n",
        "##숫자의 합\n",
        "N개의 숫자가 공백 없이 쓰여있다.\n",
        "이 숫자를 모두 합해서 출력하는 프로그램을 작성하시오.\n",
        "\n",
        "- 문자열로 입력받아서 for로 다 더한다음 다시 정수로 출력하기"
      ],
      "metadata": {
        "id": "jWPN48pbMVFg"
      }
    },
    {
      "cell_type": "code",
      "source": [
        "n = input()\n",
        "nums = input()\n",
        "total = 0\n",
        "for i in nums :\n",
        "    total += int(i)  # total= total+int(i)\n",
        "print(total)"
      ],
      "metadata": {
        "colab": {
          "base_uri": "https://localhost:8080/"
        },
        "id": "hcusx4V2MTf3",
        "outputId": "9052d4f4-d52d-4323-a779-74fa92aa0f69"
      },
      "execution_count": null,
      "outputs": [
        {
          "output_type": "stream",
          "name": "stdout",
          "text": [
            "5\n",
            "54321\n",
            "15\n"
          ]
        }
      ]
    },
    {
      "cell_type": "code",
      "source": [
        "n = int(input())\n",
        "nums = input()\n",
        "total = 0\n",
        "for i in range(n) :  # 0부터 n-1까지\n",
        "    total += int(nums[i])\n",
        "print(total)"
      ],
      "metadata": {
        "colab": {
          "base_uri": "https://localhost:8080/"
        },
        "id": "aUsHevcMOC4x",
        "outputId": "0a7004df-b20f-4c28-b347-0acefd109327"
      },
      "execution_count": null,
      "outputs": [
        {
          "output_type": "stream",
          "name": "stdout",
          "text": [
            "5\n",
            "54321\n",
            "15\n"
          ]
        }
      ]
    },
    {
      "cell_type": "code",
      "source": [
        "n = input()\n",
        "\n",
        "print(sum(map(int,input())))"
      ],
      "metadata": {
        "colab": {
          "base_uri": "https://localhost:8080/"
        },
        "id": "8hvMnOREOHx5",
        "outputId": "05405560-3639-49bc-e0f5-dde98c938b80"
      },
      "execution_count": null,
      "outputs": [
        {
          "output_type": "stream",
          "name": "stdout",
          "text": [
            "5\n",
            "54321\n",
            "15\n"
          ]
        }
      ]
    },
    {
      "cell_type": "markdown",
      "source": [
        "\n",
        "##!밀비 급일\n",
        "1. 암호가 뒤집으면 해독된다는 것을 발견했다.\n",
        "2. end가 입력되면 끝난다.\n",
        "\n",
        "- 문자열 입력받고\n",
        "내림차순 정렬하기\n"
      ],
      "metadata": {
        "id": "mPT3DaikMTm4"
      }
    },
    {
      "cell_type": "code",
      "source": [
        "while True:\n",
        "    a = input()\n",
        "    if a == 'END':\n",
        "        break\n",
        "    print(a[::-1])"
      ],
      "metadata": {
        "id": "T6TWvHoyMTsH"
      },
      "execution_count": null,
      "outputs": []
    },
    {
      "cell_type": "markdown",
      "source": [
        "##세로읽기"
      ],
      "metadata": {
        "id": "DOW98GMFOOqw"
      }
    },
    {
      "cell_type": "code",
      "source": [
        "words = []\n",
        "for i in range(5):\n",
        "    a = input()\n",
        "    words.append(a)"
      ],
      "metadata": {
        "id": "qp0LGQ-tOV_U"
      },
      "execution_count": null,
      "outputs": []
    },
    {
      "cell_type": "code",
      "source": [
        "words = [input() for i in range(5)]"
      ],
      "metadata": {
        "id": "LmDCQMESOXEk"
      },
      "execution_count": null,
      "outputs": []
    },
    {
      "cell_type": "code",
      "source": [
        "words = [input() for i in range(5)]\n",
        "\n",
        "for j in range(15):\n",
        "    for i in range(5):\n",
        "        if j < len(words[i]):\n",
        "            print(words[i][j], end='') #붙여서 출력"
      ],
      "metadata": {
        "colab": {
          "base_uri": "https://localhost:8080/"
        },
        "id": "GxuFoXwZOYnY",
        "outputId": "e44749c0-cf21-4a41-feaf-fffcf6b1dcb2"
      },
      "execution_count": null,
      "outputs": [
        {
          "output_type": "stream",
          "name": "stdout",
          "text": [
            "12345\n",
            "asdfg\n",
            "12345\n",
            "asdfg\n",
            "23424\n",
            "1a1a22s2s33d3d44f4f25g5g4"
          ]
        }
      ]
    },
    {
      "cell_type": "code",
      "source": [
        "data = [[0]*15 for i in range(5)]\n",
        "\n",
        "for i in range(5) :\n",
        "    s= list(input())\n",
        "    for j in range(len(s)) :\n",
        "        data[i][j] = s[j]\n",
        "\n",
        "for i in range(15) :\n",
        "      for j in range(5) : #세로\n",
        "        if data[j][i] != 0 :\n",
        "              print(data[j][i], end='')\n",
        "        else :\n",
        "              continue"
      ],
      "metadata": {
        "id": "y-s58aHEOfZi"
      },
      "execution_count": null,
      "outputs": []
    },
    {
      "cell_type": "markdown",
      "source": [
        "##복호화"
      ],
      "metadata": {
        "id": "rDe2JccyO1uS"
      }
    },
    {
      "cell_type": "code",
      "source": [
        "T = int(input())\n",
        " \n",
        "for _ in range(T):\n",
        "    s = input().replace(' ', '') #입력 내부 공백을 제거한다(replace)\n",
        "    count = [0] * 26 #알파벳 소문자 길이만큼 빈 배열을 선언한다.(빈도수 체크 용도)\n",
        " \n",
        "    for i in s:\n",
        "        count[ord(i) - 97] += 1\n",
        "        #입력받은 값을 ord 숫자로 바꾸고 97을 빼준다. (0부터 빈 배열에 넣기 위해)\n",
        " \n",
        "    if count.count(max(count)) > 1:\n",
        "        print('?') #만약, 입력받은 값의 max가 2개 이상이라면??를 출력한다.\n",
        "    else:\n",
        "        print(chr(97 + count.index(max(count))))\n",
        "        #아니면, max값의 위치를 찾고 해당 index와 97을 더해 chr형으로 바꾼다. (4번에서 97 빼준 것을 원래대로 더했다.)\n"
      ],
      "metadata": {
        "colab": {
          "base_uri": "https://localhost:8080/"
        },
        "id": "OOWxIO7tO4dQ",
        "outputId": "c69b052f-aa01-436f-eacb-d18140807894"
      },
      "execution_count": null,
      "outputs": [
        {
          "output_type": "stream",
          "name": "stdout",
          "text": [
            "3\n",
            "aaaas\n",
            "a\n",
            "vvvff\n",
            "v\n",
            "vvvfff\n",
            "?\n"
          ]
        }
      ]
    },
    {
      "cell_type": "markdown",
      "source": [
        "##알파벳 찾기\n",
        "\n",
        "- 알파벳 소문자로만 이루어진 단어 S가 주어진다. \n",
        "- 각각의 알파벳에 대해서, 단어에 포함되어 있는 경우에는 처음 등장하는 위치를, 포함되어 있지 않은 경우에는 -1을 출력하는 프로그램을 작성하시오."
      ],
      "metadata": {
        "id": "owzFy7WuP4XS"
      }
    },
    {
      "cell_type": "code",
      "source": [
        "S = input()\n",
        "abc ='abcdefghijklmnopqrstuvwxyz'\n",
        "\n",
        "for i in abc:\n",
        "    if i in S:\n",
        "        print(S.index(i), end= ' ')\n",
        "    else:\n",
        "        print( -1, end =' ')"
      ],
      "metadata": {
        "colab": {
          "base_uri": "https://localhost:8080/"
        },
        "id": "nuLIF0rZs-8Z",
        "outputId": "66a717f5-993c-4cce-a2be-712c6f540f10"
      },
      "execution_count": 3,
      "outputs": [
        {
          "output_type": "stream",
          "name": "stdout",
          "text": [
            "abc\n",
            "0 1 2 -1 -1 -1 -1 -1 -1 -1 -1 -1 -1 -1 -1 -1 -1 -1 -1 -1 -1 -1 -1 -1 -1 -1 "
          ]
        }
      ]
    },
    {
      "cell_type": "markdown",
      "source": [
        "##단어의 개수\n",
        "- 영어 대소문자와 공백으로 이루어진 문자열이 주어진다. \n",
        "- 이 문자열에는 몇 개의 단어가 있을까?(공백으로 구분)"
      ],
      "metadata": {
        "id": "u6CxYu057evc"
      }
    },
    {
      "cell_type": "code",
      "source": [
        "word = input().split()\n",
        "print(len(word))"
      ],
      "metadata": {
        "colab": {
          "base_uri": "https://localhost:8080/"
        },
        "id": "1uWX4FFW7fAM",
        "outputId": "d732edc1-6f07-48b6-f215-1b5461e27866"
      },
      "execution_count": 4,
      "outputs": [
        {
          "output_type": "stream",
          "name": "stdout",
          "text": [
            "aag ggd \n",
            "2\n"
          ]
        }
      ]
    },
    {
      "cell_type": "markdown",
      "source": [
        "##문자열 반복\n",
        "-문자열 S를 입력받은 후에, 각 문자를 R번 반복해 새 문자열 P를 만든 후 출력하는 프로그램"
      ],
      "metadata": {
        "id": "QiDBrppf_vJp"
      }
    },
    {
      "cell_type": "code",
      "source": [
        "T = int(input()) #테스트 케이스의 개수 T(1 ≤ T ≤ 1,000)가 주어진다.\n",
        "\n",
        "for _ in range(T):\n",
        "    r, s = input().split()\n",
        "    for i in s:\n",
        "        print(i*int(r), end='')  # 새문자열 p ,end='' 옆으로 붙임\n",
        "    print()  # 줄넘김"
      ],
      "metadata": {
        "colab": {
          "base_uri": "https://localhost:8080/"
        },
        "id": "fByidyXf_vW4",
        "outputId": "0144ed2f-af8b-44d7-8b5e-4b7129341567"
      },
      "execution_count": 3,
      "outputs": [
        {
          "output_type": "stream",
          "name": "stdout",
          "text": [
            "2\n",
            "3 abc\n",
            "aaabbbccc\n",
            "2 zxzx\n",
            "zzxxzzxx\n"
          ]
        }
      ]
    },
    {
      "cell_type": "markdown",
      "source": [
        "##단어공부\n",
        "- 알파벳 대소문자로 된 단어가 주어지면, 이 단어에서 가장 많이 사용된 알파벳이 무엇인지 알아내는 프로그램을 작성하시오.\n",
        "-  단, 대문자와 소문자를 구분하지 않는다."
      ],
      "metadata": {
        "id": "C7q_PuxRuDC_"
      }
    },
    {
      "cell_type": "code",
      "source": [
        "word = input().upper()\n",
        "word_list = list(set(word)) #비교를 하기 위해 set함수를 사용하여 중복된 문자값을 제거한 후 변수에 저장\n",
        "\n",
        "cnt = []\n",
        "for i in word_list: #set형으로 for문을 돌려 입력에 i값이 몇 번 쓰였는지 확인하고 빈 리스트에 append시킨다.\n",
        "  count = word.count\n",
        "  cnt.append(count(i))\n",
        "\n",
        "if cnt.count(max(cnt)) > 1: \n",
        "  print(\"?\")\n",
        "\n",
        "else: #최대값이 하나라면 숫자 리스트 중에서 가장 큰 수의 위치를 index로 찾아 인덱스에 위치한 문자열을 출력\n",
        "  print(word_list[(cnt.index(max(cnt)))])"
      ],
      "metadata": {
        "colab": {
          "base_uri": "https://localhost:8080/"
        },
        "id": "dG047_lCuEo_",
        "outputId": "b20cf8c5-afbe-4e7e-d43c-86b17e73d63f"
      },
      "execution_count": 4,
      "outputs": [
        {
          "output_type": "stream",
          "name": "stdout",
          "text": [
            "baa\n",
            "A\n"
          ]
        }
      ]
    },
    {
      "cell_type": "code",
      "source": [
        "word = input().upper()\n",
        "word_list = list(set(word)) #비교를 하기 위해 set함수를 사용하여 중복된 문자값을 제거한 후 변수에 저장\n",
        "print(word_list)"
      ],
      "metadata": {
        "colab": {
          "base_uri": "https://localhost:8080/"
        },
        "id": "QxBl-mAs3tia",
        "outputId": "e16a36dd-dc1e-42c1-8d9d-5280f5a6b79f"
      },
      "execution_count": 6,
      "outputs": [
        {
          "output_type": "stream",
          "name": "stdout",
          "text": [
            "hello\n",
            "['L', 'O', 'E', 'H']\n"
          ]
        }
      ]
    },
    {
      "cell_type": "markdown",
      "source": [
        "##그대로 출력하기\n",
        "- 입력받은 그대로 출력"
      ],
      "metadata": {
        "id": "481nj8OfQVlK"
      }
    },
    {
      "cell_type": "code",
      "source": [
        "while True:\n",
        "    try :\n",
        "        a = input()\n",
        "        print(a)\n",
        "        \n",
        "    except : break"
      ],
      "metadata": {
        "colab": {
          "base_uri": "https://localhost:8080/"
        },
        "id": "EnMc4wlsQVqb",
        "outputId": "35ab7385-27bf-4df2-8997-a07c16ff1bfd"
      },
      "execution_count": 8,
      "outputs": [
        {
          "output_type": "stream",
          "name": "stdout",
          "text": [
            "ㄱ\n",
            "ㄱ\n",
            "-\n",
            "-\n",
            "ㄱ\n",
            "ㄱ\n"
          ]
        }
      ]
    },
    {
      "cell_type": "markdown",
      "source": [
        "##열개씩 끊어 출력\n",
        "- 알파벳 소문자와 대문자로만 이루어진 길이가 N인 단어가 주어진다.\n",
        "\n",
        "- 한 줄에 10글자씩 끊어서 출력하는 프로그램을 작성하시오."
      ],
      "metadata": {
        "id": "-9V6WMYZSGoP"
      }
    },
    {
      "cell_type": "code",
      "source": [
        "A = input() #1\n",
        "for i in range(0,len(A),10) : #0부터 A의 길이만큼 반복, 구간은 10씩 증가\n",
        "    print(A[i:i+10]) #10개씩 출력하려고"
      ],
      "metadata": {
        "colab": {
          "base_uri": "https://localhost:8080/"
        },
        "id": "ByrKeNUxSG3y",
        "outputId": "982557c3-0436-4eed-e224-cccdf6c348c6"
      },
      "execution_count": 14,
      "outputs": [
        {
          "output_type": "stream",
          "name": "stdout",
          "text": [
            "qwertyuiopasdfghjklcvbnm,\n",
            "qwertyuiop\n",
            "asdfghjklc\n",
            "vbnm,\n"
          ]
        }
      ]
    }
  ]
}