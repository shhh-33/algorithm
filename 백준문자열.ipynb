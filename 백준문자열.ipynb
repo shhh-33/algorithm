{
  "nbformat": 4,
  "nbformat_minor": 0,
  "metadata": {
    "colab": {
      "name": "백준문자열.ipynb",
      "provenance": [],
      "authorship_tag": "ABX9TyOFTDs90PZZho4zWUPdupVw",
      "include_colab_link": true
    },
    "kernelspec": {
      "name": "python3",
      "display_name": "Python 3"
    },
    "language_info": {
      "name": "python"
    }
  },
  "cells": [
    {
      "cell_type": "markdown",
      "metadata": {
        "id": "view-in-github",
        "colab_type": "text"
      },
      "source": [
        "<a href=\"https://colab.research.google.com/github/shhh-33/algorithm/blob/shhh/%EB%B0%B1%EC%A4%80%EB%AC%B8%EC%9E%90%EC%97%B4.ipynb\" target=\"_parent\"><img src=\"https://colab.research.google.com/assets/colab-badge.svg\" alt=\"Open In Colab\"/></a>"
      ]
    },
    {
      "cell_type": "markdown",
      "source": [
        "\n",
        "##숫자의 합\n",
        "N개의 숫자가 공백 없이 쓰여있다.\n",
        "이 숫자를 모두 합해서 출력하는 프로그램을 작성하시오.\n",
        "\n",
        "- 문자열로 입력받아서 for로 다 더한다음 다시 정수로 출력하기"
      ],
      "metadata": {
        "id": "jWPN48pbMVFg"
      }
    },
    {
      "cell_type": "code",
      "source": [
        "n = input()\n",
        "nums = input()\n",
        "total = 0\n",
        "for i in nums :\n",
        "    total += int(i)  # total= total+int(i)\n",
        "print(total)"
      ],
      "metadata": {
        "colab": {
          "base_uri": "https://localhost:8080/"
        },
        "id": "hcusx4V2MTf3",
        "outputId": "9052d4f4-d52d-4323-a779-74fa92aa0f69"
      },
      "execution_count": 2,
      "outputs": [
        {
          "output_type": "stream",
          "name": "stdout",
          "text": [
            "5\n",
            "54321\n",
            "15\n"
          ]
        }
      ]
    },
    {
      "cell_type": "code",
      "source": [
        "n = int(input())\n",
        "nums = input()\n",
        "total = 0\n",
        "for i in range(n) :  # 0부터 n-1까지\n",
        "    total += int(nums[i])\n",
        "print(total)"
      ],
      "metadata": {
        "colab": {
          "base_uri": "https://localhost:8080/"
        },
        "id": "aUsHevcMOC4x",
        "outputId": "0a7004df-b20f-4c28-b347-0acefd109327"
      },
      "execution_count": 3,
      "outputs": [
        {
          "output_type": "stream",
          "name": "stdout",
          "text": [
            "5\n",
            "54321\n",
            "15\n"
          ]
        }
      ]
    },
    {
      "cell_type": "code",
      "source": [
        "n = input()\n",
        "\n",
        "print(sum(map(int,input())))"
      ],
      "metadata": {
        "colab": {
          "base_uri": "https://localhost:8080/"
        },
        "id": "8hvMnOREOHx5",
        "outputId": "05405560-3639-49bc-e0f5-dde98c938b80"
      },
      "execution_count": 4,
      "outputs": [
        {
          "output_type": "stream",
          "name": "stdout",
          "text": [
            "5\n",
            "54321\n",
            "15\n"
          ]
        }
      ]
    },
    {
      "cell_type": "markdown",
      "source": [
        "\n",
        "##!밀비 급일\n",
        "1. 암호가 뒤집으면 해독된다는 것을 발견했다.\n",
        "2. end가 입력되면 끝난다.\n",
        "\n",
        "- 문자열 입력받고\n",
        "내림차순 정렬하기\n"
      ],
      "metadata": {
        "id": "mPT3DaikMTm4"
      }
    },
    {
      "cell_type": "code",
      "source": [
        "while True:\n",
        "    a = input()\n",
        "    if a == 'END':\n",
        "        break\n",
        "    print(a[::-1])"
      ],
      "metadata": {
        "id": "T6TWvHoyMTsH"
      },
      "execution_count": null,
      "outputs": []
    },
    {
      "cell_type": "markdown",
      "source": [
        "##세로읽기"
      ],
      "metadata": {
        "id": "DOW98GMFOOqw"
      }
    },
    {
      "cell_type": "code",
      "source": [
        "words = []\n",
        "for i in range(5):\n",
        "    a = input()\n",
        "    words.append(a)"
      ],
      "metadata": {
        "id": "qp0LGQ-tOV_U"
      },
      "execution_count": null,
      "outputs": []
    },
    {
      "cell_type": "code",
      "source": [
        "words = [input() for i in range(5)]"
      ],
      "metadata": {
        "id": "LmDCQMESOXEk"
      },
      "execution_count": null,
      "outputs": []
    },
    {
      "cell_type": "code",
      "source": [
        "words = [input() for i in range(5)]\n",
        "\n",
        "for j in range(15):\n",
        "    for i in range(5):\n",
        "        if j < len(words[i]):\n",
        "            print(words[i][j], end='') #붙여서 출력"
      ],
      "metadata": {
        "colab": {
          "base_uri": "https://localhost:8080/"
        },
        "id": "GxuFoXwZOYnY",
        "outputId": "e44749c0-cf21-4a41-feaf-fffcf6b1dcb2"
      },
      "execution_count": 5,
      "outputs": [
        {
          "output_type": "stream",
          "name": "stdout",
          "text": [
            "12345\n",
            "asdfg\n",
            "12345\n",
            "asdfg\n",
            "23424\n",
            "1a1a22s2s33d3d44f4f25g5g4"
          ]
        }
      ]
    },
    {
      "cell_type": "code",
      "source": [
        "data = [[0]*15 for i in range(5)]\n",
        "\n",
        "for i in range(5) :\n",
        "    s= list(input())\n",
        "    for j in range(len(s)) :\n",
        "        data[i][j] = s[j]\n",
        "\n",
        "for i in range(15) :\n",
        "      for j in range(5) : #세로\n",
        "        if data[j][i] != 0 :\n",
        "              print(data[j][i], end='')\n",
        "        else :\n",
        "              continue"
      ],
      "metadata": {
        "id": "y-s58aHEOfZi"
      },
      "execution_count": null,
      "outputs": []
    },
    {
      "cell_type": "markdown",
      "source": [
        "##복호화"
      ],
      "metadata": {
        "id": "rDe2JccyO1uS"
      }
    },
    {
      "cell_type": "code",
      "source": [
        "T = int(input())\n",
        " \n",
        "for _ in range(T):\n",
        "    s = input().replace(' ', '') #입력 내부 공백을 제거한다(replace)\n",
        "    count = [0] * 26 #알파벳 소문자 길이만큼 빈 배열을 선언한다.(빈도수 체크 용도)\n",
        " \n",
        "    for i in s:\n",
        "        count[ord(i) - 97] += 1\n",
        "        #입력받은 값을 ord 숫자로 바꾸고 97을 빼준다. (0부터 빈 배열에 넣기 위해)\n",
        " \n",
        "    if count.count(max(count)) > 1:\n",
        "        print('?') #만약, 입력받은 값의 max가 2개 이상이라면??를 출력한다.\n",
        "    else:\n",
        "        print(chr(97 + count.index(max(count))))\n",
        "        #아니면, max값의 위치를 찾고 해당 index와 97을 더해 chr형으로 바꾼다. (4번에서 97 빼준 것을 원래대로 더했다.)\n"
      ],
      "metadata": {
        "colab": {
          "base_uri": "https://localhost:8080/"
        },
        "id": "OOWxIO7tO4dQ",
        "outputId": "c69b052f-aa01-436f-eacb-d18140807894"
      },
      "execution_count": 6,
      "outputs": [
        {
          "output_type": "stream",
          "name": "stdout",
          "text": [
            "3\n",
            "aaaas\n",
            "a\n",
            "vvvff\n",
            "v\n",
            "vvvfff\n",
            "?\n"
          ]
        }
      ]
    },
    {
      "cell_type": "markdown",
      "source": [
        ""
      ],
      "metadata": {
        "id": "owzFy7WuP4XS"
      }
    }
  ]
}