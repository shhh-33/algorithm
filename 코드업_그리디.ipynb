{
  "nbformat": 4,
  "nbformat_minor": 0,
  "metadata": {
    "colab": {
      "name": "코드업 그리디.ipynb",
      "provenance": [],
      "authorship_tag": "ABX9TyPl9jo/5witkNVs6YMkGjhO",
      "include_colab_link": true
    },
    "kernelspec": {
      "name": "python3",
      "display_name": "Python 3"
    },
    "language_info": {
      "name": "python"
    }
  },
  "cells": [
    {
      "cell_type": "markdown",
      "metadata": {
        "id": "view-in-github",
        "colab_type": "text"
      },
      "source": [
        "<a href=\"https://colab.research.google.com/github/shhh-33/coding_test/blob/shhh/%EC%BD%94%EB%93%9C%EC%97%85_%EA%B7%B8%EB%A6%AC%EB%94%94.ipynb\" target=\"_parent\"><img src=\"https://colab.research.google.com/assets/colab-badge.svg\" alt=\"Open In Colab\"/></a>"
      ]
    },
    {
      "cell_type": "markdown",
      "source": [
        "##거스름돈\n",
        "어떤 가게의 욕심쟁이 점원은 거스름돈을 나눠줄때 거스름돈의 개수를 적게해서 주고자 한다.\n",
        "\n",
        "거스름돈을 입력 받아 점원이 줄 수 있는 최소 거스름돈의 개수를 출력하시오.\n",
        "\n",
        "예를 들어 54520원인 경우,\n",
        "\n",
        "거스름돈으로 50000원권 1장, 1000원권 4장, 500원 1개, 10원 2개 해서 총 8개이다.\n",
        "\n",
        "\n",
        "입력: 54520\n",
        "출력 : 8"
      ],
      "metadata": {
        "id": "cnL5iGCo98ex"
      }
    },
    {
      "cell_type": "code",
      "source": [
        "\"\"\"\n",
        "거스름돈 n 입력받기\n",
        "최소 거스름돈 개수출력하기\n",
        "\n",
        "\"\"\"\n",
        "n=int(input()) #54520\n",
        "count=0\n",
        "\n",
        "coins=[50000, 10000, 5000, 1000, 500, 100, 50, 10]\n",
        "\n",
        "for coin in coins:\n",
        "  count += n//coin #54520//50000=1, 4520//1000=4, 520//5=1 , 20//10 =2\n",
        "  n %= coin #54520%50000 =4520, 4520%1000=520, 520%500=20, 20%10 =0\n",
        "\n",
        "print(count) #1+4+1+2=8"
      ],
      "metadata": {
        "colab": {
          "base_uri": "https://localhost:8080/"
        },
        "id": "B72Ol-5D-EDt",
        "outputId": "1b55f932-3cff-464e-cb39-8d30a7972b8d"
      },
      "execution_count": null,
      "outputs": [
        {
          "output_type": "stream",
          "name": "stdout",
          "text": [
            "54520\n",
            "8\n"
          ]
        }
      ]
    },
    {
      "cell_type": "markdown",
      "source": [
        "##최고의 피자\n",
        "\n",
        "도우의 가격과 토핑의 가격, 그리고 도우와 각 토핑 열량 값이 주어 졌을 때, \"최고의 피자\"의 1 달러 당 열량의 수를 구하는 프로그램"
      ],
      "metadata": {
        "id": "2kuMtNPtF385"
      }
    },
    {
      "cell_type": "markdown",
      "source": [
        "토핑종류수 n\n",
        "도우 가격 a\n",
        "토핑 가격 b\n",
        "칼로리 c"
      ],
      "metadata": {
        "id": "DRnfRxc0ib1c"
      }
    },
    {
      "cell_type": "code",
      "source": [
        "n= int(input()) #토핑 종류 수\n",
        "a,b =map(int,input().split()) #도우,토핑 가격\n",
        "c =int(input()) #도우 칼로리\n",
        "\n",
        "#토핑 칼로리 리스트\n",
        "toping = []\n",
        "\n",
        "#토핑 칼로리를 토핑 종류 수의 개수만큼 입력받기\n",
        "for _ in range(n):\n",
        "    toping.append(int(input()))\n",
        "\n",
        "#내림차순(칼로리 큰 순서로 정렬)\n",
        "toping.sort(reverse=True)\n",
        "\n",
        "result = c / a  #현재는 도우만 있는것이 최고의 피자 : 도우의 1달러당 칼로리 :칼로리/달러\n",
        "\n",
        "#토핑개수만큼 반복 \n",
        "for i in range(1, len(toping)+1):\n",
        "    calorie = c + sum(toping[0:i]) #칼로리 : 도우 +(토핑칼로리sum)\n",
        "    price = a + (b * i) #가격\n",
        "\n",
        "\n",
        "    if calorie / price > result: #토핑 추가한 것 > 도우만 있는것 \n",
        "        result = calorie / price #결과 값 바꾸기\n",
        "    else:\n",
        "        break #도우의 칼로리가 제일 높으면 종료 하고 출력(토핑 없어도 되니까)\n",
        "\n",
        "print(int(result))"
      ],
      "metadata": {
        "id": "BCMF8rRMAT63",
        "colab": {
          "base_uri": "https://localhost:8080/"
        },
        "outputId": "fc5b2c9e-7428-4da5-9e82-59aa25d8ce30"
      },
      "execution_count": 47,
      "outputs": [
        {
          "output_type": "stream",
          "name": "stdout",
          "text": [
            "3\n",
            "12 2\n",
            "200\n",
            "50\n",
            "300\n",
            "100\n",
            "37\n"
          ]
        }
      ]
    },
    {
      "cell_type": "code",
      "source": [
        "n= int(input()) #토핑 종류 수\n",
        "a,b =map(int,input().split()) #도우,토핑 가격\n",
        "c =int(input()) #도우 칼로리\n",
        "\n",
        "#토핑 칼로리 리스트\n",
        "d =[]\n",
        "#토핑 칼로리 종류 수 만큼 입력받기\n",
        "for _ in range(n):\n",
        "  d.append(int(input()))\n",
        "\n",
        "d.sort(reverse=True) #큰 토핑 칼로리로 내림차순 정렬  \n",
        "\n",
        "a1cal=c/a #도우 1달러 당 열량 : 도우 칼로리/도우 가격\n",
        "max=a1cal #도우 1달러 당 열량을 max로 \n",
        "\n",
        "\n",
        "count=1 #토핑 종류 카운트\n",
        "\n",
        "for i in range(n):#토핑 개수만큼 반복\n",
        "\n",
        "  dollarcal=(c+sum(d[:count]))/(a+b*count)#토핑을 하나씩 추가해보면서 1달러당 칼로리의 수 최대를 찾음\n",
        "\n",
        "  if(a1cal>  dollarcal):\n",
        "    break #도우 열량이 제일 크면 break\n",
        "    \n",
        "  if(max< dollarcal):\n",
        "    max= dollarcal\n",
        "    count+=1\n",
        "  \n",
        "print(int(max))\n",
        "\n",
        "\"\"\"\n",
        "<입력>\n",
        "\n",
        "3 : 토핑 종류수\n",
        "12 2 :도우 토핑 가격\n",
        "200 : 도우 칼로리\n",
        "(토핑 종류수 만큼 칼로리 받기)\n",
        "50\n",
        "300\n",
        "100\n",
        "\n",
        "최고의 피자의 1달러 당 칼로리의 수\n",
        "(칼로리/달러)\n",
        "#1달러당 최대 칼로리의 수 =(도우 칼로리+ 토핑 수) / (도우+토핑*토핑개수)\n",
        "\n",
        "출력 : 37\n",
        "\n",
        "\n",
        "\n",
        "\"\"\"\n"
      ],
      "metadata": {
        "id": "hxR3uF1_HJk_",
        "colab": {
          "base_uri": "https://localhost:8080/",
          "height": 204
        },
        "outputId": "fceeb493-aff1-4cf7-f8ac-4d4cb9f1e437"
      },
      "execution_count": null,
      "outputs": [
        {
          "output_type": "stream",
          "name": "stdout",
          "text": [
            "3\n",
            "12 2\n",
            "200\n",
            "50\n",
            "300\n",
            "100\n",
            "37\n"
          ]
        },
        {
          "output_type": "execute_result",
          "data": {
            "text/plain": [
              "'\\n<입력>\\n\\n3 : 토핑 종류수\\n12 2 :도우 토핑 가격\\n200 : 도우 칼로리\\n(토핑 종류수 만큼 칼로리 받기)\\n50\\n300\\n100\\n\\n최고의 피자의 1달러 당 칼로리의 수\\n(칼로리/가격)\\n#1달러당 최대 칼로리의 수 =(도우 칼로리+ 토핑 수) / (도우+토핑*토핑개수)\\n\\n출력 : 37\\n\\n\\n\\n\\n'"
            ],
            "application/vnd.google.colaboratory.intrinsic+json": {
              "type": "string"
            }
          },
          "metadata": {},
          "execution_count": 18
        }
      ]
    },
    {
      "cell_type": "markdown",
      "source": [
        "실행되지않음"
      ],
      "metadata": {
        "id": "LknWlwK5Cn1C"
      }
    },
    {
      "cell_type": "code",
      "source": [
        "n= int(input()) #토핑 종류 수\n",
        "a,b =map(int,input().split()) #도우,토핑 가격\n",
        "c =int(input()) #도우 칼로리\n",
        "\n",
        "#토핑, 최고의 피자 리스트 0으로 초기화\n",
        "toping,result =[] ,0\n",
        "\n",
        "#토핑 칼로리 종류 수 만큼 입력받기\n",
        "for _ in range(n):\n",
        "  toping.append(int(input()))\n",
        "\n",
        "toping = sorted(toping, reverse =True) #내림차순 9 8 7\n",
        "\n",
        "for i in range(len(toping)+1): #토핑의 수 만큼 반복\n",
        "  price = a + b*i #가격\n",
        "  a  = result,( c +sum(toping[:i])) // price #1달러당 칼로리 :칼로리/달러\n",
        " \n",
        "print(result)"
      ],
      "metadata": {
        "id": "aVKfbvgX574r"
      },
      "execution_count": null,
      "outputs": []
    }
  ]
}