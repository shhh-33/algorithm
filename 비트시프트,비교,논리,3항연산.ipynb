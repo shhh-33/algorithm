{
  "nbformat": 4,
  "nbformat_minor": 0,
  "metadata": {
    "colab": {
      "name": "비트시프트,비교,논리,3항연산.ipynb",
      "provenance": [],
      "authorship_tag": "ABX9TyOfDHcx/aFL21iMxRMHsaci",
      "include_colab_link": true
    },
    "kernelspec": {
      "name": "python3",
      "display_name": "Python 3"
    },
    "language_info": {
      "name": "python"
    }
  },
  "cells": [
    {
      "cell_type": "markdown",
      "metadata": {
        "id": "view-in-github",
        "colab_type": "text"
      },
      "source": [
        "<a href=\"https://colab.research.google.com/github/shhh-33/coding_test/blob/shhh/%EB%B9%84%ED%8A%B8%EC%8B%9C%ED%94%84%ED%8A%B8%2C%EB%B9%84%EA%B5%90%2C%EB%85%BC%EB%A6%AC%2C3%ED%95%AD%EC%97%B0%EC%82%B0.ipynb\" target=\"_parent\"><img src=\"https://colab.research.google.com/assets/colab-badge.svg\" alt=\"Open In Colab\"/></a>"
      ]
    },
    {
      "cell_type": "markdown",
      "source": [
        "##비트시프트 연산 <<,>>\n",
        "정수 1개를 입력받아 2배 곱해 출력"
      ],
      "metadata": {
        "id": "0suw_kKI_ONE"
      }
    },
    {
      "cell_type": "code",
      "source": [
        "print(int(input())<<2) # a * 2¹"
      ],
      "metadata": {
        "colab": {
          "base_uri": "https://localhost:8080/"
        },
        "id": "1K-P8yaV_PDz",
        "outputId": "8b4fb676-7feb-4175-83fa-38e210e63de9"
      },
      "execution_count": 5,
      "outputs": [
        {
          "output_type": "stream",
          "name": "stdout",
          "text": [
            "2\n",
            "8\n"
          ]
        }
      ]
    },
    {
      "cell_type": "markdown",
      "source": [
        "정수 2개(a, b)를 입력받아 a를 2b배 곱한 값으로 출력"
      ],
      "metadata": {
        "id": "YvGDe9_9_PKT"
      }
    },
    {
      "cell_type": "code",
      "source": [
        "a,b=map(int,input().split())\n",
        "print(a<<b)"
      ],
      "metadata": {
        "colab": {
          "base_uri": "https://localhost:8080/"
        },
        "id": "cDYF2xdy_PQL",
        "outputId": "b9578ddf-0575-4b2e-c38d-0c258a2417d9"
      },
      "execution_count": 6,
      "outputs": [
        {
          "output_type": "stream",
          "name": "stdout",
          "text": [
            "1 2\n",
            "4\n"
          ]
        }
      ]
    },
    {
      "cell_type": "markdown",
      "source": [
        "###[기초-비교연산] 정수 2개 입력받아 비교하기\n",
        "\n",
        "\n",
        "두 정수(a, b)를 입력받아\n",
        "a가 b보다 작으면 True 를, a가 b보다 크거나 같으면 False 를 출력\n"
      ],
      "metadata": {
        "id": "Cbidg6W9_PVb"
      }
    },
    {
      "cell_type": "code",
      "source": [
        "a,b = map(int,input().split())\n",
        "print(a<b)"
      ],
      "metadata": {
        "colab": {
          "base_uri": "https://localhost:8080/"
        },
        "id": "PZdo-HNw_Pa0",
        "outputId": "21327f3d-5f7c-4522-e20e-26635d57168b"
      },
      "execution_count": 7,
      "outputs": [
        {
          "output_type": "stream",
          "name": "stdout",
          "text": [
            "4 5\n",
            "True\n"
          ]
        }
      ]
    },
    {
      "cell_type": "markdown",
      "source": [
        "정수가 입력되었을 때, True/False 로 평가 ->bool 이용\n",
        "\n",
        "입력된 값이 0이면 False, 0이 아니면 True 를 출력한다."
      ],
      "metadata": {
        "id": "l-vzZwvT_PgL"
      }
    },
    {
      "cell_type": "code",
      "source": [
        "print(bool(int(input())))"
      ],
      "metadata": {
        "colab": {
          "base_uri": "https://localhost:8080/"
        },
        "id": "hzVivf0h_Pk7",
        "outputId": "fb1f0d7a-ecaa-40bf-ada9-d8bbd9b22658"
      },
      "execution_count": 8,
      "outputs": [
        {
          "output_type": "stream",
          "name": "stdout",
          "text": [
            "0\n",
            "False\n"
          ]
        }
      ]
    },
    {
      "cell_type": "markdown",
      "source": [
        "정수값이 입력될 때,\n",
        "그 불 값을 반대로 출력하는 프로그램을 작성"
      ],
      "metadata": {
        "id": "STh_0lgu_PqD"
      }
    },
    {
      "cell_type": "code",
      "source": [
        "print(not bool(int(input())))"
      ],
      "metadata": {
        "colab": {
          "base_uri": "https://localhost:8080/"
        },
        "id": "zFN5VSQGH2ko",
        "outputId": "6fa93214-1194-4871-cd2c-3960ad352c31"
      },
      "execution_count": 9,
      "outputs": [
        {
          "output_type": "stream",
          "name": "stdout",
          "text": [
            "0\n",
            "True\n"
          ]
        }
      ]
    },
    {
      "cell_type": "markdown",
      "source": [
        "정수 2개 입력받아 큰 값 출력하기 단, 3항 연산을 사용한다.\n",
        "\n",
        "\n",
        "참고\n",
        "3개의 요소로 이루어지는 3항 연산은\n",
        "\"x if C else y\" 의 형태로 작성이 된다.\n",
        "- C : True 또는 False 를 평가할 조건식(conditional expression) 또는 값\n",
        "- x : C의 평가 결과가 True 일 때 사용할 값\n",
        "- y : C의 평가 결과가 True 가 아닐 때 사용할 값\n"
      ],
      "metadata": {
        "id": "u0zH75ao_Pzz"
      }
    },
    {
      "cell_type": "code",
      "source": [
        "a,b = map(int,input().split())\n",
        "print(a if (a>b) else b)"
      ],
      "metadata": {
        "colab": {
          "base_uri": "https://localhost:8080/"
        },
        "id": "5--lQlss_P48",
        "outputId": "17d50df9-a50a-4436-941e-645ac4b6f31d"
      },
      "execution_count": 10,
      "outputs": [
        {
          "output_type": "stream",
          "name": "stdout",
          "text": [
            "4 8\n",
            "8\n"
          ]
        }
      ]
    }
  ]
}