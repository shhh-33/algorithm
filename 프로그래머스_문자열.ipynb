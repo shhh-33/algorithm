{
  "nbformat": 4,
  "nbformat_minor": 0,
  "metadata": {
    "colab": {
      "name": "프로그래머스-문자열.ipynb",
      "provenance": [],
      "authorship_tag": "ABX9TyPV4UTwu4qyyb4/evdeY21i",
      "include_colab_link": true
    },
    "kernelspec": {
      "name": "python3",
      "display_name": "Python 3"
    },
    "language_info": {
      "name": "python"
    }
  },
  "cells": [
    {
      "cell_type": "markdown",
      "metadata": {
        "id": "view-in-github",
        "colab_type": "text"
      },
      "source": [
        "<a href=\"https://colab.research.google.com/github/shhh-33/algorithm/blob/shhh/%ED%94%84%EB%A1%9C%EA%B7%B8%EB%9E%98%EB%A8%B8%EC%8A%A4_%EB%AC%B8%EC%9E%90%EC%97%B4.ipynb\" target=\"_parent\"><img src=\"https://colab.research.google.com/assets/colab-badge.svg\" alt=\"Open In Colab\"/></a>"
      ]
    },
    {
      "cell_type": "markdown",
      "source": [
        "\n",
        "문자열 s의 길이가 4 혹은 6이고, 숫자로만 구성돼있는지 확인해주는 함수,\n",
        "solution을 완성하세요.\n",
        "\n",
        "\n",
        "예를 들어 s가 \"a234\"이면 False를 리턴하고 \"1234\"라면 True를 리턴하면 됩니다.\n"
      ],
      "metadata": {
        "id": "LKsDhpbYZAO7"
      }
    },
    {
      "cell_type": "code",
      "execution_count": 1,
      "metadata": {
        "colab": {
          "base_uri": "https://localhost:8080/"
        },
        "id": "sv_f8yu4Y_xK",
        "outputId": "a494d2ab-ff17-477b-81f1-53fbe309aa52"
      },
      "outputs": [
        {
          "output_type": "stream",
          "name": "stdout",
          "text": [
            "False\n"
          ]
        }
      ],
      "source": [
        "def solution(s):\n",
        "    if(len(s)==4 or len(s)==6):\n",
        "        if s.isdigit():\n",
        "            return True\n",
        "        else:\n",
        "            return False\n",
        "    else:\n",
        "        return False\n",
        "\n",
        "print(solution(\"a234\"))"
      ]
    },
    {
      "cell_type": "code",
      "source": [
        "def solution(s):\n",
        "\n",
        "    return s.isdigit() and (len(s) == 4 or len(s) == 6)\n",
        "    \n",
        "print(solution(\"a234\"))"
      ],
      "metadata": {
        "colab": {
          "base_uri": "https://localhost:8080/"
        },
        "id": "S0i4s_chZpPr",
        "outputId": "f28632e6-990d-47df-a2de-3c4c8e16489d"
      },
      "execution_count": 5,
      "outputs": [
        {
          "output_type": "stream",
          "name": "stdout",
          "text": [
            "False\n"
          ]
        }
      ]
    },
    {
      "cell_type": "markdown",
      "source": [
        "대문자와 소문자가 섞여있는 문자열 s가 주어집니다.\n",
        "s에 'p'의 개수와 'y'의 개수를 비교해 같으면 True, \n",
        "다르면 False를 return \n",
        "\n",
        "('p', 'y' 모두 하나도 없는 경우는 항상 True를 리턴) \n",
        "\n",
        "단, 개수를 비교할 때 대문자와 소문자는 구별하지 않습니다.\n",
        "\n",
        "예를 들어 s가 \"pPoooyY\"면 true를 return하고 \"Pyy\"라면 false를 return합니다."
      ],
      "metadata": {
        "id": "KIyfTZlsZBLM"
      }
    },
    {
      "cell_type": "code",
      "source": [
        "def solution(s):\n",
        "    answer = True\n",
        "    p=0\n",
        "    y=0\n",
        "    s =s.upper()\n",
        "    \n",
        "    for i in range(len(s)):  \n",
        "        if(s[i]=='P'):\n",
        "            p +=1\n",
        "        elif(s[i]=='Y'):\n",
        "            y +=1\n",
        "            \n",
        "    if(p==y):\n",
        "        return True\n",
        "    else:\n",
        "        return False\n",
        "        \n",
        "    return answer\n",
        "\n",
        "\n",
        "print(solution(\"pPoooyY34\"))"
      ],
      "metadata": {
        "colab": {
          "base_uri": "https://localhost:8080/"
        },
        "id": "Uj64uxsCZBRv",
        "outputId": "c8453db4-cf13-4168-c778-b55167d19431"
      },
      "execution_count": 3,
      "outputs": [
        {
          "output_type": "stream",
          "name": "stdout",
          "text": [
            "True\n"
          ]
        }
      ]
    },
    {
      "cell_type": "code",
      "source": [
        "def numPY(s):\n",
        "    # 함수를 완성하세요\n",
        "    return s.lower().count('p') == s.lower().count('y')\n",
        "\n",
        "# 아래는 테스트로 출력해 보기 위한 코드입니다.\n",
        "print( numPY(\"pPoooyY\") )\n",
        "print( numPY(\"Pyy\") )"
      ],
      "metadata": {
        "colab": {
          "base_uri": "https://localhost:8080/"
        },
        "id": "8XvEjHD-ZwVI",
        "outputId": "5b2861bd-5247-473d-bf6e-ade3418ce17d"
      },
      "execution_count": 6,
      "outputs": [
        {
          "output_type": "stream",
          "name": "stdout",
          "text": [
            "True\n",
            "False\n"
          ]
        }
      ]
    },
    {
      "cell_type": "code",
      "source": [
        "def numPY(s):\n",
        "   \n",
        "    s = s.lower()\n",
        "    num_p = s.count('p')\n",
        "    num_y = s.count('y')\n",
        "    \n",
        "    if num_p == num_y: \n",
        "        return True\n",
        "    else: \n",
        "        return False\n",
        "\n",
        "print( numPY(\"pPoooyY\") )\n",
        "print( numPY(\"Pyy\") )"
      ],
      "metadata": {
        "colab": {
          "base_uri": "https://localhost:8080/"
        },
        "id": "X-fM7ekBZx4n",
        "outputId": "8ec033e0-5bff-47f5-9486-609dc0c8e988"
      },
      "execution_count": 7,
      "outputs": [
        {
          "output_type": "stream",
          "name": "stdout",
          "text": [
            "True\n",
            "False\n"
          ]
        }
      ]
    },
    {
      "cell_type": "markdown",
      "source": [
        "단어 s의 가운데 글자를 반환하는 함수, solution을 만들어 보세요.\n",
        "\n",
        "\n",
        "단어의 길이가 짝수라면 가운데 두글자를 반환하면 됩니다."
      ],
      "metadata": {
        "id": "lx5pJnGtZBWq"
      }
    },
    {
      "cell_type": "code",
      "source": [
        "def solution(s):\n",
        "    \n",
        "    if(len(s) %2 ==0):\n",
        "        return s[(len(s)//2-1) : (len(s)//2+1)]\n",
        "    else:\n",
        "        return s[len(s)//2]\n",
        "\n",
        "print(solution(\"power\"))\n",
        "        "
      ],
      "metadata": {
        "colab": {
          "base_uri": "https://localhost:8080/"
        },
        "id": "Em5CTTw9ZBd7",
        "outputId": "c2861843-2f18-407f-f31a-41407638cb1c"
      },
      "execution_count": 4,
      "outputs": [
        {
          "output_type": "stream",
          "name": "stdout",
          "text": [
            "w\n"
          ]
        }
      ]
    }
  ]
}